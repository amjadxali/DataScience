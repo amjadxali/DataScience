{
 "cells": [
  {
   "cell_type": "code",
   "execution_count": 1,
   "id": "d2c5d9c6-43af-4275-9fd1-605ddcd1f6f8",
   "metadata": {},
   "outputs": [
    {
     "name": "stdout",
     "output_type": "stream",
     "text": [
      "Collecting yfinance\n",
      "  Downloading yfinance-0.2.54-py2.py3-none-any.whl.metadata (5.8 kB)\n",
      "Requirement already satisfied: pandas>=1.3.0 in /opt/conda/lib/python3.12/site-packages (from yfinance) (2.2.3)\n",
      "Requirement already satisfied: numpy>=1.16.5 in /opt/conda/lib/python3.12/site-packages (from yfinance) (2.2.3)\n",
      "Requirement already satisfied: requests>=2.31 in /opt/conda/lib/python3.12/site-packages (from yfinance) (2.32.3)\n",
      "Collecting multitasking>=0.0.7 (from yfinance)\n",
      "  Downloading multitasking-0.0.11-py3-none-any.whl.metadata (5.5 kB)\n",
      "Requirement already satisfied: platformdirs>=2.0.0 in /opt/conda/lib/python3.12/site-packages (from yfinance) (4.3.6)\n",
      "Requirement already satisfied: pytz>=2022.5 in /opt/conda/lib/python3.12/site-packages (from yfinance) (2024.2)\n",
      "Requirement already satisfied: frozendict>=2.3.4 in /opt/conda/lib/python3.12/site-packages (from yfinance) (2.4.6)\n",
      "Collecting peewee>=3.16.2 (from yfinance)\n",
      "  Downloading peewee-3.17.9.tar.gz (3.0 MB)\n",
      "\u001b[2K     \u001b[90m━━━━━━━━━━━━━━━━━━━━━━━━━━━━━━━━━━━━━━━━\u001b[0m \u001b[32m3.0/3.0 MB\u001b[0m \u001b[31m51.7 MB/s\u001b[0m eta \u001b[36m0:00:00\u001b[0m\n",
      "  Installing build dependencies ... \u001b[?done\n",
      "\u001b[?25h  Getting requirements to build wheel ... \u001b[?25ldone\n",
      "\u001b[?25h  Preparing metadata (pyproject.toml) ... \u001b[?25ldone\n",
      "\u001b[?25hRequirement already satisfied: beautifulsoup4>=4.11.1 in /opt/conda/lib/python3.12/site-packages (from yfinance) (4.12.3)\n",
      "Requirement already satisfied: soupsieve>1.2 in /opt/conda/lib/python3.12/site-packages (from beautifulsoup4>=4.11.1->yfinance) (2.5)\n",
      "Requirement already satisfied: python-dateutil>=2.8.2 in /opt/conda/lib/python3.12/site-packages (from pandas>=1.3.0->yfinance) (2.9.0.post0)\n",
      "Requirement already satisfied: tzdata>=2022.7 in /opt/conda/lib/python3.12/site-packages (from pandas>=1.3.0->yfinance) (2025.1)\n",
      "Requirement already satisfied: charset_normalizer<4,>=2 in /opt/conda/lib/python3.12/site-packages (from requests>=2.31->yfinance) (3.4.1)\n",
      "Requirement already satisfied: idna<4,>=2.5 in /opt/conda/lib/python3.12/site-packages (from requests>=2.31->yfinance) (3.10)\n",
      "Requirement already satisfied: urllib3<3,>=1.21.1 in /opt/conda/lib/python3.12/site-packages (from requests>=2.31->yfinance) (2.3.0)\n",
      "Requirement already satisfied: certifi>=2017.4.17 in /opt/conda/lib/python3.12/site-packages (from requests>=2.31->yfinance) (2024.12.14)\n",
      "Requirement already satisfied: six>=1.5 in /opt/conda/lib/python3.12/site-packages (from python-dateutil>=2.8.2->pandas>=1.3.0->yfinance) (1.17.0)\n",
      "Downloading yfinance-0.2.54-py2.py3-none-any.whl (108 kB)\n",
      "Downloading multitasking-0.0.11-py3-none-any.whl (8.5 kB)\n",
      "Building wheels for collected packages: peewee\n",
      "  Building wheel for peewee (pyproject.toml) ... \u001b[?done\n",
      "\u001b[?25h  Created wheel for peewee: filename=peewee-3.17.9-cp312-cp312-linux_x86_64.whl size=303802 sha256=082e4503023f6777a94650adf9fc9b8e7a9d4dd249a23b434020df34cb99e905\n",
      "  Stored in directory: /home/jupyterlab/.cache/pip/wheels/43/ef/2d/2c51d496bf084945ffdf838b4cc8767b8ba1cc20eb41588831\n",
      "Successfully built peewee\n",
      "Installing collected packages: peewee, multitasking, yfinance\n",
      "Successfully installed multitasking-0.0.11 peewee-3.17.9 yfinance-0.2.54\n",
      "Requirement already satisfied: bs4 in /opt/conda/lib/python3.12/site-packages (0.0.2)\n",
      "Requirement already satisfied: beautifulsoup4 in /opt/conda/lib/python3.12/site-packages (from bs4) (4.12.3)\n",
      "Requirement already satisfied: soupsieve>1.2 in /opt/conda/lib/python3.12/site-packages (from beautifulsoup4->bs4) (2.5)\n",
      "Requirement already satisfied: nbformat in /opt/conda/lib/python3.12/site-packages (5.10.4)\n",
      "Requirement already satisfied: fastjsonschema>=2.15 in /opt/conda/lib/python3.12/site-packages (from nbformat) (2.21.1)\n",
      "Requirement already satisfied: jsonschema>=2.6 in /opt/conda/lib/python3.12/site-packages (from nbformat) (4.23.0)\n",
      "Requirement already satisfied: jupyter-core!=5.0.*,>=4.12 in /opt/conda/lib/python3.12/site-packages (from nbformat) (5.7.2)\n",
      "Requirement already satisfied: traitlets>=5.1 in /opt/conda/lib/python3.12/site-packages (from nbformat) (5.14.3)\n",
      "Requirement already satisfied: attrs>=22.2.0 in /opt/conda/lib/python3.12/site-packages (from jsonschema>=2.6->nbformat) (25.1.0)\n",
      "Requirement already satisfied: jsonschema-specifications>=2023.03.6 in /opt/conda/lib/python3.12/site-packages (from jsonschema>=2.6->nbformat) (2024.10.1)\n",
      "Requirement already satisfied: referencing>=0.28.4 in /opt/conda/lib/python3.12/site-packages (from jsonschema>=2.6->nbformat) (0.36.2)\n",
      "Requirement already satisfied: rpds-py>=0.7.1 in /opt/conda/lib/python3.12/site-packages (from jsonschema>=2.6->nbformat) (0.22.3)\n",
      "Requirement already satisfied: platformdirs>=2.5 in /opt/conda/lib/python3.12/site-packages (from jupyter-core!=5.0.*,>=4.12->nbformat) (4.3.6)\n",
      "Requirement already satisfied: typing-extensions>=4.4.0 in /opt/conda/lib/python3.12/site-packages (from referencing>=0.28.4->jsonschema>=2.6->nbformat) (4.12.2)\n"
     ]
    }
   ],
   "source": [
    "!pip install yfinance\n",
    "!pip install bs4\n",
    "!pip install nbformat"
   ]
  },
  {
   "cell_type": "code",
   "execution_count": 8,
   "id": "32735503-bbbc-48d5-8386-cf902d1c0a24",
   "metadata": {},
   "outputs": [],
   "source": [
    "import yfinance as yf\n",
    "import pandas as pd\n",
    "import requests\n",
    "from bs4 import BeautifulSoup\n",
    "import plotly.graph_objects as go\n",
    "from plotly.subplots import make_subplots"
   ]
  },
  {
   "cell_type": "code",
   "execution_count": 9,
   "id": "eddd777b-fb3d-4e99-bc19-48e8122ed895",
   "metadata": {},
   "outputs": [],
   "source": [
    "import warnings\n",
    "# Ignore all warnings\n",
    "warnings.filterwarnings(\"ignore\", category=FutureWarning)"
   ]
  },
  {
   "cell_type": "code",
   "execution_count": 10,
   "id": "6124aa2a-77e4-4c52-b716-cad96ab6a879",
   "metadata": {},
   "outputs": [],
   "source": [
    "def make_graph(stock_data, revenue_data, stock):\n",
    "    fig = make_subplots(rows=2, cols=1, shared_xaxes=True, subplot_titles=(\"Historical Share Price\", \"Historical Revenue\"), vertical_spacing = .3)\n",
    "    stock_data_specific = stock_data[stock_data.Date <= '2021-06-14']\n",
    "    revenue_data_specific = revenue_data[revenue_data.Date <= '2021-04-30']\n",
    "    fig.add_trace(go.Scatter(x=pd.to_datetime(stock_data_specific.Date, infer_datetime_format=True), y=stock_data_specific.Close.astype(\"float\"), name=\"Share Price\"), row=1, col=1)\n",
    "    fig.add_trace(go.Scatter(x=pd.to_datetime(revenue_data_specific.Date, infer_datetime_format=True), y=revenue_data_specific.Revenue.astype(\"float\"), name=\"Revenue\"), row=2, col=1)\n",
    "    fig.update_xaxes(title_text=\"Date\", row=1, col=1)\n",
    "    fig.update_xaxes(title_text=\"Date\", row=2, col=1)\n",
    "    fig.update_yaxes(title_text=\"Price ($US)\", row=1, col=1)\n",
    "    fig.update_yaxes(title_text=\"Revenue ($US Millions)\", row=2, col=1)\n",
    "    fig.update_layout(showlegend=False,\n",
    "    height=900,\n",
    "    title=stock,\n",
    "    xaxis_rangeslider_visible=True)\n",
    "    fig.show()"
   ]
  },
  {
   "cell_type": "code",
   "execution_count": 11,
   "id": "6d86410f-6bc2-4230-97ec-9c1925c1b420",
   "metadata": {},
   "outputs": [],
   "source": [
    "Tesla = yf.Ticker(\"TSLA\")"
   ]
  },
  {
   "cell_type": "code",
   "execution_count": 12,
   "id": "961e7e9f-3fa1-49eb-9525-5085a0ae77fe",
   "metadata": {},
   "outputs": [],
   "source": [
    "tesla_data = Tesla.history(period = \"max\")"
   ]
  },
  {
   "cell_type": "code",
   "execution_count": 13,
   "id": "bb51ac3d-62b0-4d79-a67a-0aa2bce2fc1a",
   "metadata": {},
   "outputs": [
    {
     "data": {
      "text/html": [
       "<div>\n",
       "<style scoped>\n",
       "    .dataframe tbody tr th:only-of-type {\n",
       "        vertical-align: middle;\n",
       "    }\n",
       "\n",
       "    .dataframe tbody tr th {\n",
       "        vertical-align: top;\n",
       "    }\n",
       "\n",
       "    .dataframe thead th {\n",
       "        text-align: right;\n",
       "    }\n",
       "</style>\n",
       "<table border=\"1\" class=\"dataframe\">\n",
       "  <thead>\n",
       "    <tr style=\"text-align: right;\">\n",
       "      <th></th>\n",
       "      <th>Date</th>\n",
       "      <th>Open</th>\n",
       "      <th>High</th>\n",
       "      <th>Low</th>\n",
       "      <th>Close</th>\n",
       "      <th>Volume</th>\n",
       "      <th>Dividends</th>\n",
       "      <th>Stock Splits</th>\n",
       "    </tr>\n",
       "  </thead>\n",
       "  <tbody>\n",
       "    <tr>\n",
       "      <th>0</th>\n",
       "      <td>2010-06-29 00:00:00-04:00</td>\n",
       "      <td>1.266667</td>\n",
       "      <td>1.666667</td>\n",
       "      <td>1.169333</td>\n",
       "      <td>1.592667</td>\n",
       "      <td>281494500</td>\n",
       "      <td>0.0</td>\n",
       "      <td>0.0</td>\n",
       "    </tr>\n",
       "    <tr>\n",
       "      <th>1</th>\n",
       "      <td>2010-06-30 00:00:00-04:00</td>\n",
       "      <td>1.719333</td>\n",
       "      <td>2.028000</td>\n",
       "      <td>1.553333</td>\n",
       "      <td>1.588667</td>\n",
       "      <td>257806500</td>\n",
       "      <td>0.0</td>\n",
       "      <td>0.0</td>\n",
       "    </tr>\n",
       "    <tr>\n",
       "      <th>2</th>\n",
       "      <td>2010-07-01 00:00:00-04:00</td>\n",
       "      <td>1.666667</td>\n",
       "      <td>1.728000</td>\n",
       "      <td>1.351333</td>\n",
       "      <td>1.464000</td>\n",
       "      <td>123282000</td>\n",
       "      <td>0.0</td>\n",
       "      <td>0.0</td>\n",
       "    </tr>\n",
       "    <tr>\n",
       "      <th>3</th>\n",
       "      <td>2010-07-02 00:00:00-04:00</td>\n",
       "      <td>1.533333</td>\n",
       "      <td>1.540000</td>\n",
       "      <td>1.247333</td>\n",
       "      <td>1.280000</td>\n",
       "      <td>77097000</td>\n",
       "      <td>0.0</td>\n",
       "      <td>0.0</td>\n",
       "    </tr>\n",
       "    <tr>\n",
       "      <th>4</th>\n",
       "      <td>2010-07-06 00:00:00-04:00</td>\n",
       "      <td>1.333333</td>\n",
       "      <td>1.333333</td>\n",
       "      <td>1.055333</td>\n",
       "      <td>1.074000</td>\n",
       "      <td>103003500</td>\n",
       "      <td>0.0</td>\n",
       "      <td>0.0</td>\n",
       "    </tr>\n",
       "  </tbody>\n",
       "</table>\n",
       "</div>"
      ],
      "text/plain": [
       "                       Date      Open      High       Low     Close  \\\n",
       "0 2010-06-29 00:00:00-04:00  1.266667  1.666667  1.169333  1.592667   \n",
       "1 2010-06-30 00:00:00-04:00  1.719333  2.028000  1.553333  1.588667   \n",
       "2 2010-07-01 00:00:00-04:00  1.666667  1.728000  1.351333  1.464000   \n",
       "3 2010-07-02 00:00:00-04:00  1.533333  1.540000  1.247333  1.280000   \n",
       "4 2010-07-06 00:00:00-04:00  1.333333  1.333333  1.055333  1.074000   \n",
       "\n",
       "      Volume  Dividends  Stock Splits  \n",
       "0  281494500        0.0           0.0  \n",
       "1  257806500        0.0           0.0  \n",
       "2  123282000        0.0           0.0  \n",
       "3   77097000        0.0           0.0  \n",
       "4  103003500        0.0           0.0  "
      ]
     },
     "execution_count": 13,
     "metadata": {},
     "output_type": "execute_result"
    }
   ],
   "source": [
    "tesla_data.reset_index(inplace=True)\n",
    "tesla_data.head()"
   ]
  },
  {
   "cell_type": "code",
   "execution_count": null,
   "id": "7f62edb9-daef-4252-9224-0bfa13823e75",
   "metadata": {},
   "outputs": [],
   "source": []
  },
  {
   "cell_type": "code",
   "execution_count": 14,
   "id": "697e6e62-e511-4044-b9b6-b4a7fc61be64",
   "metadata": {},
   "outputs": [],
   "source": [
    "url = \"https://cf-courses-data.s3.us.cloud-object-storage.appdomain.cloud/IBMDeveloperSkillsNetwork-PY0220EN-SkillsNetwork/labs/project/revenue.htm\"\n",
    "html_data = requests.get(url).text"
   ]
  },
  {
   "cell_type": "code",
   "execution_count": 15,
   "id": "936cfee0-27e3-40a5-9eb1-b8937deeb7d6",
   "metadata": {},
   "outputs": [],
   "source": [
    "soup = BeautifulSoup(html_data, \"html.parser\")"
   ]
  },
  {
   "cell_type": "code",
   "execution_count": 16,
   "id": "b164301b-ab13-44c1-b509-fbba03fd26c9",
   "metadata": {},
   "outputs": [],
   "source": [
    "revenue_table = soup.find_all(\"tbody\")[1]\n",
    "tesla_revenue = pd.DataFrame(columns=[\"Date\", \"Revenue\"])\n",
    "\n",
    "for row in revenue_table.find_all(\"tr\"):\n",
    "    # 3. For each row, extract all columns (td elements).\n",
    "    cols = row.find_all(\"td\")\n",
    "    # 4. Check that the row has at least two columns (Date and Revenue).\n",
    "    if len(cols) >= 2:\n",
    "        # Extract and clean the text from the first two columns.\n",
    "        date = cols[0].text\n",
    "        revenue = cols[1].text\n",
    "        # 5. Append the extracted data to the DataFrame.\n",
    "        #tesla_revenue = tesla_revenue.append({\"Date\": date, \"Revenue\": revenue}, ignore_index=True)\n",
    "        tesla_revenue = pd.concat([tesla_revenue, pd.DataFrame({\"Date\": [date], \"Revenue\": [revenue]})])\n",
    "#print(tesla_revenue)"
   ]
  },
  {
   "cell_type": "code",
   "execution_count": 17,
   "id": "ad6f5005-7324-46e4-b22d-33de39da81cc",
   "metadata": {},
   "outputs": [],
   "source": [
    "#tesla_revenue[\"Revenue\"] = tesla_revenue['Revenue'].str.replace(',|\\$',\"\")\n",
    "tesla_revenue[\"Revenue\"] = tesla_revenue[\"Revenue\"].str.replace(r\",|\\$\", \"\", regex=True)\n",
    "\n",
    "#print(tesla_revenue)"
   ]
  },
  {
   "cell_type": "code",
   "execution_count": 18,
   "id": "4c20a4ae-713b-4c47-8d16-2f497719784a",
   "metadata": {},
   "outputs": [],
   "source": [
    "tesla_revenue.dropna(inplace=True)\n",
    "\n",
    "#tesla_revenue = tesla_revenue[tesla_revenue['Revenue'] != \"\"]\n",
    "tesla_revenue = tesla_revenue[tesla_revenue['Revenue'].str.strip() != \"\"]"
   ]
  },
  {
   "cell_type": "code",
   "execution_count": 19,
   "id": "7ff59603-3db7-4e62-a51b-58e1702c00b8",
   "metadata": {},
   "outputs": [
    {
     "data": {
      "text/html": [
       "<div>\n",
       "<style scoped>\n",
       "    .dataframe tbody tr th:only-of-type {\n",
       "        vertical-align: middle;\n",
       "    }\n",
       "\n",
       "    .dataframe tbody tr th {\n",
       "        vertical-align: top;\n",
       "    }\n",
       "\n",
       "    .dataframe thead th {\n",
       "        text-align: right;\n",
       "    }\n",
       "</style>\n",
       "<table border=\"1\" class=\"dataframe\">\n",
       "  <thead>\n",
       "    <tr style=\"text-align: right;\">\n",
       "      <th></th>\n",
       "      <th>Date</th>\n",
       "      <th>Revenue</th>\n",
       "    </tr>\n",
       "  </thead>\n",
       "  <tbody>\n",
       "    <tr>\n",
       "      <th>0</th>\n",
       "      <td>2010-09-30</td>\n",
       "      <td>31</td>\n",
       "    </tr>\n",
       "    <tr>\n",
       "      <th>0</th>\n",
       "      <td>2010-06-30</td>\n",
       "      <td>28</td>\n",
       "    </tr>\n",
       "    <tr>\n",
       "      <th>0</th>\n",
       "      <td>2010-03-31</td>\n",
       "      <td>21</td>\n",
       "    </tr>\n",
       "    <tr>\n",
       "      <th>0</th>\n",
       "      <td>2009-09-30</td>\n",
       "      <td>46</td>\n",
       "    </tr>\n",
       "    <tr>\n",
       "      <th>0</th>\n",
       "      <td>2009-06-30</td>\n",
       "      <td>27</td>\n",
       "    </tr>\n",
       "  </tbody>\n",
       "</table>\n",
       "</div>"
      ],
      "text/plain": [
       "         Date Revenue\n",
       "0  2010-09-30      31\n",
       "0  2010-06-30      28\n",
       "0  2010-03-31      21\n",
       "0  2009-09-30      46\n",
       "0  2009-06-30      27"
      ]
     },
     "execution_count": 19,
     "metadata": {},
     "output_type": "execute_result"
    }
   ],
   "source": [
    "tesla_revenue.tail()"
   ]
  },
  {
   "cell_type": "code",
   "execution_count": 20,
   "id": "272154eb-81ae-4a83-ab61-40c150eb7305",
   "metadata": {},
   "outputs": [],
   "source": [
    "gamestop = yf.Ticker(\"GME\")"
   ]
  },
  {
   "cell_type": "code",
   "execution_count": 21,
   "id": "6afe0457-5e3f-4939-b99f-45acf03ae9ed",
   "metadata": {},
   "outputs": [],
   "source": [
    "gme_data = gamestop.history(period = \"max\")"
   ]
  },
  {
   "cell_type": "code",
   "execution_count": 22,
   "id": "3037abc2-6f8d-477e-aa5f-e9f9f1d12721",
   "metadata": {},
   "outputs": [
    {
     "data": {
      "text/html": [
       "<div>\n",
       "<style scoped>\n",
       "    .dataframe tbody tr th:only-of-type {\n",
       "        vertical-align: middle;\n",
       "    }\n",
       "\n",
       "    .dataframe tbody tr th {\n",
       "        vertical-align: top;\n",
       "    }\n",
       "\n",
       "    .dataframe thead th {\n",
       "        text-align: right;\n",
       "    }\n",
       "</style>\n",
       "<table border=\"1\" class=\"dataframe\">\n",
       "  <thead>\n",
       "    <tr style=\"text-align: right;\">\n",
       "      <th></th>\n",
       "      <th>Date</th>\n",
       "      <th>Open</th>\n",
       "      <th>High</th>\n",
       "      <th>Low</th>\n",
       "      <th>Close</th>\n",
       "      <th>Volume</th>\n",
       "      <th>Dividends</th>\n",
       "      <th>Stock Splits</th>\n",
       "    </tr>\n",
       "  </thead>\n",
       "  <tbody>\n",
       "    <tr>\n",
       "      <th>0</th>\n",
       "      <td>2002-02-13 00:00:00-05:00</td>\n",
       "      <td>1.620128</td>\n",
       "      <td>1.693350</td>\n",
       "      <td>1.603296</td>\n",
       "      <td>1.691667</td>\n",
       "      <td>76216000</td>\n",
       "      <td>0.0</td>\n",
       "      <td>0.0</td>\n",
       "    </tr>\n",
       "    <tr>\n",
       "      <th>1</th>\n",
       "      <td>2002-02-14 00:00:00-05:00</td>\n",
       "      <td>1.712707</td>\n",
       "      <td>1.716074</td>\n",
       "      <td>1.670626</td>\n",
       "      <td>1.683250</td>\n",
       "      <td>11021600</td>\n",
       "      <td>0.0</td>\n",
       "      <td>0.0</td>\n",
       "    </tr>\n",
       "    <tr>\n",
       "      <th>2</th>\n",
       "      <td>2002-02-15 00:00:00-05:00</td>\n",
       "      <td>1.683250</td>\n",
       "      <td>1.687458</td>\n",
       "      <td>1.658001</td>\n",
       "      <td>1.674833</td>\n",
       "      <td>8389600</td>\n",
       "      <td>0.0</td>\n",
       "      <td>0.0</td>\n",
       "    </tr>\n",
       "    <tr>\n",
       "      <th>3</th>\n",
       "      <td>2002-02-19 00:00:00-05:00</td>\n",
       "      <td>1.666418</td>\n",
       "      <td>1.666418</td>\n",
       "      <td>1.578047</td>\n",
       "      <td>1.607504</td>\n",
       "      <td>7410400</td>\n",
       "      <td>0.0</td>\n",
       "      <td>0.0</td>\n",
       "    </tr>\n",
       "    <tr>\n",
       "      <th>4</th>\n",
       "      <td>2002-02-20 00:00:00-05:00</td>\n",
       "      <td>1.615921</td>\n",
       "      <td>1.662210</td>\n",
       "      <td>1.603296</td>\n",
       "      <td>1.662210</td>\n",
       "      <td>6892800</td>\n",
       "      <td>0.0</td>\n",
       "      <td>0.0</td>\n",
       "    </tr>\n",
       "  </tbody>\n",
       "</table>\n",
       "</div>"
      ],
      "text/plain": [
       "                       Date      Open      High       Low     Close    Volume  \\\n",
       "0 2002-02-13 00:00:00-05:00  1.620128  1.693350  1.603296  1.691667  76216000   \n",
       "1 2002-02-14 00:00:00-05:00  1.712707  1.716074  1.670626  1.683250  11021600   \n",
       "2 2002-02-15 00:00:00-05:00  1.683250  1.687458  1.658001  1.674833   8389600   \n",
       "3 2002-02-19 00:00:00-05:00  1.666418  1.666418  1.578047  1.607504   7410400   \n",
       "4 2002-02-20 00:00:00-05:00  1.615921  1.662210  1.603296  1.662210   6892800   \n",
       "\n",
       "   Dividends  Stock Splits  \n",
       "0        0.0           0.0  \n",
       "1        0.0           0.0  \n",
       "2        0.0           0.0  \n",
       "3        0.0           0.0  \n",
       "4        0.0           0.0  "
      ]
     },
     "execution_count": 22,
     "metadata": {},
     "output_type": "execute_result"
    }
   ],
   "source": [
    "gme_data.reset_index(inplace=True)\n",
    "gme_data.head()"
   ]
  },
  {
   "cell_type": "code",
   "execution_count": 23,
   "id": "926adda5-f468-4851-8d62-9c95586a3561",
   "metadata": {},
   "outputs": [],
   "source": [
    "url = \"https://cf-courses-data.s3.us.cloud-object-storage.appdomain.cloud/IBMDeveloperSkillsNetwork-PY0220EN-SkillsNetwork/labs/project/stock.html\"\n",
    "html_data_2 = requests.get(url).text"
   ]
  },
  {
   "cell_type": "code",
   "execution_count": 24,
   "id": "2e8f879a-6c36-4a7d-8d74-7a8293d86a1a",
   "metadata": {},
   "outputs": [],
   "source": [
    "soup_2 = BeautifulSoup(html_data_2, \"html.parser\")"
   ]
  },
  {
   "cell_type": "code",
   "execution_count": 25,
   "id": "6ec9e0f0-579b-4ea0-8eb7-9b3a6ff1187c",
   "metadata": {},
   "outputs": [],
   "source": [
    "revenue_table_2 = soup.find_all(\"tbody\")[1]\n",
    "gme_revenue = pd.DataFrame(columns=[\"Date\", \"Revenue\"])\n",
    "\n",
    "for row in revenue_table.find_all(\"tr\"):\n",
    "    # 3. For each row, extract all columns (td elements).\n",
    "    cols = row.find_all(\"td\")\n",
    "    # 4. Check that the row has at least two columns (Date and Revenue).\n",
    "    if len(cols) >= 2:\n",
    "        # Extract and clean the text from the first two columns.\n",
    "        date = cols[0].text\n",
    "        revenue = cols[1].text\n",
    "        # 5. Append the extracted data to the DataFrame.\n",
    "        #tesla_revenue = tesla_revenue.append({\"Date\": date, \"Revenue\": revenue}, ignore_index=True)\n",
    "        gme_revenue = pd.concat([gme_revenue, pd.DataFrame({\"Date\": [date], \"Revenue\": [revenue]})])\n",
    "#print(gme_revenue)\n",
    "gme_revenue[\"Revenue\"] = gme_revenue[\"Revenue\"].str.replace(r\",|\\$\", \"\", regex=True)\n",
    "gme_revenue.dropna(inplace=True)\n",
    "\n",
    "#gme_revenue = gme_revenue[gme_revenue['Revenue'] != \"\"]\n",
    "gme_revenue = gme_revenue[gme_revenue['Revenue'].str.strip() != \"\"]"
   ]
  },
  {
   "cell_type": "code",
   "execution_count": 26,
   "id": "b422a42a-d21d-4732-99e4-a49ce71fdf82",
   "metadata": {},
   "outputs": [
    {
     "data": {
      "text/html": [
       "<div>\n",
       "<style scoped>\n",
       "    .dataframe tbody tr th:only-of-type {\n",
       "        vertical-align: middle;\n",
       "    }\n",
       "\n",
       "    .dataframe tbody tr th {\n",
       "        vertical-align: top;\n",
       "    }\n",
       "\n",
       "    .dataframe thead th {\n",
       "        text-align: right;\n",
       "    }\n",
       "</style>\n",
       "<table border=\"1\" class=\"dataframe\">\n",
       "  <thead>\n",
       "    <tr style=\"text-align: right;\">\n",
       "      <th></th>\n",
       "      <th>Date</th>\n",
       "      <th>Revenue</th>\n",
       "    </tr>\n",
       "  </thead>\n",
       "  <tbody>\n",
       "    <tr>\n",
       "      <th>0</th>\n",
       "      <td>2010-09-30</td>\n",
       "      <td>31</td>\n",
       "    </tr>\n",
       "    <tr>\n",
       "      <th>0</th>\n",
       "      <td>2010-06-30</td>\n",
       "      <td>28</td>\n",
       "    </tr>\n",
       "    <tr>\n",
       "      <th>0</th>\n",
       "      <td>2010-03-31</td>\n",
       "      <td>21</td>\n",
       "    </tr>\n",
       "    <tr>\n",
       "      <th>0</th>\n",
       "      <td>2009-09-30</td>\n",
       "      <td>46</td>\n",
       "    </tr>\n",
       "    <tr>\n",
       "      <th>0</th>\n",
       "      <td>2009-06-30</td>\n",
       "      <td>27</td>\n",
       "    </tr>\n",
       "  </tbody>\n",
       "</table>\n",
       "</div>"
      ],
      "text/plain": [
       "         Date Revenue\n",
       "0  2010-09-30      31\n",
       "0  2010-06-30      28\n",
       "0  2010-03-31      21\n",
       "0  2009-09-30      46\n",
       "0  2009-06-30      27"
      ]
     },
     "execution_count": 26,
     "metadata": {},
     "output_type": "execute_result"
    }
   ],
   "source": [
    "gme_revenue.tail()"
   ]
  },
  {
   "cell_type": "code",
   "execution_count": 34,
   "id": "18ba27b1-6df8-4dd4-ab77-ab4fcfe443b3",
   "metadata": {},
   "outputs": [
    {
     "name": "stdout",
     "output_type": "stream",
     "text": [
      "Requirement already satisfied: yfinance in /opt/conda/lib/python3.12/site-packages (0.2.54)\n",
      "Requirement already satisfied: plotly in /opt/conda/lib/python3.12/site-packages (5.24.1)\n",
      "Requirement already satisfied: pandas>=1.3.0 in /opt/conda/lib/python3.12/site-packages (from yfinance) (2.2.3)\n",
      "Requirement already satisfied: numpy>=1.16.5 in /opt/conda/lib/python3.12/site-packages (from yfinance) (2.2.3)\n",
      "Requirement already satisfied: requests>=2.31 in /opt/conda/lib/python3.12/site-packages (from yfinance) (2.32.3)\n",
      "Requirement already satisfied: multitasking>=0.0.7 in /opt/conda/lib/python3.12/site-packages (from yfinance) (0.0.11)\n",
      "Requirement already satisfied: platformdirs>=2.0.0 in /opt/conda/lib/python3.12/site-packages (from yfinance) (4.3.6)\n",
      "Requirement already satisfied: pytz>=2022.5 in /opt/conda/lib/python3.12/site-packages (from yfinance) (2024.2)\n",
      "Requirement already satisfied: frozendict>=2.3.4 in /opt/conda/lib/python3.12/site-packages (from yfinance) (2.4.6)\n",
      "Requirement already satisfied: peewee>=3.16.2 in /opt/conda/lib/python3.12/site-packages (from yfinance) (3.17.9)\n",
      "Requirement already satisfied: beautifulsoup4>=4.11.1 in /opt/conda/lib/python3.12/site-packages (from yfinance) (4.12.3)\n",
      "Requirement already satisfied: tenacity>=6.2.0 in /opt/conda/lib/python3.12/site-packages (from plotly) (9.0.0)\n",
      "Requirement already satisfied: packaging in /opt/conda/lib/python3.12/site-packages (from plotly) (24.2)\n",
      "Requirement already satisfied: soupsieve>1.2 in /opt/conda/lib/python3.12/site-packages (from beautifulsoup4>=4.11.1->yfinance) (2.5)\n",
      "Requirement already satisfied: python-dateutil>=2.8.2 in /opt/conda/lib/python3.12/site-packages (from pandas>=1.3.0->yfinance) (2.9.0.post0)\n",
      "Requirement already satisfied: tzdata>=2022.7 in /opt/conda/lib/python3.12/site-packages (from pandas>=1.3.0->yfinance) (2025.1)\n",
      "Requirement already satisfied: charset_normalizer<4,>=2 in /opt/conda/lib/python3.12/site-packages (from requests>=2.31->yfinance) (3.4.1)\n",
      "Requirement already satisfied: idna<4,>=2.5 in /opt/conda/lib/python3.12/site-packages (from requests>=2.31->yfinance) (3.10)\n",
      "Requirement already satisfied: urllib3<3,>=1.21.1 in /opt/conda/lib/python3.12/site-packages (from requests>=2.31->yfinance) (2.3.0)\n",
      "Requirement already satisfied: certifi>=2017.4.17 in /opt/conda/lib/python3.12/site-packages (from requests>=2.31->yfinance) (2024.12.14)\n",
      "Requirement already satisfied: six>=1.5 in /opt/conda/lib/python3.12/site-packages (from python-dateutil>=2.8.2->pandas>=1.3.0->yfinance) (1.17.0)\n"
     ]
    },
    {
     "name": "stderr",
     "output_type": "stream",
     "text": [
      "[*********************100%***********************]  1 of 1 completed\n"
     ]
    },
    {
     "data": {
      "application/vnd.plotly.v1+json": {
       "config": {
        "plotlyServerURL": "https://plot.ly"
       },
       "data": [
        {
         "close": [
          [
           28.68400001525879
          ],
          [
           29.534000396728516
          ],
          [
           30.1026668548584
          ],
          [
           31.270666122436523
          ],
          [
           32.80933380126953
          ],
          [
           32.089332580566406
          ],
          [
           31.876667022705078
          ],
          [
           34.990665435791016
          ],
          [
           35.861331939697266
          ],
          [
           34.56666564941406
          ],
          [
           34.232666015625
          ],
          [
           34.03333282470703
          ],
          [
           36.47999954223633
          ],
          [
           37.97066879272461
          ],
          [
           38.14666748046875
          ],
          [
           37.654666900634766
          ],
          [
           37.201332092285156
          ],
          [
           37.793331146240234
          ],
          [
           38.732666015625
          ],
          [
           42.72066879272461
          ],
          [
           43.371334075927734
          ],
          [
           52
          ],
          [
           59.137332916259766
          ],
          [
           48.97999954223633
          ],
          [
           49.930667877197266
          ],
          [
           49.871334075927734
          ],
          [
           51.41866683959961
          ],
          [
           51.62533187866211
          ],
          [
           51.15266799926758
          ],
          [
           53.599998474121094
          ],
          [
           53.33533477783203
          ],
          [
           57.22666549682617
          ],
          [
           61.16133117675781
          ],
          [
           59.96066665649414
          ],
          [
           60.06666564941406
          ],
          [
           55.58599853515625
          ],
          [
           53.32733154296875
          ],
          [
           51.91999816894531
          ],
          [
           45.266666412353516
          ],
          [
           44.53266525268555
          ],
          [
           49.574668884277344
          ],
          [
           49.70066833496094
          ],
          [
           49.96666717529297
          ],
          [
           48.30266571044922
          ],
          [
           46.89866638183594
          ],
          [
           40.53333282470703
          ],
          [
           43.02199935913086
          ],
          [
           42.28200149536133
          ],
          [
           37.369998931884766
          ],
          [
           36.44133377075195
          ],
          [
           29.67133331298828
          ],
          [
           28.68000030517578
          ],
          [
           24.08133316040039
          ],
          [
           28.50933265686035
          ],
          [
           28.50200080871582
          ],
          [
           28.952667236328125
          ],
          [
           33.66666793823242
          ],
          [
           35.95000076293945
          ],
          [
           35.21066665649414
          ],
          [
           34.29066848754883
          ],
          [
           33.47533416748047
          ],
          [
           34.93333435058594
          ],
          [
           32.104000091552734
          ],
          [
           30.29800033569336
          ],
          [
           32.000667572021484
          ],
          [
           34.41600036621094
          ],
          [
           36.36333465576172
          ],
          [
           36.589332580566406
          ],
          [
           38.20000076293945
          ],
          [
           43.39666748046875
          ],
          [
           47.32600021362305
          ],
          [
           48.65533447265625
          ],
          [
           49.680667877197266
          ],
          [
           50.259334564208984
          ],
          [
           49.75733184814453
          ],
          [
           45.781333923339844
          ],
          [
           48.807334899902344
          ],
          [
           47.04199981689453
          ],
          [
           48.34333419799805
          ],
          [
           53.25
          ],
          [
           51.27466583251953
          ],
          [
           53.367332458496094
          ],
          [
           52.12533187866211
          ],
          [
           46.75466537475586
          ],
          [
           50.74599838256836
          ],
          [
           51.2140007019043
          ],
          [
           52.172000885009766
          ],
          [
           52.00266647338867
          ],
          [
           54.62799835205078
          ],
          [
           54.08599853515625
          ],
          [
           53.96066665649414
          ],
          [
           52.73066711425781
          ],
          [
           53.55533218383789
          ],
          [
           53.27799987792969
          ],
          [
           54.242000579833984
          ],
          [
           53.867332458496094
          ],
          [
           54.37066650390625
          ],
          [
           55.17333221435547
          ],
          [
           54.45866775512695
          ],
          [
           54.591331481933594
          ],
          [
           54.68199920654297
          ],
          [
           53.72066879272461
          ],
          [
           55.66666793823242
          ],
          [
           59.87333297729492
          ],
          [
           58.770668029785156
          ],
          [
           58.86399841308594
          ],
          [
           57.62533187866211
          ],
          [
           59.04399871826172
          ],
          [
           63.327999114990234
          ],
          [
           62.711334228515625
          ],
          [
           68.336669921875
          ],
          [
           64.85600280761719
          ],
          [
           62.35200119018555
          ],
          [
           66.05999755859375
          ],
          [
           65.47533416748047
          ],
          [
           66.11933135986328
          ],
          [
           66.9306640625
          ],
          [
           66.72666931152344
          ],
          [
           66.28800201416016
          ],
          [
           66.78533172607422
          ],
          [
           64.0566635131836
          ],
          [
           65.73200225830078
          ],
          [
           63.982666015625
          ],
          [
           67.29000091552734
          ],
          [
           71.98733520507812
          ],
          [
           74.64199829101562
          ],
          [
           80.57733154296875
          ],
          [
           91.43866729736328
          ],
          [
           92.65733337402344
          ],
          [
           91.05867004394531
          ],
          [
           92.9520034790039
          ],
          [
           102.97666931152344
          ],
          [
           99.80400085449219
          ],
          [
           101.12000274658203
          ],
          [
           103.06732940673828
          ],
          [
           100.04266357421875
          ],
          [
           100.05599975585938
          ],
          [
           109.53333282470703
          ],
          [
           104.55733489990234
          ],
          [
           106.15533447265625
          ],
          [
           100.87133026123047
          ],
          [
           94.46666717529297
          ],
          [
           102.63999938964844
          ],
          [
           98.43267059326172
          ],
          [
           99.94066619873047
          ],
          [
           99.16600036621094
          ],
          [
           95.38400268554688
          ],
          [
           99
          ],
          [
           99.13333129882812
          ],
          [
           99.00133514404297
          ],
          [
           99.30533599853516
          ],
          [
           96.84733581542969
          ],
          [
           94.57133483886719
          ],
          [
           91.6259994506836
          ],
          [
           103.65066528320312
          ],
          [
           108.06666564941406
          ],
          [
           110.04733276367188
          ],
          [
           122.3759994506836
          ],
          [
           125.80599975585938
          ],
          [
           125.23533630371094
          ],
          [
           133.45533752441406
          ],
          [
           136.6653289794922
          ],
          [
           134.27999877929688
          ],
          [
           134.8893280029297
          ],
          [
           143.54466247558594
          ],
          [
           149.25
          ],
          [
           147.55999755859375
          ],
          [
           166.10667419433594
          ],
          [
           158.35000610351562
          ],
          [
           149.1233367919922
          ],
          [
           135.6666717529297
          ],
          [
           139.44000244140625
          ],
          [
           110.06999969482422
          ],
          [
           122.09333038330078
          ],
          [
           123.77999877929688
          ],
          [
           124.23999786376953
          ],
          [
           139.8733367919922
          ],
          [
           149.9199981689453
          ],
          [
           147.25332641601562
          ],
          [
           141.14332580566406
          ],
          [
           147.38333129882812
          ],
          [
           149.79666137695312
          ],
          [
           141.41000366210938
          ],
          [
           126.78666687011719
          ],
          [
           129.26333618164062
          ],
          [
           135.77999877929688
          ],
          [
           140.39999389648438
          ],
          [
           139.69000244140625
          ],
          [
           143.00332641601562
          ],
          [
           149.3866729736328
          ],
          [
           138.3633270263672
          ],
          [
           141.89332580566406
          ],
          [
           137.9933319091797
          ],
          [
           141.76666259765625
          ],
          [
           141.97332763671875
          ],
          [
           144.6666717529297
          ],
          [
           147.43333435058594
          ],
          [
           148.88333129882812
          ],
          [
           153.76666259765625
          ],
          [
           149.6266632080078
          ],
          [
           146.55667114257812
          ],
          [
           143.61000061035156
          ],
          [
           140.64666748046875
          ],
          [
           140.8800048828125
          ],
          [
           141.92999267578125
          ],
          [
           140.2100067138672
          ],
          [
           140.0933380126953
          ],
          [
           141.55999755859375
          ],
          [
           135.33999633789062
          ],
          [
           136.94332885742188
          ],
          [
           129.34666442871094
          ],
          [
           133.50332641601562
          ],
          [
           141.3000030517578
          ],
          [
           140.32666015625
          ],
          [
           146.02999877929688
          ],
          [
           143.31666564941406
          ],
          [
           140.4199981689453
          ],
          [
           136.7866668701172
          ],
          [
           139.0433349609375
          ],
          [
           137.25332641601562
          ],
          [
           136.1666717529297
          ],
          [
           136.02999877929688
          ],
          [
           147.20333862304688
          ],
          [
           162.2133331298828
          ],
          [
           166.42333984375
          ],
          [
           163.20333862304688
          ],
          [
           173.9499969482422
          ],
          [
           185.1266632080078
          ],
          [
           191.3333282470703
          ],
          [
           195.25332641601562
          ],
          [
           189.1999969482422
          ],
          [
           194.9199981689453
          ],
          [
           189.60667419433594
          ],
          [
           197.7933349609375
          ],
          [
           199.67999267578125
          ],
          [
           213.9199981689453
          ],
          [
           216.6266632080078
          ],
          [
           201.4933319091797
          ],
          [
           209.02333068847656
          ],
          [
           203.3300018310547
          ],
          [
           213.27667236328125
          ],
          [
           211.0833282470703
          ],
          [
           207.58999633789062
          ],
          [
           218.63333129882812
          ],
          [
           231.6666717529297
          ],
          [
           216.6199951171875
          ],
          [
           213.44667053222656
          ],
          [
           215.32666015625
          ],
          [
           220.58999633789062
          ],
          [
           221.22999572753906
          ],
          [
           221.99667358398438
          ],
          [
           231.5933380126953
          ],
          [
           235.22332763671875
          ],
          [
           243.2566680908203
          ],
          [
           245.0366668701172
          ],
          [
           251.9933319091797
          ],
          [
           272.0133361816406
          ],
          [
           293.3399963378906
          ],
          [
           270.39666748046875
          ],
          [
           283.14666748046875
          ],
          [
           284.8033447265625
          ],
          [
           281.6666564941406
          ],
          [
           275.38665771484375
          ],
          [
           281.51666259765625
          ],
          [
           283.48333740234375
          ],
          [
           281.663330078125
          ],
          [
           282.21331787109375
          ],
          [
           293.6000061035156
          ],
          [
           294.36334228515625
          ],
          [
           288.0533447265625
          ],
          [
           278.4766540527344
          ],
          [
           264.510009765625
          ],
          [
           279.9366760253906
          ],
          [
           290.92999267578125
          ],
          [
           284.89666748046875
          ],
          [
           283.3299865722656
          ],
          [
           284.07666015625
          ],
          [
           287.8066711425781
          ],
          [
           283.1533203125
          ],
          [
           268.2733459472656
          ],
          [
           270.5533447265625
          ],
          [
           272.0400085449219
          ],
          [
           265.40667724609375
          ],
          [
           266.04998779296875
          ],
          [
           262.4599914550781
          ],
          [
           260.4333190917969
          ],
          [
           238.1666717529297
          ],
          [
           232.94667053222656
          ],
          [
           247.33999633789062
          ],
          [
           227.4066619873047
          ],
          [
           225.1666717529297
          ],
          [
           239.47666931152344
          ],
          [
           228.81333923339844
          ],
          [
           217.73333740234375
          ],
          [
           207.14666748046875
          ],
          [
           199.31666564941406
          ],
          [
           187.6666717529297
          ],
          [
           224.52667236328125
          ],
          [
           222.68666076660156
          ],
          [
           233.1999969482422
          ],
          [
           231.2433319091797
          ],
          [
           235.97999572753906
          ],
          [
           225.6266632080078
          ],
          [
           233.93666076660156
          ],
          [
           217.72000122070312
          ],
          [
           218.2899932861328
          ],
          [
           223.3333282470703
          ],
          [
           220.72000122070312
          ],
          [
           210.08999633789062
          ],
          [
           213.4633331298828
          ],
          [
           206.23666381835938
          ],
          [
           203.76333618164062
          ],
          [
           211.8733367919922
          ],
          [
           222.64332580566406
          ],
          [
           220.5833282470703
          ],
          [
           230.35000610351562
          ],
          [
           230.5399932861328
          ],
          [
           223.6566619873047
          ],
          [
           227.93333435058594
          ],
          [
           225.67333984375
          ],
          [
           233.9933319091797
          ],
          [
           254.10667419433594
          ],
          [
           244.07666015625
          ],
          [
           246.28334045410156
          ],
          [
           246.5933380126953
          ],
          [
           238.2100067138672
          ],
          [
           239.663330078125
          ],
          [
           248.0399932861328
          ],
          [
           239.89666748046875
          ],
          [
           243.13333129882812
          ],
          [
           246.06666564941406
          ],
          [
           234.913330078125
          ],
          [
           231.46665954589844
          ],
          [
           225.6666717529297
          ],
          [
           236.47999572753906
          ],
          [
           228.3000030517578
          ],
          [
           224.53334045410156
          ],
          [
           223.64666748046875
          ],
          [
           221.17999267578125
          ],
          [
           224.1233367919922
          ],
          [
           209.67999267578125
          ],
          [
           205.73333740234375
          ],
          [
           196.6300048828125
          ],
          [
           190.56333923339844
          ],
          [
           196.5800018310547
          ],
          [
           192.27667236328125
          ],
          [
           192.6233367919922
          ],
          [
           187.82000732421875
          ],
          [
           195.5933380126953
          ],
          [
           193.6266632080078
          ],
          [
           202.14666748046875
          ],
          [
           201.56333923339844
          ],
          [
           206.3766632080078
          ],
          [
           210.28334045410156
          ],
          [
           208.4066619873047
          ],
          [
           207.96665954589844
          ],
          [
           201.7066650390625
          ],
          [
           190.94667053222656
          ],
          [
           199.68333435058594
          ],
          [
           201.7100067138672
          ],
          [
           201.19667053222656
          ],
          [
           199.5933380126953
          ],
          [
           203.3733367919922
          ],
          [
           203.29666137695312
          ],
          [
           205.89666748046875
          ],
          [
           199.7866668701172
          ],
          [
           201.6233367919922
          ],
          [
           205.53334045410156
          ],
          [
           207.77000427246094
          ],
          [
           206.94332885742188
          ],
          [
           207.90333557128906
          ],
          [
           218.85667419433594
          ],
          [
           226.60667419433594
          ],
          [
           223.9566650390625
          ],
          [
           229.57333374023438
          ],
          [
           226.9199981689453
          ]
         ],
         "high": [
          [
           28.713333129882812
          ],
          [
           30.266666412353516
          ],
          [
           30.104000091552734
          ],
          [
           31.441999435424805
          ],
          [
           33.232666015625
          ],
          [
           33.253334045410156
          ],
          [
           32.3293342590332
          ],
          [
           35.04199981689453
          ],
          [
           36.49399948120117
          ],
          [
           35.85599899291992
          ],
          [
           34.297332763671875
          ],
          [
           34.37799835205078
          ],
          [
           36.571998596191406
          ],
          [
           39.633331298828125
          ],
          [
           38.79999923706055
          ],
          [
           38.25733184814453
          ],
          [
           37.62933349609375
          ],
          [
           38.45399856567383
          ],
          [
           39.31999969482422
          ],
          [
           43.391998291015625
          ],
          [
           43.53333282470703
          ],
          [
           52.409332275390625
          ],
          [
           64.59933471679688
          ],
          [
           56.39866638183594
          ],
          [
           53.05533218383789
          ],
          [
           51.31666564941406
          ],
          [
           54.66600036621094
          ],
          [
           52.23400115966797
          ],
          [
           52.650001525878906
          ],
          [
           54.53333282470703
          ],
          [
           54.198001861572266
          ],
          [
           57.33333206176758
          ],
          [
           62.98533248901367
          ],
          [
           60.79999923706055
          ],
          [
           60.87066650390625
          ],
          [
           57.56666564941406
          ],
          [
           57.106666564941406
          ],
          [
           54.22066879272461
          ],
          [
           49.31800079345703
          ],
          [
           46.03466796875
          ],
          [
           49.5793342590332
          ],
          [
           53.798667907714844
          ],
          [
           51.10133361816406
          ],
          [
           49.71666717529297
          ],
          [
           47.133331298828125
          ],
          [
           44.20000076293945
          ],
          [
           44.53333282470703
          ],
          [
           43.571998596191406
          ],
          [
           39.633331298828125
          ],
          [
           40.50466537475586
          ],
          [
           32.9913330078125
          ],
          [
           31.456666946411133
          ],
          [
           26.99066734313965
          ],
          [
           30.133333206176758
          ],
          [
           31.799999237060547
          ],
          [
           29.46666717529297
          ],
          [
           34.24599838256836
          ],
          [
           37.133331298828125
          ],
          [
           37.33333206176758
          ],
          [
           35.0533332824707
          ],
          [
           34.44333267211914
          ],
          [
           36.19733428955078
          ],
          [
           34.26333236694336
          ],
          [
           32.95066833496094
          ],
          [
           34.36600112915039
          ],
          [
           34.733333587646484
          ],
          [
           37.66666793823242
          ],
          [
           37.14733123779297
          ],
          [
           38.345333099365234
          ],
          [
           43.46666717529297
          ],
          [
           49.45866775512695
          ],
          [
           50.20866775512695
          ],
          [
           50.630001068115234
          ],
          [
           51.663333892822266
          ],
          [
           51.03799819946289
          ],
          [
           50.22200012207031
          ],
          [
           48.93333435058594
          ],
          [
           48.93333435058594
          ],
          [
           48.71533203125
          ],
          [
           53.29933166503906
          ],
          [
           53.66666793823242
          ],
          [
           53.54666519165039
          ],
          [
           57.987998962402344
          ],
          [
           51.518001556396484
          ],
          [
           50.79999923706055
          ],
          [
           53.26133346557617
          ],
          [
           52.6533317565918
          ],
          [
           53.09333419799805
          ],
          [
           54.93333435058594
          ],
          [
           54.93333435058594
          ],
          [
           56.21933364868164
          ],
          [
           55.06666564941406
          ],
          [
           53.557334899902344
          ],
          [
           53.66999816894531
          ],
          [
           55.64799880981445
          ],
          [
           54.80466842651367
          ],
          [
           55.06666564941406
          ],
          [
           55.5
          ],
          [
           55.45199966430664
          ],
          [
           55.63999938964844
          ],
          [
           55.180667877197266
          ],
          [
           54.983333587646484
          ],
          [
           55.66666793823242
          ],
          [
           59.93333435058594
          ],
          [
           60.57733154296875
          ],
          [
           59.862667083740234
          ],
          [
           59.71666717529297
          ],
          [
           59.10133361816406
          ],
          [
           63.33333206176758
          ],
          [
           63.62933349609375
          ],
          [
           68.49866485595703
          ],
          [
           67.9306640625
          ],
          [
           65.8653335571289
          ],
          [
           66.5893325805664
          ],
          [
           67.52532958984375
          ],
          [
           67
          ],
          [
           67.94667053222656
          ],
          [
           67.73133087158203
          ],
          [
           67.2586669921875
          ],
          [
           67.46666717529297
          ],
          [
           66.72533416748047
          ],
          [
           65.73200225830078
          ],
          [
           66.33333587646484
          ],
          [
           67.33333587646484
          ],
          [
           72.51266479492188
          ],
          [
           75.68866729736328
          ],
          [
           81.86666870117188
          ],
          [
           91.85266876220703
          ],
          [
           95.30000305175781
          ],
          [
           94.48400115966797
          ],
          [
           93.90399932861328
          ],
          [
           103.2613296508789
          ],
          [
           119.66600036621094
          ],
          [
           106
          ],
          [
           103.33333587646484
          ],
          [
           102.11399841308594
          ],
          [
           102.50066375732422
          ],
          [
           110
          ],
          [
           111.66666412353516
          ],
          [
           108.4280014038086
          ],
          [
           112.5999984741211
          ],
          [
           97.66666412353516
          ],
          [
           103.19599914550781
          ],
          [
           104.3133316040039
          ],
          [
           102.32066345214844
          ],
          [
           100.8826675415039
          ],
          [
           101.13666534423828
          ],
          [
           100.65399932861328
          ],
          [
           101.82733154296875
          ],
          [
           99.98933410644531
          ],
          [
           101.15399932861328
          ],
          [
           99.98332977294922
          ],
          [
           97.16666412353516
          ],
          [
           94.66666412353516
          ],
          [
           105.66666412353516
          ],
          [
           110.07866668701172
          ],
          [
           111.25333404541016
          ],
          [
           123.05733489990234
          ],
          [
           128.25999450683594
          ],
          [
           127.4000015258789
          ],
          [
           134.79933166503906
          ],
          [
           139.69932556152344
          ],
          [
           141.93333435058594
          ],
          [
           135.19667053222656
          ],
          [
           144.39999389648438
          ],
          [
           153.0399932861328
          ],
          [
           154.5659942626953
          ],
          [
           166.7133331298828
          ],
          [
           167.49667358398438
          ],
          [
           159.67999267578125
          ],
          [
           143.93333435058594
          ],
          [
           142.6666717529297
          ],
          [
           122.913330078125
          ],
          [
           123
          ],
          [
           132.99667358398438
          ],
          [
           127.5
          ],
          [
           140
          ],
          [
           153.97999572753906
          ],
          [
           152.59666442871094
          ],
          [
           145.92999267578125
          ],
          [
           150.3333282470703
          ],
          [
           151.89332580566406
          ],
          [
           145.9199981689453
          ],
          [
           137.38333129882812
          ],
          [
           133.1666717529297
          ],
          [
           136.2433319091797
          ],
          [
           142.69332885742188
          ],
          [
           142.8333282470703
          ],
          [
           144.64332580566406
          ],
          [
           149.6266632080078
          ],
          [
           146.3766632080078
          ],
          [
           144.54666137695312
          ],
          [
           142.92666625976562
          ],
          [
           143.3000030517578
          ],
          [
           146.3333282470703
          ],
          [
           144.8633270263672
          ],
          [
           149.5800018310547
          ],
          [
           149.6300048828125
          ],
          [
           155.3000030517578
          ],
          [
           152.19000244140625
          ],
          [
           151.98333740234375
          ],
          [
           149
          ],
          [
           143.9166717529297
          ],
          [
           144.31666564941406
          ],
          [
           148.41000366210938
          ],
          [
           140.9633331298828
          ],
          [
           141.9199981689453
          ],
          [
           143.5
          ],
          [
           139.53334045410156
          ],
          [
           139.35333251953125
          ],
          [
           135.8633270263672
          ],
          [
           135.66000366210938
          ],
          [
           142.58999633789062
          ],
          [
           145.13333129882812
          ],
          [
           146.6666717529297
          ],
          [
           145.52333068847656
          ],
          [
           150.8333282470703
          ],
          [
           140.02999877929688
          ],
          [
           139.56666564941406
          ],
          [
           141
          ],
          [
           137.50999450683594
          ],
          [
           137.48333740234375
          ],
          [
           154
          ],
          [
           165.3333282470703
          ],
          [
           169.5366668701172
          ],
          [
           167.5
          ],
          [
           175.3333282470703
          ],
          [
           186.663330078125
          ],
          [
           191.3333282470703
          ],
          [
           199.5933380126953
          ],
          [
           202.60000610351562
          ],
          [
           199.28334045410156
          ],
          [
           190.51333618164062
          ],
          [
           199.6566619873047
          ],
          [
           199.67999267578125
          ],
          [
           216.26333618164062
          ],
          [
           217.0933380126953
          ],
          [
           218.10667419433594
          ],
          [
           209.25
          ],
          [
           208
          ],
          [
           214.25
          ],
          [
           215.63333129882812
          ],
          [
           210.8333282470703
          ],
          [
           219.60667419433594
          ],
          [
           231.6666717529297
          ],
          [
           222.8333282470703
          ],
          [
           216.6266632080078
          ],
          [
           217.1666717529297
          ],
          [
           222.02999877929688
          ],
          [
           227.13333129882812
          ],
          [
           223.3000030517578
          ],
          [
           232.1999969482422
          ],
          [
           239.57333374023438
          ],
          [
           248.163330078125
          ],
          [
           246.94667053222656
          ],
          [
           258
          ],
          [
           272.3299865722656
          ],
          [
           294.8299865722656
          ],
          [
           284.80999755859375
          ],
          [
           289.3333435058594
          ],
          [
           286.8233337402344
          ],
          [
           287.6666564941406
          ],
          [
           286.6333312988281
          ],
          [
           283.3333435058594
          ],
          [
           286.5
          ],
          [
           285.239990234375
          ],
          [
           282.6666564941406
          ],
          [
           300.1333312988281
          ],
          [
           298.6333312988281
          ],
          [
           297.1666564941406
          ],
          [
           282.6666564941406
          ],
          [
           280.8033447265625
          ],
          [
           280.6666564941406
          ],
          [
           293.5
          ],
          [
           292.6933288574219
          ],
          [
           285.5
          ],
          [
           288.25665283203125
          ],
          [
           292.5899963378906
          ],
          [
           286.6000061035156
          ],
          [
           281.6066589355469
          ],
          [
           276.6266784667969
          ],
          [
           272.4433288574219
          ],
          [
           273.6666564941406
          ],
          [
           266.61334228515625
          ],
          [
           264.89666748046875
          ],
          [
           265.5966796875
          ],
          [
           256.1666564941406
          ],
          [
           237.8699951171875
          ],
          [
           248.3333282470703
          ],
          [
           245.73666381835938
          ],
          [
           235.56666564941406
          ],
          [
           239.6666717529297
          ],
          [
           240.3699951171875
          ],
          [
           233.56666564941406
          ],
          [
           222.81666564941406
          ],
          [
           209.27999877929688
          ],
          [
           206.7100067138672
          ],
          [
           226.02999877929688
          ],
          [
           239.28334045410156
          ],
          [
           234.1666717529297
          ],
          [
           231.6266632080078
          ],
          [
           237.72666931152344
          ],
          [
           235.97332763671875
          ],
          [
           234.57666015625
          ],
          [
           229.7433319091797
          ],
          [
           219.07666015625
          ],
          [
           233.2066650390625
          ],
          [
           225.93333435058594
          ],
          [
           222.67333984375
          ],
          [
           215.1666717529297
          ],
          [
           214.60667419433594
          ],
          [
           205.4933319091797
          ],
          [
           212.55332946777344
          ],
          [
           224
          ],
          [
           230.80667114257812
          ],
          [
           236.05332946777344
          ],
          [
           232.18333435058594
          ],
          [
           230.4600067138672
          ],
          [
           229.85000610351562
          ],
          [
           226.99000549316406
          ],
          [
           234.93333435058594
          ],
          [
           254.3333282470703
          ],
          [
           260.2633361816406
          ],
          [
           247.89666748046875
          ],
          [
           249.80332946777344
          ],
          [
           241.8000030517578
          ],
          [
           245.75
          ],
          [
           248.27999877929688
          ],
          [
           251.2566680908203
          ],
          [
           245.7866668701172
          ],
          [
           249.76666259765625
          ],
          [
           241.3333282470703
          ],
          [
           236.1666717529297
          ],
          [
           234.0833282470703
          ],
          [
           238.49000549316406
          ],
          [
           235.3333282470703
          ],
          [
           227.81666564941406
          ],
          [
           228.43333435058594
          ],
          [
           227.0066680908203
          ],
          [
           230
          ],
          [
           221.68333435058594
          ],
          [
           209.03334045410156
          ],
          [
           206.80332946777344
          ],
          [
           202.15333557128906
          ],
          [
           197.6233367919922
          ],
          [
           196.57666015625
          ],
          [
           198.75
          ],
          [
           188.73666381835938
          ],
          [
           196.28334045410156
          ],
          [
           198.89332580566406
          ],
          [
           204.82666015625
          ],
          [
           204.663330078125
          ],
          [
           208.72332763671875
          ],
          [
           210.3766632080078
          ],
          [
           211.8633270263672
          ],
          [
           211.26666259765625
          ],
          [
           207.7866668701172
          ],
          [
           201.51666259765625
          ],
          [
           200.20333862304688
          ],
          [
           203.3333282470703
          ],
          [
           207.69667053222656
          ],
          [
           203.92999267578125
          ],
          [
           205.52999877929688
          ],
          [
           204.18666076660156
          ],
          [
           208.49667358398438
          ],
          [
           205.59666442871094
          ],
          [
           202.8333282470703
          ],
          [
           207.1566619873047
          ],
          [
           209.4499969482422
          ],
          [
           210.4633331298828
          ],
          [
           209.52333068847656
          ],
          [
           219.06666564941406
          ],
          [
           232.5399932861328
          ],
          [
           231.27000427246094
          ],
          [
           231.56666564941406
          ],
          [
           229.1699981689453
          ]
         ],
         "low": [
          [
           28.11400032043457
          ],
          [
           29.128000259399414
          ],
          [
           29.333332061767578
          ],
          [
           30.224000930786133
          ],
          [
           31.215333938598633
          ],
          [
           31.524667739868164
          ],
          [
           31.579999923706055
          ],
          [
           32.79999923706055
          ],
          [
           34.99333190917969
          ],
          [
           34.452667236328125
          ],
          [
           32.81133270263672
          ],
          [
           33.54399871826172
          ],
          [
           35.227333068847656
          ],
          [
           37.27333450317383
          ],
          [
           37.040000915527344
          ],
          [
           36.95066833496094
          ],
          [
           35.95199966430664
          ],
          [
           37.2053337097168
          ],
          [
           37.82866668701172
          ],
          [
           41.20000076293945
          ],
          [
           42.167999267578125
          ],
          [
           44.90133285522461
          ],
          [
           55.59199905395508
          ],
          [
           46.94066619873047
          ],
          [
           45.79999923706055
          ],
          [
           48.66666793823242
          ],
          [
           50.15999984741211
          ],
          [
           50.53333282470703
          ],
          [
           50.891334533691406
          ],
          [
           49
          ],
          [
           52.366668701171875
          ],
          [
           55.490665435791016
          ],
          [
           60.06800079345703
          ],
          [
           57.3293342590332
          ],
          [
           58.6966667175293
          ],
          [
           54.813331604003906
          ],
          [
           52.46666717529297
          ],
          [
           51.740665435791016
          ],
          [
           44.599998474121094
          ],
          [
           40.768001556396484
          ],
          [
           45.77799987792969
          ],
          [
           47.740665435791016
          ],
          [
           48.31533432006836
          ],
          [
           47.871334075927734
          ],
          [
           45.61800003051758
          ],
          [
           40.33333206176758
          ],
          [
           40.53333282470703
          ],
          [
           40.866668701171875
          ],
          [
           36.41666793823242
          ],
          [
           33.46666717529297
          ],
          [
           29.47800064086914
          ],
          [
           26.399999618530273
          ],
          [
           23.367332458496094
          ],
          [
           23.8973331451416
          ],
          [
           28.38599967956543
          ],
          [
           27.366666793823242
          ],
          [
           31.600000381469727
          ],
          [
           34.07400131225586
          ],
          [
           34.150001525878906
          ],
          [
           32.935333251953125
          ],
          [
           32.7486686706543
          ],
          [
           33.133331298828125
          ],
          [
           31.67333221435547
          ],
          [
           29.760000228881836
          ],
          [
           31.22599983215332
          ],
          [
           33.19733428955078
          ],
          [
           35.48933410644531
          ],
          [
           35.55533218383789
          ],
          [
           37.14066696166992
          ],
          [
           38.70199966430664
          ],
          [
           46.1619987487793
          ],
          [
           47.33333206176758
          ],
          [
           47.11466598510742
          ],
          [
           49.84400177001953
          ],
          [
           47.48066711425781
          ],
          [
           44.919334411621094
          ],
          [
           45.91400146484375
          ],
          [
           46.87533187866211
          ],
          [
           46.54533386230469
          ],
          [
           49
          ],
          [
           50.44599914550781
          ],
          [
           52.21066665649414
          ],
          [
           50.900001525878906
          ],
          [
           45.5359992980957
          ],
          [
           46.53333282470703
          ],
          [
           50.8120002746582
          ],
          [
           50.740665435791016
          ],
          [
           51.4900016784668
          ],
          [
           52.46733474731445
          ],
          [
           52.33333206176758
          ],
          [
           53.866668701171875
          ],
          [
           50.88666534423828
          ],
          [
           50.93333435058594
          ],
          [
           52.436668395996094
          ],
          [
           53.59199905395508
          ],
          [
           53.73866653442383
          ],
          [
           54.119998931884766
          ],
          [
           53.06666564941406
          ],
          [
           54.133331298828125
          ],
          [
           54.38066864013672
          ],
          [
           52.33333206176758
          ],
          [
           53.44599914550781
          ],
          [
           53.61399841308594
          ],
          [
           56.939998626708984
          ],
          [
           58.06666564941406
          ],
          [
           58.67333221435547
          ],
          [
           57.229331970214844
          ],
          [
           57.746665954589844
          ],
          [
           60.61066818237305
          ],
          [
           61.595333099365234
          ],
          [
           65.5
          ],
          [
           64.80000305175781
          ],
          [
           60.84000015258789
          ],
          [
           60.56666564941406
          ],
          [
           64.15933227539062
          ],
          [
           65.50466918945312
          ],
          [
           66.2979965209961
          ],
          [
           66.0893325805664
          ],
          [
           66.00133514404297
          ],
          [
           66.267333984375
          ],
          [
           63.542667388916016
          ],
          [
           62.47666549682617
          ],
          [
           63.65800094604492
          ],
          [
           63.23466873168945
          ],
          [
           66.91533660888672
          ],
          [
           72.03333282470703
          ],
          [
           79.04000091552734
          ],
          [
           84.40266418457031
          ],
          [
           89.11399841308594
          ],
          [
           87.42266845703125
          ],
          [
           90.08533477783203
          ],
          [
           91.73400115966797
          ],
          [
           98.0739974975586
          ],
          [
           95.4000015258789
          ],
          [
           97.13333129882812
          ],
          [
           97.73332977294922
          ],
          [
           99.33333587646484
          ],
          [
           99.19999694824219
          ],
          [
           103.86666870117188
          ],
          [
           104.13333129882812
          ],
          [
           98.71800231933594
          ],
          [
           91.10266876220703
          ],
          [
           94.19999694824219
          ],
          [
           98.29467010498047
          ],
          [
           99.13333129882812
          ],
          [
           98.06666564941406
          ],
          [
           94.73200225830078
          ],
          [
           96.29199981689453
          ],
          [
           97.46666717529297
          ],
          [
           97.88733673095703
          ],
          [
           98.48400115966797
          ],
          [
           94.33399963378906
          ],
          [
           92.38933563232422
          ],
          [
           91
          ],
          [
           95.66666412353516
          ],
          [
           104.48400115966797
          ],
          [
           108.44266510009766
          ],
          [
           111.52200317382812
          ],
          [
           123.00733184814453
          ],
          [
           122.74732971191406
          ],
          [
           123.80400085449219
          ],
          [
           135.00332641601562
          ],
          [
           128.50132751464844
          ],
          [
           131.1999969482422
          ],
          [
           136.90866088867188
          ],
          [
           142.8333282470703
          ],
          [
           145.76800537109375
          ],
          [
           146.70333862304688
          ],
          [
           156.836669921875
          ],
          [
           135.0399932861328
          ],
          [
           134
          ],
          [
           124.00666809082031
          ],
          [
           109.95999908447266
          ],
          [
           113.836669921875
          ],
          [
           120.1866683959961
          ],
          [
           120.16666412353516
          ],
          [
           124.43333435058594
          ],
          [
           143.56666564941406
          ],
          [
           145.10333251953125
          ],
          [
           136
          ],
          [
           142.93333435058594
          ],
          [
           135.69000244140625
          ],
          [
           139.1999969482422
          ],
          [
           125.2933349609375
          ],
          [
           117.0999984741211
          ],
          [
           130.43333435058594
          ],
          [
           138.51666259765625
          ],
          [
           137.1999969482422
          ],
          [
           140.1566619873047
          ],
          [
           144.80667114257812
          ],
          [
           138.3333282470703
          ],
          [
           139.77667236328125
          ],
          [
           135.35000610351562
          ],
          [
           137.9499969482422
          ],
          [
           141.76666259765625
          ],
          [
           142.15333557128906
          ],
          [
           146.19332885742188
          ],
          [
           145.53334045410156
          ],
          [
           149.11666870117188
          ],
          [
           147.5
          ],
          [
           146.28334045410156
          ],
          [
           142.9566650390625
          ],
          [
           139.68333435058594
          ],
          [
           140.4166717529297
          ],
          [
           141.50332641601562
          ],
          [
           135.7933349609375
          ],
          [
           136.6666717529297
          ],
          [
           140.03334045410156
          ],
          [
           135.3333282470703
          ],
          [
           135.48666381835938
          ],
          [
           126.37000274658203
          ],
          [
           130.76666259765625
          ],
          [
           135.56333923339844
          ],
          [
           139.03334045410156
          ],
          [
           141.3333282470703
          ],
          [
           141.42666625976562
          ],
          [
           140.3333282470703
          ],
          [
           132.00999450683594
          ],
          [
           136.86000061035156
          ],
          [
           136.5066680908203
          ],
          [
           133.8866729736328
          ],
          [
           134.69667053222656
          ],
          [
           144.336669921875
          ],
          [
           147.8333282470703
          ],
          [
           162.52333068847656
          ],
          [
           163.02000427246094
          ],
          [
           167.26333618164062
          ],
          [
           175.39999389648438
          ],
          [
           181.7899932861328
          ],
          [
           192.81666564941406
          ],
          [
           184.836669921875
          ],
          [
           190.68333435058594
          ],
          [
           180.40333557128906
          ],
          [
           194.14332580566406
          ],
          [
           195.1666717529297
          ],
          [
           201.01666259765625
          ],
          [
           206.1666717529297
          ],
          [
           196
          ],
          [
           188.77999877929688
          ],
          [
           198.93333435058594
          ],
          [
           203.39999389648438
          ],
          [
           207.93333435058594
          ],
          [
           201.6666717529297
          ],
          [
           206.5
          ],
          [
           209.51333618164062
          ],
          [
           215.35667419433594
          ],
          [
           204.7433319091797
          ],
          [
           207.52333068847656
          ],
          [
           213.6666717529297
          ],
          [
           220.26666259765625
          ],
          [
           218.3333282470703
          ],
          [
           222.7866668701172
          ],
          [
           230.3733367919922
          ],
          [
           239.06333923339844
          ],
          [
           239.73333740234375
          ],
          [
           249.6999969482422
          ],
          [
           258.3999938964844
          ],
          [
           279.46331787109375
          ],
          [
           267.8733215332031
          ],
          [
           275.7799987792969
          ],
          [
           277.3333435058594
          ],
          [
           279.5833435058594
          ],
          [
           273.0333251953125
          ],
          [
           277.6666564941406
          ],
          [
           279.09332275390625
          ],
          [
           280.47332763671875
          ],
          [
           276.2066650390625
          ],
          [
           279.6066589355469
          ],
          [
           290.5333251953125
          ],
          [
           286.2200012207031
          ],
          [
           267
          ],
          [
           260.0333251953125
          ],
          [
           265.1866760253906
          ],
          [
           280.73333740234375
          ],
          [
           284.35333251953125
          ],
          [
           277.8066711425781
          ],
          [
           279.65667724609375
          ],
          [
           284.9166564941406
          ],
          [
           280.5833435058594
          ],
          [
           266.67333984375
          ],
          [
           267.24334716796875
          ],
          [
           261.77667236328125
          ],
          [
           264.14666748046875
          ],
          [
           254.00332641601562
          ],
          [
           258.75665283203125
          ],
          [
           259.1233215332031
          ],
          [
           236.73333740234375
          ],
          [
           206.3333282470703
          ],
          [
           231.38999938964844
          ],
          [
           223.52667236328125
          ],
          [
           219.836669921875
          ],
          [
           228.35000610351562
          ],
          [
           228.3333282470703
          ],
          [
           217.23666381835938
          ],
          [
           200
          ],
          [
           179.8300018310547
          ],
          [
           186.26333618164062
          ],
          [
           198.40333557128906
          ],
          [
           218.35333251953125
          ],
          [
           225.72666931152344
          ],
          [
           222.04666137695312
          ],
          [
           228.01333618164062
          ],
          [
           223.6666717529297
          ],
          [
           217.00332641601562
          ],
          [
           217.3333282470703
          ],
          [
           208.2066650390625
          ],
          [
           222.9166717529297
          ],
          [
           219.1699981689453
          ],
          [
           210.0366668701172
          ],
          [
           203.1666717529297
          ],
          [
           199.9633331298828
          ],
          [
           198.67333984375
          ],
          [
           197.00332641601562
          ],
          [
           213.70333862304688
          ],
          [
           219.80667114257812
          ],
          [
           228.23333740234375
          ],
          [
           227.1233367919922
          ],
          [
           222.6133270263672
          ],
          [
           223.88333129882812
          ],
          [
           223.14332580566406
          ],
          [
           227.3633270263672
          ],
          [
           236.8866729736328
          ],
          [
           242.67666625976562
          ],
          [
           240.43666076660156
          ],
          [
           241.53334045410156
          ],
          [
           230.60000610351562
          ],
          [
           236.89666748046875
          ],
          [
           232.6666717529297
          ],
          [
           239.34666442871094
          ],
          [
           238.48666381835938
          ],
          [
           244.20333862304688
          ],
          [
           234.4499969482422
          ],
          [
           231.1999969482422
          ],
          [
           222.8333282470703
          ],
          [
           222.04666137695312
          ],
          [
           226.8333282470703
          ],
          [
           219.23333740234375
          ],
          [
           222.44667053222656
          ],
          [
           216.6666717529297
          ],
          [
           220.07333374023438
          ],
          [
           209.20333862304688
          ],
          [
           198.53334045410156
          ],
          [
           195.58999633789062
          ],
          [
           186.5500030517578
          ],
          [
           190.15333557128906
          ],
          [
           187.06666564941406
          ],
          [
           187.7933349609375
          ],
          [
           182.32666015625
          ],
          [
           190.35667419433594
          ],
          [
           193.3333282470703
          ],
          [
           191.21665954589844
          ],
          [
           198.57000732421875
          ],
          [
           200.5
          ],
          [
           205.40333557128906
          ],
          [
           207.4600067138672
          ],
          [
           206.85000610351562
          ],
          [
           199.7133331298828
          ],
          [
           190.4066619873047
          ],
          [
           192.39999389648438
          ],
          [
           194.2933349609375
          ],
          [
           198.5
          ],
          [
           199.2100067138672
          ],
          [
           200.1666717529297
          ],
          [
           200.5066680908203
          ],
          [
           203.05999755859375
          ],
          [
           199.41000366210938
          ],
          [
           197.8333282470703
          ],
          [
           200.44667053222656
          ],
          [
           203.93333435058594
          ],
          [
           202.9600067138672
          ],
          [
           205.1666717529297
          ],
          [
           210.01333618164062
          ],
          [
           222.5366668701172
          ],
          [
           222.89999389648438
          ],
          [
           223.44000244140625
          ],
          [
           225.29666137695312
          ]
         ],
         "open": [
          [
           28.299999237060547
          ],
          [
           29.366666793823242
          ],
          [
           29.364667892456055
          ],
          [
           30.760000228881836
          ],
          [
           31.579999923706055
          ],
          [
           33.13999938964844
          ],
          [
           32.11933135986328
          ],
          [
           32.900001525878906
          ],
          [
           36.284000396728516
          ],
          [
           35.31733322143555
          ],
          [
           32.91666793823242
          ],
          [
           33.840667724609375
          ],
          [
           35.349998474121094
          ],
          [
           38.125999450683594
          ],
          [
           37.616668701171875
          ],
          [
           38.04199981689453
          ],
          [
           36.132667541503906
          ],
          [
           37.89933395385742
          ],
          [
           38.37933349609375
          ],
          [
           42.16133117675781
          ],
          [
           42.66666793823242
          ],
          [
           44.91266632080078
          ],
          [
           58.86399841308594
          ],
          [
           54.88399887084961
          ],
          [
           46.66133117675781
          ],
          [
           48.70333480834961
          ],
          [
           53.33333206176758
          ],
          [
           51.25266647338867
          ],
          [
           51.858001708984375
          ],
          [
           49.45600128173828
          ],
          [
           52.4813346862793
          ],
          [
           56.106666564941406
          ],
          [
           61.56666564941406
          ],
          [
           60.79666519165039
          ],
          [
           60.46533203125
          ],
          [
           55.93333435058594
          ],
          [
           56.599998474121094
          ],
          [
           52.16666793823242
          ],
          [
           48.66666793823242
          ],
          [
           41.97999954223633
          ],
          [
           47.41733169555664
          ],
          [
           53.66666793823242
          ],
          [
           50.930667877197266
          ],
          [
           48.2513313293457
          ],
          [
           46
          ],
          [
           40.35933303833008
          ],
          [
           43.96200180053711
          ],
          [
           42.68000030517578
          ],
          [
           38.72600173950195
          ],
          [
           39.66666793823242
          ],
          [
           31.299999237060547
          ],
          [
           29.333999633789062
          ],
          [
           25.933332443237305
          ],
          [
           24.979999542236328
          ],
          [
           29.213333129882812
          ],
          [
           28.906667709350586
          ],
          [
           31.81999969482422
          ],
          [
           36.349998474121094
          ],
          [
           36.49266815185547
          ],
          [
           33.66666793823242
          ],
          [
           34.017333984375
          ],
          [
           33.41666793823242
          ],
          [
           33.599998474121094
          ],
          [
           32.068668365478516
          ],
          [
           33.96666717529297
          ],
          [
           34.08000183105469
          ],
          [
           36.33333206176758
          ],
          [
           36.9466667175293
          ],
          [
           37.4726676940918
          ],
          [
           39.34400177001953
          ],
          [
           46.597999572753906
          ],
          [
           49.46666717529297
          ],
          [
           47.79600143432617
          ],
          [
           51.48533248901367
          ],
          [
           48.8466682434082
          ],
          [
           48.67466735839844
          ],
          [
           46.93199920654297
          ],
          [
           48.50666809082031
          ],
          [
           47.387332916259766
          ],
          [
           49.17399978637695
          ],
          [
           53.042667388916016
          ],
          [
           52.678001403808594
          ],
          [
           57.01266860961914
          ],
          [
           50.33333206176758
          ],
          [
           46.733333587646484
          ],
          [
           52.65266799926758
          ],
          [
           51.766666412353516
          ],
          [
           51.81399917602539
          ],
          [
           52.917999267578125
          ],
          [
           52.70066833496094
          ],
          [
           55.133331298828125
          ],
          [
           54.72200012207031
          ],
          [
           52
          ],
          [
           52.689998626708984
          ],
          [
           55.185333251953125
          ],
          [
           54.34466552734375
          ],
          [
           54.70000076293945
          ],
          [
           54.400001525878906
          ],
          [
           54.81133270263672
          ],
          [
           55.633331298828125
          ],
          [
           54.7239990234375
          ],
          [
           54.23400115966797
          ],
          [
           53.91666793823242
          ],
          [
           57.20000076293945
          ],
          [
           59.64666748046875
          ],
          [
           59.20800018310547
          ],
          [
           59.32533264160156
          ],
          [
           58.522666931152344
          ],
          [
           61.266666412353516
          ],
          [
           62.66733169555664
          ],
          [
           66.12533569335938
          ],
          [
           66.01333618164062
          ],
          [
           65.33333587646484
          ],
          [
           61.18600082397461
          ],
          [
           67.4566650390625
          ],
          [
           65.84733581542969
          ],
          [
           66.86666870117188
          ],
          [
           67.51866912841797
          ],
          [
           66.663330078125
          ],
          [
           66.59200286865234
          ],
          [
           66.27400207519531
          ],
          [
           63.61800003051758
          ],
          [
           66.31866455078125
          ],
          [
           64.60066986083984
          ],
          [
           67.0999984741211
          ],
          [
           72.19999694824219
          ],
          [
           81.43199920654297
          ],
          [
           85.11266326904297
          ],
          [
           93.6673355102539
          ],
          [
           93.66666412353516
          ],
          [
           93.1326675415039
          ],
          [
           93.06666564941406
          ],
          [
           110.5999984741211
          ],
          [
           103.73332977294922
          ],
          [
           102.86666870117188
          ],
          [
           98.47733306884766
          ],
          [
           100.89666748046875
          ],
          [
           101.267333984375
          ],
          [
           109.32866668701172
          ],
          [
           106.5999984741211
          ],
          [
           111.93000030517578
          ],
          [
           94.40066528320312
          ],
          [
           95.66666412353516
          ],
          [
           100.26667022705078
          ],
          [
           100.06666564941406
          ],
          [
           99.19999694824219
          ],
          [
           101
          ],
          [
           96.61333465576172
          ],
          [
           99.6673355102539
          ],
          [
           99.53266906738281
          ],
          [
           99.38866424560547
          ],
          [
           99.96932983398438
          ],
          [
           96.53333282470703
          ],
          [
           93.06666564941406
          ],
          [
           98
          ],
          [
           107.4000015258789
          ],
          [
           110.99933624267578
          ],
          [
           111.80000305175781
          ],
          [
           126.59933471679688
          ],
          [
           124.33333587646484
          ],
          [
           124.04533386230469
          ],
          [
           136.3173370361328
          ],
          [
           141.7519989013672
          ],
          [
           131.65933227539062
          ],
          [
           137.3333282470703
          ],
          [
           145.36399841308594
          ],
          [
           153.00799560546875
          ],
          [
           148.20333862304688
          ],
          [
           167.3800048828125
          ],
          [
           159.663330078125
          ],
          [
           135.7433319091797
          ],
          [
           134.27000427246094
          ],
          [
           118.66666412353516
          ],
          [
           118.86666870117188
          ],
          [
           128.73666381835938
          ],
          [
           127.3133316040039
          ],
          [
           126.98332977294922
          ],
          [
           145.52000427246094
          ],
          [
           146.6233367919922
          ],
          [
           138.53334045410156
          ],
          [
           149.31333923339844
          ],
          [
           151.0433349609375
          ],
          [
           143.1999969482422
          ],
          [
           135.05332946777344
          ],
          [
           121.26667022705078
          ],
          [
           131.1566619873047
          ],
          [
           141.5399932861328
          ],
          [
           138.6666717529297
          ],
          [
           140.44000244140625
          ],
          [
           146.9199981689453
          ],
          [
           140.4633331298828
          ],
          [
           141.11666870117188
          ],
          [
           141.26333618164062
          ],
          [
           139.9566650390625
          ],
          [
           146.14666748046875
          ],
          [
           143.3766632080078
          ],
          [
           147.3333282470703
          ],
          [
           147.78334045410156
          ],
          [
           149.92666625976562
          ],
          [
           150.10333251953125
          ],
          [
           151.47999572753906
          ],
          [
           148.74667358398438
          ],
          [
           143.9166717529297
          ],
          [
           140.89999389648438
          ],
          [
           147.30667114257812
          ],
          [
           140.6133270263672
          ],
          [
           137.2100067138672
          ],
          [
           141.25332641601562
          ],
          [
           138.82666015625
          ],
          [
           136.65333557128906
          ],
          [
           135.63333129882812
          ],
          [
           131.3333282470703
          ],
          [
           136.57666015625
          ],
          [
           143.5399932861328
          ],
          [
           142.76666259765625
          ],
          [
           145.36666870117188
          ],
          [
           146.5
          ],
          [
           140.02999877929688
          ],
          [
           138.81666564941406
          ],
          [
           138.35000610351562
          ],
          [
           136.9499969482422
          ],
          [
           136.30999755859375
          ],
          [
           153.38999938964844
          ],
          [
           149.4499969482422
          ],
          [
           164
          ],
          [
           165.99667358398438
          ],
          [
           167.8333282470703
          ],
          [
           180.13333129882812
          ],
          [
           183.35333251953125
          ],
          [
           193.72000122070312
          ],
          [
           200.73666381835938
          ],
          [
           199.19667053222656
          ],
          [
           185.47999572753906
          ],
          [
           196.67333984375
          ],
          [
           197.00332641601562
          ],
          [
           201.63999938964844
          ],
          [
           208.50332641601562
          ],
          [
           217.89666748046875
          ],
          [
           191.4566650390625
          ],
          [
           205.00332641601562
          ],
          [
           206.3333282470703
          ],
          [
           214.42666625976562
          ],
          [
           209.41000366210938
          ],
          [
           209.39666748046875
          ],
          [
           222.96665954589844
          ],
          [
           222.0800018310547
          ],
          [
           216
          ],
          [
           210.73333740234375
          ],
          [
           214.3300018310547
          ],
          [
           224.836669921875
          ],
          [
           220.3333282470703
          ],
          [
           224
          ],
          [
           233.3300018310547
          ],
          [
           239.82000732421875
          ],
          [
           241.22000122070312
          ],
          [
           252.8300018310547
          ],
          [
           259.2099914550781
          ],
          [
           285.3333435058594
          ],
          [
           283.1333312988281
          ],
          [
           277
          ],
          [
           284.2533264160156
          ],
          [
           281.1300048828125
          ],
          [
           284
          ],
          [
           279.26666259765625
          ],
          [
           286.2466735839844
          ],
          [
           285
          ],
          [
           278.10333251953125
          ],
          [
           285
          ],
          [
           297.1266784667969
          ],
          [
           290.1166687011719
          ],
          [
           273.3333435058594
          ],
          [
           276.6666564941406
          ],
          [
           271.42999267578125
          ],
          [
           281.55999755859375
          ],
          [
           292.3399963378906
          ],
          [
           285
          ],
          [
           281.6666564941406
          ],
          [
           289.8900146484375
          ],
          [
           285.0400085449219
          ],
          [
           281.21331787109375
          ],
          [
           270.8133239746094
          ],
          [
           267.086669921875
          ],
          [
           272.6666564941406
          ],
          [
           259.6966552734375
          ],
          [
           260.29998779296875
          ],
          [
           265
          ],
          [
           254.2133331298828
          ],
          [
           220.7100067138672
          ],
          [
           237.28334045410156
          ],
          [
           242.0500030517578
          ],
          [
           233.3333282470703
          ],
          [
           230.0366668701172
          ],
          [
           239.42666625976562
          ],
          [
           229.3300018310547
          ],
          [
           218.60000610351562
          ],
          [
           208.68666076660156
          ],
          [
           200.18333435058594
          ],
          [
           202.72666931152344
          ],
          [
           233.43333435058594
          ],
          [
           233.13333129882812
          ],
          [
           223.3333282470703
          ],
          [
           231.3633270263672
          ],
          [
           234.4499969482422
          ],
          [
           218.9566650390625
          ],
          [
           228.09666442871094
          ],
          [
           215.53334045410156
          ],
          [
           228.19667053222656
          ],
          [
           225.2566680908203
          ],
          [
           222.6366729736328
          ],
          [
           204.3333282470703
          ],
          [
           213.9566650390625
          ],
          [
           205.2133331298828
          ],
          [
           200.5833282470703
          ],
          [
           215.5399932861328
          ],
          [
           229.4566650390625
          ],
          [
           235.90333557128906
          ],
          [
           230.10000610351562
          ],
          [
           229
          ],
          [
           225.7933349609375
          ],
          [
           225.92333984375
          ],
          [
           228.56666564941406
          ],
          [
           237.56666564941406
          ],
          [
           256.8999938964844
          ],
          [
           247.6999969482422
          ],
          [
           242.88333129882812
          ],
          [
           239.86666870117188
          ],
          [
           239.13999938964844
          ],
          [
           234.92333984375
          ],
          [
           247.1666717529297
          ],
          [
           239.93333435058594
          ],
          [
           247
          ],
          [
           239.32000732421875
          ],
          [
           232.1366729736328
          ],
          [
           233.1699981689453
          ],
          [
           222.52999877929688
          ],
          [
           234.60000610351562
          ],
          [
           226.31333923339844
          ],
          [
           227.02000427246094
          ],
          [
           226.9199981689453
          ],
          [
           221.93333435058594
          ],
          [
           221.63333129882812
          ],
          [
           199.74667358398438
          ],
          [
           200.8300018310547
          ],
          [
           200.51333618164062
          ],
          [
           194.47000122070312
          ],
          [
           191.85000610351562
          ],
          [
           189.3333282470703
          ],
          [
           184.18333435058594
          ],
          [
           191.6666717529297
          ],
          [
           198.70333862304688
          ],
          [
           193.86666870117188
          ],
          [
           202.43666076660156
          ],
          [
           202.52000427246094
          ],
          [
           206.74667358398438
          ],
          [
           209.5
          ],
          [
           209.26666259765625
          ],
          [
           206.7100067138672
          ],
          [
           200.60000610351562
          ],
          [
           193.23666381835938
          ],
          [
           197.27667236328125
          ],
          [
           207.6699981689453
          ],
          [
           200.72332763671875
          ],
          [
           201.2933349609375
          ],
          [
           203.41000366210938
          ],
          [
           204.07666015625
          ],
          [
           205.56333923339844
          ],
          [
           199.17999267578125
          ],
          [
           200.6300048828125
          ],
          [
           204.4566650390625
          ],
          [
           208.16000366210938
          ],
          [
           206.0833282470703
          ],
          [
           210.6666717529297
          ],
          [
           224.99667358398438
          ],
          [
           229.86000061035156
          ],
          [
           223.8800048828125
          ],
          [
           228.21665954589844
          ]
         ],
         "type": "candlestick"
        }
       ],
       "layout": {
        "template": {
         "data": {
          "bar": [
           {
            "error_x": {
             "color": "#2a3f5f"
            },
            "error_y": {
             "color": "#2a3f5f"
            },
            "marker": {
             "line": {
              "color": "#E5ECF6",
              "width": 0.5
             },
             "pattern": {
              "fillmode": "overlay",
              "size": 10,
              "solidity": 0.2
             }
            },
            "type": "bar"
           }
          ],
          "barpolar": [
           {
            "marker": {
             "line": {
              "color": "#E5ECF6",
              "width": 0.5
             },
             "pattern": {
              "fillmode": "overlay",
              "size": 10,
              "solidity": 0.2
             }
            },
            "type": "barpolar"
           }
          ],
          "carpet": [
           {
            "aaxis": {
             "endlinecolor": "#2a3f5f",
             "gridcolor": "white",
             "linecolor": "white",
             "minorgridcolor": "white",
             "startlinecolor": "#2a3f5f"
            },
            "baxis": {
             "endlinecolor": "#2a3f5f",
             "gridcolor": "white",
             "linecolor": "white",
             "minorgridcolor": "white",
             "startlinecolor": "#2a3f5f"
            },
            "type": "carpet"
           }
          ],
          "choropleth": [
           {
            "colorbar": {
             "outlinewidth": 0,
             "ticks": ""
            },
            "type": "choropleth"
           }
          ],
          "contour": [
           {
            "colorbar": {
             "outlinewidth": 0,
             "ticks": ""
            },
            "colorscale": [
             [
              0,
              "#0d0887"
             ],
             [
              0.1111111111111111,
              "#46039f"
             ],
             [
              0.2222222222222222,
              "#7201a8"
             ],
             [
              0.3333333333333333,
              "#9c179e"
             ],
             [
              0.4444444444444444,
              "#bd3786"
             ],
             [
              0.5555555555555556,
              "#d8576b"
             ],
             [
              0.6666666666666666,
              "#ed7953"
             ],
             [
              0.7777777777777778,
              "#fb9f3a"
             ],
             [
              0.8888888888888888,
              "#fdca26"
             ],
             [
              1,
              "#f0f921"
             ]
            ],
            "type": "contour"
           }
          ],
          "contourcarpet": [
           {
            "colorbar": {
             "outlinewidth": 0,
             "ticks": ""
            },
            "type": "contourcarpet"
           }
          ],
          "heatmap": [
           {
            "colorbar": {
             "outlinewidth": 0,
             "ticks": ""
            },
            "colorscale": [
             [
              0,
              "#0d0887"
             ],
             [
              0.1111111111111111,
              "#46039f"
             ],
             [
              0.2222222222222222,
              "#7201a8"
             ],
             [
              0.3333333333333333,
              "#9c179e"
             ],
             [
              0.4444444444444444,
              "#bd3786"
             ],
             [
              0.5555555555555556,
              "#d8576b"
             ],
             [
              0.6666666666666666,
              "#ed7953"
             ],
             [
              0.7777777777777778,
              "#fb9f3a"
             ],
             [
              0.8888888888888888,
              "#fdca26"
             ],
             [
              1,
              "#f0f921"
             ]
            ],
            "type": "heatmap"
           }
          ],
          "heatmapgl": [
           {
            "colorbar": {
             "outlinewidth": 0,
             "ticks": ""
            },
            "colorscale": [
             [
              0,
              "#0d0887"
             ],
             [
              0.1111111111111111,
              "#46039f"
             ],
             [
              0.2222222222222222,
              "#7201a8"
             ],
             [
              0.3333333333333333,
              "#9c179e"
             ],
             [
              0.4444444444444444,
              "#bd3786"
             ],
             [
              0.5555555555555556,
              "#d8576b"
             ],
             [
              0.6666666666666666,
              "#ed7953"
             ],
             [
              0.7777777777777778,
              "#fb9f3a"
             ],
             [
              0.8888888888888888,
              "#fdca26"
             ],
             [
              1,
              "#f0f921"
             ]
            ],
            "type": "heatmapgl"
           }
          ],
          "histogram": [
           {
            "marker": {
             "pattern": {
              "fillmode": "overlay",
              "size": 10,
              "solidity": 0.2
             }
            },
            "type": "histogram"
           }
          ],
          "histogram2d": [
           {
            "colorbar": {
             "outlinewidth": 0,
             "ticks": ""
            },
            "colorscale": [
             [
              0,
              "#0d0887"
             ],
             [
              0.1111111111111111,
              "#46039f"
             ],
             [
              0.2222222222222222,
              "#7201a8"
             ],
             [
              0.3333333333333333,
              "#9c179e"
             ],
             [
              0.4444444444444444,
              "#bd3786"
             ],
             [
              0.5555555555555556,
              "#d8576b"
             ],
             [
              0.6666666666666666,
              "#ed7953"
             ],
             [
              0.7777777777777778,
              "#fb9f3a"
             ],
             [
              0.8888888888888888,
              "#fdca26"
             ],
             [
              1,
              "#f0f921"
             ]
            ],
            "type": "histogram2d"
           }
          ],
          "histogram2dcontour": [
           {
            "colorbar": {
             "outlinewidth": 0,
             "ticks": ""
            },
            "colorscale": [
             [
              0,
              "#0d0887"
             ],
             [
              0.1111111111111111,
              "#46039f"
             ],
             [
              0.2222222222222222,
              "#7201a8"
             ],
             [
              0.3333333333333333,
              "#9c179e"
             ],
             [
              0.4444444444444444,
              "#bd3786"
             ],
             [
              0.5555555555555556,
              "#d8576b"
             ],
             [
              0.6666666666666666,
              "#ed7953"
             ],
             [
              0.7777777777777778,
              "#fb9f3a"
             ],
             [
              0.8888888888888888,
              "#fdca26"
             ],
             [
              1,
              "#f0f921"
             ]
            ],
            "type": "histogram2dcontour"
           }
          ],
          "mesh3d": [
           {
            "colorbar": {
             "outlinewidth": 0,
             "ticks": ""
            },
            "type": "mesh3d"
           }
          ],
          "parcoords": [
           {
            "line": {
             "colorbar": {
              "outlinewidth": 0,
              "ticks": ""
             }
            },
            "type": "parcoords"
           }
          ],
          "pie": [
           {
            "automargin": true,
            "type": "pie"
           }
          ],
          "scatter": [
           {
            "fillpattern": {
             "fillmode": "overlay",
             "size": 10,
             "solidity": 0.2
            },
            "type": "scatter"
           }
          ],
          "scatter3d": [
           {
            "line": {
             "colorbar": {
              "outlinewidth": 0,
              "ticks": ""
             }
            },
            "marker": {
             "colorbar": {
              "outlinewidth": 0,
              "ticks": ""
             }
            },
            "type": "scatter3d"
           }
          ],
          "scattercarpet": [
           {
            "marker": {
             "colorbar": {
              "outlinewidth": 0,
              "ticks": ""
             }
            },
            "type": "scattercarpet"
           }
          ],
          "scattergeo": [
           {
            "marker": {
             "colorbar": {
              "outlinewidth": 0,
              "ticks": ""
             }
            },
            "type": "scattergeo"
           }
          ],
          "scattergl": [
           {
            "marker": {
             "colorbar": {
              "outlinewidth": 0,
              "ticks": ""
             }
            },
            "type": "scattergl"
           }
          ],
          "scattermapbox": [
           {
            "marker": {
             "colorbar": {
              "outlinewidth": 0,
              "ticks": ""
             }
            },
            "type": "scattermapbox"
           }
          ],
          "scatterpolar": [
           {
            "marker": {
             "colorbar": {
              "outlinewidth": 0,
              "ticks": ""
             }
            },
            "type": "scatterpolar"
           }
          ],
          "scatterpolargl": [
           {
            "marker": {
             "colorbar": {
              "outlinewidth": 0,
              "ticks": ""
             }
            },
            "type": "scatterpolargl"
           }
          ],
          "scatterternary": [
           {
            "marker": {
             "colorbar": {
              "outlinewidth": 0,
              "ticks": ""
             }
            },
            "type": "scatterternary"
           }
          ],
          "surface": [
           {
            "colorbar": {
             "outlinewidth": 0,
             "ticks": ""
            },
            "colorscale": [
             [
              0,
              "#0d0887"
             ],
             [
              0.1111111111111111,
              "#46039f"
             ],
             [
              0.2222222222222222,
              "#7201a8"
             ],
             [
              0.3333333333333333,
              "#9c179e"
             ],
             [
              0.4444444444444444,
              "#bd3786"
             ],
             [
              0.5555555555555556,
              "#d8576b"
             ],
             [
              0.6666666666666666,
              "#ed7953"
             ],
             [
              0.7777777777777778,
              "#fb9f3a"
             ],
             [
              0.8888888888888888,
              "#fdca26"
             ],
             [
              1,
              "#f0f921"
             ]
            ],
            "type": "surface"
           }
          ],
          "table": [
           {
            "cells": {
             "fill": {
              "color": "#EBF0F8"
             },
             "line": {
              "color": "white"
             }
            },
            "header": {
             "fill": {
              "color": "#C8D4E3"
             },
             "line": {
              "color": "white"
             }
            },
            "type": "table"
           }
          ]
         },
         "layout": {
          "annotationdefaults": {
           "arrowcolor": "#2a3f5f",
           "arrowhead": 0,
           "arrowwidth": 1
          },
          "autotypenumbers": "strict",
          "coloraxis": {
           "colorbar": {
            "outlinewidth": 0,
            "ticks": ""
           }
          },
          "colorscale": {
           "diverging": [
            [
             0,
             "#8e0152"
            ],
            [
             0.1,
             "#c51b7d"
            ],
            [
             0.2,
             "#de77ae"
            ],
            [
             0.3,
             "#f1b6da"
            ],
            [
             0.4,
             "#fde0ef"
            ],
            [
             0.5,
             "#f7f7f7"
            ],
            [
             0.6,
             "#e6f5d0"
            ],
            [
             0.7,
             "#b8e186"
            ],
            [
             0.8,
             "#7fbc41"
            ],
            [
             0.9,
             "#4d9221"
            ],
            [
             1,
             "#276419"
            ]
           ],
           "sequential": [
            [
             0,
             "#0d0887"
            ],
            [
             0.1111111111111111,
             "#46039f"
            ],
            [
             0.2222222222222222,
             "#7201a8"
            ],
            [
             0.3333333333333333,
             "#9c179e"
            ],
            [
             0.4444444444444444,
             "#bd3786"
            ],
            [
             0.5555555555555556,
             "#d8576b"
            ],
            [
             0.6666666666666666,
             "#ed7953"
            ],
            [
             0.7777777777777778,
             "#fb9f3a"
            ],
            [
             0.8888888888888888,
             "#fdca26"
            ],
            [
             1,
             "#f0f921"
            ]
           ],
           "sequentialminus": [
            [
             0,
             "#0d0887"
            ],
            [
             0.1111111111111111,
             "#46039f"
            ],
            [
             0.2222222222222222,
             "#7201a8"
            ],
            [
             0.3333333333333333,
             "#9c179e"
            ],
            [
             0.4444444444444444,
             "#bd3786"
            ],
            [
             0.5555555555555556,
             "#d8576b"
            ],
            [
             0.6666666666666666,
             "#ed7953"
            ],
            [
             0.7777777777777778,
             "#fb9f3a"
            ],
            [
             0.8888888888888888,
             "#fdca26"
            ],
            [
             1,
             "#f0f921"
            ]
           ]
          },
          "colorway": [
           "#636efa",
           "#EF553B",
           "#00cc96",
           "#ab63fa",
           "#FFA15A",
           "#19d3f3",
           "#FF6692",
           "#B6E880",
           "#FF97FF",
           "#FECB52"
          ],
          "font": {
           "color": "#2a3f5f"
          },
          "geo": {
           "bgcolor": "white",
           "lakecolor": "white",
           "landcolor": "#E5ECF6",
           "showlakes": true,
           "showland": true,
           "subunitcolor": "white"
          },
          "hoverlabel": {
           "align": "left"
          },
          "hovermode": "closest",
          "mapbox": {
           "style": "light"
          },
          "paper_bgcolor": "white",
          "plot_bgcolor": "#E5ECF6",
          "polar": {
           "angularaxis": {
            "gridcolor": "white",
            "linecolor": "white",
            "ticks": ""
           },
           "bgcolor": "#E5ECF6",
           "radialaxis": {
            "gridcolor": "white",
            "linecolor": "white",
            "ticks": ""
           }
          },
          "scene": {
           "xaxis": {
            "backgroundcolor": "#E5ECF6",
            "gridcolor": "white",
            "gridwidth": 2,
            "linecolor": "white",
            "showbackground": true,
            "ticks": "",
            "zerolinecolor": "white"
           },
           "yaxis": {
            "backgroundcolor": "#E5ECF6",
            "gridcolor": "white",
            "gridwidth": 2,
            "linecolor": "white",
            "showbackground": true,
            "ticks": "",
            "zerolinecolor": "white"
           },
           "zaxis": {
            "backgroundcolor": "#E5ECF6",
            "gridcolor": "white",
            "gridwidth": 2,
            "linecolor": "white",
            "showbackground": true,
            "ticks": "",
            "zerolinecolor": "white"
           }
          },
          "shapedefaults": {
           "line": {
            "color": "#2a3f5f"
           }
          },
          "ternary": {
           "aaxis": {
            "gridcolor": "white",
            "linecolor": "white",
            "ticks": ""
           },
           "baxis": {
            "gridcolor": "white",
            "linecolor": "white",
            "ticks": ""
           },
           "bgcolor": "#E5ECF6",
           "caxis": {
            "gridcolor": "white",
            "linecolor": "white",
            "ticks": ""
           }
          },
          "title": {
           "x": 0.05
          },
          "xaxis": {
           "automargin": true,
           "gridcolor": "white",
           "linecolor": "white",
           "ticks": "",
           "title": {
            "standoff": 15
           },
           "zerolinecolor": "white",
           "zerolinewidth": 2
          },
          "yaxis": {
           "automargin": true,
           "gridcolor": "white",
           "linecolor": "white",
           "ticks": "",
           "title": {
            "standoff": 15
           },
           "zerolinecolor": "white",
           "zerolinewidth": 2
          }
         }
        },
        "title": {
         "text": "Tesla Stock Price"
        },
        "xaxis": {
         "title": {
          "text": "Date"
         }
        },
        "yaxis": {
         "title": {
          "text": "Price (USD)"
         }
        }
       }
      },
      "image/png": "[encoded data removed]",
      "text/html": [
       "<div>                            <div id=\"dbffdda7-b95e-4999-bd56-a95ac0fd05c5\" class=\"plotly-graph-div\" style=\"height:525px; width:100%;\"></div>            <script type=\"text/javascript\">                require([\"plotly\"], function(Plotly) {                    window.PLOTLYENV=window.PLOTLYENV || {};                                    if (document.getElementById(\"dbffdda7-b95e-4999-bd56-a95ac0fd05c5\")) {                    Plotly.newPlot(                        \"dbffdda7-b95e-4999-bd56-a95ac0fd05c5\",                        [{\"close\":[[28.68400001525879],[29.534000396728516],[30.1026668548584],[31.270666122436523],[32.80933380126953],[32.089332580566406],[31.876667022705078],[34.990665435791016],[35.861331939697266],[34.56666564941406],[34.232666015625],[34.03333282470703],[36.47999954223633],[37.97066879272461],[38.14666748046875],[37.654666900634766],[37.201332092285156],[37.793331146240234],[38.732666015625],[42.72066879272461],[43.371334075927734],[52.0],[59.137332916259766],[48.97999954223633],[49.930667877197266],[49.871334075927734],[51.41866683959961],[51.62533187866211],[51.15266799926758],[53.599998474121094],[53.33533477783203],[57.22666549682617],[61.16133117675781],[59.96066665649414],[60.06666564941406],[55.58599853515625],[53.32733154296875],[51.91999816894531],[45.266666412353516],[44.53266525268555],[49.574668884277344],[49.70066833496094],[49.96666717529297],[48.30266571044922],[46.89866638183594],[40.53333282470703],[43.02199935913086],[42.28200149536133],[37.369998931884766],[36.44133377075195],[29.67133331298828],[28.68000030517578],[24.08133316040039],[28.50933265686035],[28.50200080871582],[28.952667236328125],[33.66666793823242],[35.95000076293945],[35.21066665649414],[34.29066848754883],[33.47533416748047],[34.93333435058594],[32.104000091552734],[30.29800033569336],[32.000667572021484],[34.41600036621094],[36.36333465576172],[36.589332580566406],[38.20000076293945],[43.39666748046875],[47.32600021362305],[48.65533447265625],[49.680667877197266],[50.259334564208984],[49.75733184814453],[45.781333923339844],[48.807334899902344],[47.04199981689453],[48.34333419799805],[53.25],[51.27466583251953],[53.367332458496094],[52.12533187866211],[46.75466537475586],[50.74599838256836],[51.2140007019043],[52.172000885009766],[52.00266647338867],[54.62799835205078],[54.08599853515625],[53.96066665649414],[52.73066711425781],[53.55533218383789],[53.27799987792969],[54.242000579833984],[53.867332458496094],[54.37066650390625],[55.17333221435547],[54.45866775512695],[54.591331481933594],[54.68199920654297],[53.72066879272461],[55.66666793823242],[59.87333297729492],[58.770668029785156],[58.86399841308594],[57.62533187866211],[59.04399871826172],[63.327999114990234],[62.711334228515625],[68.336669921875],[64.85600280761719],[62.35200119018555],[66.05999755859375],[65.47533416748047],[66.11933135986328],[66.9306640625],[66.72666931152344],[66.28800201416016],[66.78533172607422],[64.0566635131836],[65.73200225830078],[63.982666015625],[67.29000091552734],[71.98733520507812],[74.64199829101562],[80.57733154296875],[91.43866729736328],[92.65733337402344],[91.05867004394531],[92.9520034790039],[102.97666931152344],[99.80400085449219],[101.12000274658203],[103.06732940673828],[100.04266357421875],[100.05599975585938],[109.53333282470703],[104.55733489990234],[106.15533447265625],[100.87133026123047],[94.46666717529297],[102.63999938964844],[98.43267059326172],[99.94066619873047],[99.16600036621094],[95.38400268554688],[99.0],[99.13333129882812],[99.00133514404297],[99.30533599853516],[96.84733581542969],[94.57133483886719],[91.6259994506836],[103.65066528320312],[108.06666564941406],[110.04733276367188],[122.3759994506836],[125.80599975585938],[125.23533630371094],[133.45533752441406],[136.6653289794922],[134.27999877929688],[134.8893280029297],[143.54466247558594],[149.25],[147.55999755859375],[166.10667419433594],[158.35000610351562],[149.1233367919922],[135.6666717529297],[139.44000244140625],[110.06999969482422],[122.09333038330078],[123.77999877929688],[124.23999786376953],[139.8733367919922],[149.9199981689453],[147.25332641601562],[141.14332580566406],[147.38333129882812],[149.79666137695312],[141.41000366210938],[126.78666687011719],[129.26333618164062],[135.77999877929688],[140.39999389648438],[139.69000244140625],[143.00332641601562],[149.3866729736328],[138.3633270263672],[141.89332580566406],[137.9933319091797],[141.76666259765625],[141.97332763671875],[144.6666717529297],[147.43333435058594],[148.88333129882812],[153.76666259765625],[149.6266632080078],[146.55667114257812],[143.61000061035156],[140.64666748046875],[140.8800048828125],[141.92999267578125],[140.2100067138672],[140.0933380126953],[141.55999755859375],[135.33999633789062],[136.94332885742188],[129.34666442871094],[133.50332641601562],[141.3000030517578],[140.32666015625],[146.02999877929688],[143.31666564941406],[140.4199981689453],[136.7866668701172],[139.0433349609375],[137.25332641601562],[136.1666717529297],[136.02999877929688],[147.20333862304688],[162.2133331298828],[166.42333984375],[163.20333862304688],[173.9499969482422],[185.1266632080078],[191.3333282470703],[195.25332641601562],[189.1999969482422],[194.9199981689453],[189.60667419433594],[197.7933349609375],[199.67999267578125],[213.9199981689453],[216.6266632080078],[201.4933319091797],[209.02333068847656],[203.3300018310547],[213.27667236328125],[211.0833282470703],[207.58999633789062],[218.63333129882812],[231.6666717529297],[216.6199951171875],[213.44667053222656],[215.32666015625],[220.58999633789062],[221.22999572753906],[221.99667358398438],[231.5933380126953],[235.22332763671875],[243.2566680908203],[245.0366668701172],[251.9933319091797],[272.0133361816406],[293.3399963378906],[270.39666748046875],[283.14666748046875],[284.8033447265625],[281.6666564941406],[275.38665771484375],[281.51666259765625],[283.48333740234375],[281.663330078125],[282.21331787109375],[293.6000061035156],[294.36334228515625],[288.0533447265625],[278.4766540527344],[264.510009765625],[279.9366760253906],[290.92999267578125],[284.89666748046875],[283.3299865722656],[284.07666015625],[287.8066711425781],[283.1533203125],[268.2733459472656],[270.5533447265625],[272.0400085449219],[265.40667724609375],[266.04998779296875],[262.4599914550781],[260.4333190917969],[238.1666717529297],[232.94667053222656],[247.33999633789062],[227.4066619873047],[225.1666717529297],[239.47666931152344],[228.81333923339844],[217.73333740234375],[207.14666748046875],[199.31666564941406],[187.6666717529297],[224.52667236328125],[222.68666076660156],[233.1999969482422],[231.2433319091797],[235.97999572753906],[225.6266632080078],[233.93666076660156],[217.72000122070312],[218.2899932861328],[223.3333282470703],[220.72000122070312],[210.08999633789062],[213.4633331298828],[206.23666381835938],[203.76333618164062],[211.8733367919922],[222.64332580566406],[220.5833282470703],[230.35000610351562],[230.5399932861328],[223.6566619873047],[227.93333435058594],[225.67333984375],[233.9933319091797],[254.10667419433594],[244.07666015625],[246.28334045410156],[246.5933380126953],[238.2100067138672],[239.663330078125],[248.0399932861328],[239.89666748046875],[243.13333129882812],[246.06666564941406],[234.913330078125],[231.46665954589844],[225.6666717529297],[236.47999572753906],[228.3000030517578],[224.53334045410156],[223.64666748046875],[221.17999267578125],[224.1233367919922],[209.67999267578125],[205.73333740234375],[196.6300048828125],[190.56333923339844],[196.5800018310547],[192.27667236328125],[192.6233367919922],[187.82000732421875],[195.5933380126953],[193.6266632080078],[202.14666748046875],[201.56333923339844],[206.3766632080078],[210.28334045410156],[208.4066619873047],[207.96665954589844],[201.7066650390625],[190.94667053222656],[199.68333435058594],[201.7100067138672],[201.19667053222656],[199.5933380126953],[203.3733367919922],[203.29666137695312],[205.89666748046875],[199.7866668701172],[201.6233367919922],[205.53334045410156],[207.77000427246094],[206.94332885742188],[207.90333557128906],[218.85667419433594],[226.60667419433594],[223.9566650390625],[229.57333374023438],[226.9199981689453]],\"high\":[[28.713333129882812],[30.266666412353516],[30.104000091552734],[31.441999435424805],[33.232666015625],[33.253334045410156],[32.3293342590332],[35.04199981689453],[36.49399948120117],[35.85599899291992],[34.297332763671875],[34.37799835205078],[36.571998596191406],[39.633331298828125],[38.79999923706055],[38.25733184814453],[37.62933349609375],[38.45399856567383],[39.31999969482422],[43.391998291015625],[43.53333282470703],[52.409332275390625],[64.59933471679688],[56.39866638183594],[53.05533218383789],[51.31666564941406],[54.66600036621094],[52.23400115966797],[52.650001525878906],[54.53333282470703],[54.198001861572266],[57.33333206176758],[62.98533248901367],[60.79999923706055],[60.87066650390625],[57.56666564941406],[57.106666564941406],[54.22066879272461],[49.31800079345703],[46.03466796875],[49.5793342590332],[53.798667907714844],[51.10133361816406],[49.71666717529297],[47.133331298828125],[44.20000076293945],[44.53333282470703],[43.571998596191406],[39.633331298828125],[40.50466537475586],[32.9913330078125],[31.456666946411133],[26.99066734313965],[30.133333206176758],[31.799999237060547],[29.46666717529297],[34.24599838256836],[37.133331298828125],[37.33333206176758],[35.0533332824707],[34.44333267211914],[36.19733428955078],[34.26333236694336],[32.95066833496094],[34.36600112915039],[34.733333587646484],[37.66666793823242],[37.14733123779297],[38.345333099365234],[43.46666717529297],[49.45866775512695],[50.20866775512695],[50.630001068115234],[51.663333892822266],[51.03799819946289],[50.22200012207031],[48.93333435058594],[48.93333435058594],[48.71533203125],[53.29933166503906],[53.66666793823242],[53.54666519165039],[57.987998962402344],[51.518001556396484],[50.79999923706055],[53.26133346557617],[52.6533317565918],[53.09333419799805],[54.93333435058594],[54.93333435058594],[56.21933364868164],[55.06666564941406],[53.557334899902344],[53.66999816894531],[55.64799880981445],[54.80466842651367],[55.06666564941406],[55.5],[55.45199966430664],[55.63999938964844],[55.180667877197266],[54.983333587646484],[55.66666793823242],[59.93333435058594],[60.57733154296875],[59.862667083740234],[59.71666717529297],[59.10133361816406],[63.33333206176758],[63.62933349609375],[68.49866485595703],[67.9306640625],[65.8653335571289],[66.5893325805664],[67.52532958984375],[67.0],[67.94667053222656],[67.73133087158203],[67.2586669921875],[67.46666717529297],[66.72533416748047],[65.73200225830078],[66.33333587646484],[67.33333587646484],[72.51266479492188],[75.68866729736328],[81.86666870117188],[91.85266876220703],[95.30000305175781],[94.48400115966797],[93.90399932861328],[103.2613296508789],[119.66600036621094],[106.0],[103.33333587646484],[102.11399841308594],[102.50066375732422],[110.0],[111.66666412353516],[108.4280014038086],[112.5999984741211],[97.66666412353516],[103.19599914550781],[104.3133316040039],[102.32066345214844],[100.8826675415039],[101.13666534423828],[100.65399932861328],[101.82733154296875],[99.98933410644531],[101.15399932861328],[99.98332977294922],[97.16666412353516],[94.66666412353516],[105.66666412353516],[110.07866668701172],[111.25333404541016],[123.05733489990234],[128.25999450683594],[127.4000015258789],[134.79933166503906],[139.69932556152344],[141.93333435058594],[135.19667053222656],[144.39999389648438],[153.0399932861328],[154.5659942626953],[166.7133331298828],[167.49667358398438],[159.67999267578125],[143.93333435058594],[142.6666717529297],[122.913330078125],[123.0],[132.99667358398438],[127.5],[140.0],[153.97999572753906],[152.59666442871094],[145.92999267578125],[150.3333282470703],[151.89332580566406],[145.9199981689453],[137.38333129882812],[133.1666717529297],[136.2433319091797],[142.69332885742188],[142.8333282470703],[144.64332580566406],[149.6266632080078],[146.3766632080078],[144.54666137695312],[142.92666625976562],[143.3000030517578],[146.3333282470703],[144.8633270263672],[149.5800018310547],[149.6300048828125],[155.3000030517578],[152.19000244140625],[151.98333740234375],[149.0],[143.9166717529297],[144.31666564941406],[148.41000366210938],[140.9633331298828],[141.9199981689453],[143.5],[139.53334045410156],[139.35333251953125],[135.8633270263672],[135.66000366210938],[142.58999633789062],[145.13333129882812],[146.6666717529297],[145.52333068847656],[150.8333282470703],[140.02999877929688],[139.56666564941406],[141.0],[137.50999450683594],[137.48333740234375],[154.0],[165.3333282470703],[169.5366668701172],[167.5],[175.3333282470703],[186.663330078125],[191.3333282470703],[199.5933380126953],[202.60000610351562],[199.28334045410156],[190.51333618164062],[199.6566619873047],[199.67999267578125],[216.26333618164062],[217.0933380126953],[218.10667419433594],[209.25],[208.0],[214.25],[215.63333129882812],[210.8333282470703],[219.60667419433594],[231.6666717529297],[222.8333282470703],[216.6266632080078],[217.1666717529297],[222.02999877929688],[227.13333129882812],[223.3000030517578],[232.1999969482422],[239.57333374023438],[248.163330078125],[246.94667053222656],[258.0],[272.3299865722656],[294.8299865722656],[284.80999755859375],[289.3333435058594],[286.8233337402344],[287.6666564941406],[286.6333312988281],[283.3333435058594],[286.5],[285.239990234375],[282.6666564941406],[300.1333312988281],[298.6333312988281],[297.1666564941406],[282.6666564941406],[280.8033447265625],[280.6666564941406],[293.5],[292.6933288574219],[285.5],[288.25665283203125],[292.5899963378906],[286.6000061035156],[281.6066589355469],[276.6266784667969],[272.4433288574219],[273.6666564941406],[266.61334228515625],[264.89666748046875],[265.5966796875],[256.1666564941406],[237.8699951171875],[248.3333282470703],[245.73666381835938],[235.56666564941406],[239.6666717529297],[240.3699951171875],[233.56666564941406],[222.81666564941406],[209.27999877929688],[206.7100067138672],[226.02999877929688],[239.28334045410156],[234.1666717529297],[231.6266632080078],[237.72666931152344],[235.97332763671875],[234.57666015625],[229.7433319091797],[219.07666015625],[233.2066650390625],[225.93333435058594],[222.67333984375],[215.1666717529297],[214.60667419433594],[205.4933319091797],[212.55332946777344],[224.0],[230.80667114257812],[236.05332946777344],[232.18333435058594],[230.4600067138672],[229.85000610351562],[226.99000549316406],[234.93333435058594],[254.3333282470703],[260.2633361816406],[247.89666748046875],[249.80332946777344],[241.8000030517578],[245.75],[248.27999877929688],[251.2566680908203],[245.7866668701172],[249.76666259765625],[241.3333282470703],[236.1666717529297],[234.0833282470703],[238.49000549316406],[235.3333282470703],[227.81666564941406],[228.43333435058594],[227.0066680908203],[230.0],[221.68333435058594],[209.03334045410156],[206.80332946777344],[202.15333557128906],[197.6233367919922],[196.57666015625],[198.75],[188.73666381835938],[196.28334045410156],[198.89332580566406],[204.82666015625],[204.663330078125],[208.72332763671875],[210.3766632080078],[211.8633270263672],[211.26666259765625],[207.7866668701172],[201.51666259765625],[200.20333862304688],[203.3333282470703],[207.69667053222656],[203.92999267578125],[205.52999877929688],[204.18666076660156],[208.49667358398438],[205.59666442871094],[202.8333282470703],[207.1566619873047],[209.4499969482422],[210.4633331298828],[209.52333068847656],[219.06666564941406],[232.5399932861328],[231.27000427246094],[231.56666564941406],[229.1699981689453]],\"low\":[[28.11400032043457],[29.128000259399414],[29.333332061767578],[30.224000930786133],[31.215333938598633],[31.524667739868164],[31.579999923706055],[32.79999923706055],[34.99333190917969],[34.452667236328125],[32.81133270263672],[33.54399871826172],[35.227333068847656],[37.27333450317383],[37.040000915527344],[36.95066833496094],[35.95199966430664],[37.2053337097168],[37.82866668701172],[41.20000076293945],[42.167999267578125],[44.90133285522461],[55.59199905395508],[46.94066619873047],[45.79999923706055],[48.66666793823242],[50.15999984741211],[50.53333282470703],[50.891334533691406],[49.0],[52.366668701171875],[55.490665435791016],[60.06800079345703],[57.3293342590332],[58.6966667175293],[54.813331604003906],[52.46666717529297],[51.740665435791016],[44.599998474121094],[40.768001556396484],[45.77799987792969],[47.740665435791016],[48.31533432006836],[47.871334075927734],[45.61800003051758],[40.33333206176758],[40.53333282470703],[40.866668701171875],[36.41666793823242],[33.46666717529297],[29.47800064086914],[26.399999618530273],[23.367332458496094],[23.8973331451416],[28.38599967956543],[27.366666793823242],[31.600000381469727],[34.07400131225586],[34.150001525878906],[32.935333251953125],[32.7486686706543],[33.133331298828125],[31.67333221435547],[29.760000228881836],[31.22599983215332],[33.19733428955078],[35.48933410644531],[35.55533218383789],[37.14066696166992],[38.70199966430664],[46.1619987487793],[47.33333206176758],[47.11466598510742],[49.84400177001953],[47.48066711425781],[44.919334411621094],[45.91400146484375],[46.87533187866211],[46.54533386230469],[49.0],[50.44599914550781],[52.21066665649414],[50.900001525878906],[45.5359992980957],[46.53333282470703],[50.8120002746582],[50.740665435791016],[51.4900016784668],[52.46733474731445],[52.33333206176758],[53.866668701171875],[50.88666534423828],[50.93333435058594],[52.436668395996094],[53.59199905395508],[53.73866653442383],[54.119998931884766],[53.06666564941406],[54.133331298828125],[54.38066864013672],[52.33333206176758],[53.44599914550781],[53.61399841308594],[56.939998626708984],[58.06666564941406],[58.67333221435547],[57.229331970214844],[57.746665954589844],[60.61066818237305],[61.595333099365234],[65.5],[64.80000305175781],[60.84000015258789],[60.56666564941406],[64.15933227539062],[65.50466918945312],[66.2979965209961],[66.0893325805664],[66.00133514404297],[66.267333984375],[63.542667388916016],[62.47666549682617],[63.65800094604492],[63.23466873168945],[66.91533660888672],[72.03333282470703],[79.04000091552734],[84.40266418457031],[89.11399841308594],[87.42266845703125],[90.08533477783203],[91.73400115966797],[98.0739974975586],[95.4000015258789],[97.13333129882812],[97.73332977294922],[99.33333587646484],[99.19999694824219],[103.86666870117188],[104.13333129882812],[98.71800231933594],[91.10266876220703],[94.19999694824219],[98.29467010498047],[99.13333129882812],[98.06666564941406],[94.73200225830078],[96.29199981689453],[97.46666717529297],[97.88733673095703],[98.48400115966797],[94.33399963378906],[92.38933563232422],[91.0],[95.66666412353516],[104.48400115966797],[108.44266510009766],[111.52200317382812],[123.00733184814453],[122.74732971191406],[123.80400085449219],[135.00332641601562],[128.50132751464844],[131.1999969482422],[136.90866088867188],[142.8333282470703],[145.76800537109375],[146.70333862304688],[156.836669921875],[135.0399932861328],[134.0],[124.00666809082031],[109.95999908447266],[113.836669921875],[120.1866683959961],[120.16666412353516],[124.43333435058594],[143.56666564941406],[145.10333251953125],[136.0],[142.93333435058594],[135.69000244140625],[139.1999969482422],[125.2933349609375],[117.0999984741211],[130.43333435058594],[138.51666259765625],[137.1999969482422],[140.1566619873047],[144.80667114257812],[138.3333282470703],[139.77667236328125],[135.35000610351562],[137.9499969482422],[141.76666259765625],[142.15333557128906],[146.19332885742188],[145.53334045410156],[149.11666870117188],[147.5],[146.28334045410156],[142.9566650390625],[139.68333435058594],[140.4166717529297],[141.50332641601562],[135.7933349609375],[136.6666717529297],[140.03334045410156],[135.3333282470703],[135.48666381835938],[126.37000274658203],[130.76666259765625],[135.56333923339844],[139.03334045410156],[141.3333282470703],[141.42666625976562],[140.3333282470703],[132.00999450683594],[136.86000061035156],[136.5066680908203],[133.8866729736328],[134.69667053222656],[144.336669921875],[147.8333282470703],[162.52333068847656],[163.02000427246094],[167.26333618164062],[175.39999389648438],[181.7899932861328],[192.81666564941406],[184.836669921875],[190.68333435058594],[180.40333557128906],[194.14332580566406],[195.1666717529297],[201.01666259765625],[206.1666717529297],[196.0],[188.77999877929688],[198.93333435058594],[203.39999389648438],[207.93333435058594],[201.6666717529297],[206.5],[209.51333618164062],[215.35667419433594],[204.7433319091797],[207.52333068847656],[213.6666717529297],[220.26666259765625],[218.3333282470703],[222.7866668701172],[230.3733367919922],[239.06333923339844],[239.73333740234375],[249.6999969482422],[258.3999938964844],[279.46331787109375],[267.8733215332031],[275.7799987792969],[277.3333435058594],[279.5833435058594],[273.0333251953125],[277.6666564941406],[279.09332275390625],[280.47332763671875],[276.2066650390625],[279.6066589355469],[290.5333251953125],[286.2200012207031],[267.0],[260.0333251953125],[265.1866760253906],[280.73333740234375],[284.35333251953125],[277.8066711425781],[279.65667724609375],[284.9166564941406],[280.5833435058594],[266.67333984375],[267.24334716796875],[261.77667236328125],[264.14666748046875],[254.00332641601562],[258.75665283203125],[259.1233215332031],[236.73333740234375],[206.3333282470703],[231.38999938964844],[223.52667236328125],[219.836669921875],[228.35000610351562],[228.3333282470703],[217.23666381835938],[200.0],[179.8300018310547],[186.26333618164062],[198.40333557128906],[218.35333251953125],[225.72666931152344],[222.04666137695312],[228.01333618164062],[223.6666717529297],[217.00332641601562],[217.3333282470703],[208.2066650390625],[222.9166717529297],[219.1699981689453],[210.0366668701172],[203.1666717529297],[199.9633331298828],[198.67333984375],[197.00332641601562],[213.70333862304688],[219.80667114257812],[228.23333740234375],[227.1233367919922],[222.6133270263672],[223.88333129882812],[223.14332580566406],[227.3633270263672],[236.8866729736328],[242.67666625976562],[240.43666076660156],[241.53334045410156],[230.60000610351562],[236.89666748046875],[232.6666717529297],[239.34666442871094],[238.48666381835938],[244.20333862304688],[234.4499969482422],[231.1999969482422],[222.8333282470703],[222.04666137695312],[226.8333282470703],[219.23333740234375],[222.44667053222656],[216.6666717529297],[220.07333374023438],[209.20333862304688],[198.53334045410156],[195.58999633789062],[186.5500030517578],[190.15333557128906],[187.06666564941406],[187.7933349609375],[182.32666015625],[190.35667419433594],[193.3333282470703],[191.21665954589844],[198.57000732421875],[200.5],[205.40333557128906],[207.4600067138672],[206.85000610351562],[199.7133331298828],[190.4066619873047],[192.39999389648438],[194.2933349609375],[198.5],[199.2100067138672],[200.1666717529297],[200.5066680908203],[203.05999755859375],[199.41000366210938],[197.8333282470703],[200.44667053222656],[203.93333435058594],[202.9600067138672],[205.1666717529297],[210.01333618164062],[222.5366668701172],[222.89999389648438],[223.44000244140625],[225.29666137695312]],\"open\":[[28.299999237060547],[29.366666793823242],[29.364667892456055],[30.760000228881836],[31.579999923706055],[33.13999938964844],[32.11933135986328],[32.900001525878906],[36.284000396728516],[35.31733322143555],[32.91666793823242],[33.840667724609375],[35.349998474121094],[38.125999450683594],[37.616668701171875],[38.04199981689453],[36.132667541503906],[37.89933395385742],[38.37933349609375],[42.16133117675781],[42.66666793823242],[44.91266632080078],[58.86399841308594],[54.88399887084961],[46.66133117675781],[48.70333480834961],[53.33333206176758],[51.25266647338867],[51.858001708984375],[49.45600128173828],[52.4813346862793],[56.106666564941406],[61.56666564941406],[60.79666519165039],[60.46533203125],[55.93333435058594],[56.599998474121094],[52.16666793823242],[48.66666793823242],[41.97999954223633],[47.41733169555664],[53.66666793823242],[50.930667877197266],[48.2513313293457],[46.0],[40.35933303833008],[43.96200180053711],[42.68000030517578],[38.72600173950195],[39.66666793823242],[31.299999237060547],[29.333999633789062],[25.933332443237305],[24.979999542236328],[29.213333129882812],[28.906667709350586],[31.81999969482422],[36.349998474121094],[36.49266815185547],[33.66666793823242],[34.017333984375],[33.41666793823242],[33.599998474121094],[32.068668365478516],[33.96666717529297],[34.08000183105469],[36.33333206176758],[36.9466667175293],[37.4726676940918],[39.34400177001953],[46.597999572753906],[49.46666717529297],[47.79600143432617],[51.48533248901367],[48.8466682434082],[48.67466735839844],[46.93199920654297],[48.50666809082031],[47.387332916259766],[49.17399978637695],[53.042667388916016],[52.678001403808594],[57.01266860961914],[50.33333206176758],[46.733333587646484],[52.65266799926758],[51.766666412353516],[51.81399917602539],[52.917999267578125],[52.70066833496094],[55.133331298828125],[54.72200012207031],[52.0],[52.689998626708984],[55.185333251953125],[54.34466552734375],[54.70000076293945],[54.400001525878906],[54.81133270263672],[55.633331298828125],[54.7239990234375],[54.23400115966797],[53.91666793823242],[57.20000076293945],[59.64666748046875],[59.20800018310547],[59.32533264160156],[58.522666931152344],[61.266666412353516],[62.66733169555664],[66.12533569335938],[66.01333618164062],[65.33333587646484],[61.18600082397461],[67.4566650390625],[65.84733581542969],[66.86666870117188],[67.51866912841797],[66.663330078125],[66.59200286865234],[66.27400207519531],[63.61800003051758],[66.31866455078125],[64.60066986083984],[67.0999984741211],[72.19999694824219],[81.43199920654297],[85.11266326904297],[93.6673355102539],[93.66666412353516],[93.1326675415039],[93.06666564941406],[110.5999984741211],[103.73332977294922],[102.86666870117188],[98.47733306884766],[100.89666748046875],[101.267333984375],[109.32866668701172],[106.5999984741211],[111.93000030517578],[94.40066528320312],[95.66666412353516],[100.26667022705078],[100.06666564941406],[99.19999694824219],[101.0],[96.61333465576172],[99.6673355102539],[99.53266906738281],[99.38866424560547],[99.96932983398438],[96.53333282470703],[93.06666564941406],[98.0],[107.4000015258789],[110.99933624267578],[111.80000305175781],[126.59933471679688],[124.33333587646484],[124.04533386230469],[136.3173370361328],[141.7519989013672],[131.65933227539062],[137.3333282470703],[145.36399841308594],[153.00799560546875],[148.20333862304688],[167.3800048828125],[159.663330078125],[135.7433319091797],[134.27000427246094],[118.66666412353516],[118.86666870117188],[128.73666381835938],[127.3133316040039],[126.98332977294922],[145.52000427246094],[146.6233367919922],[138.53334045410156],[149.31333923339844],[151.0433349609375],[143.1999969482422],[135.05332946777344],[121.26667022705078],[131.1566619873047],[141.5399932861328],[138.6666717529297],[140.44000244140625],[146.9199981689453],[140.4633331298828],[141.11666870117188],[141.26333618164062],[139.9566650390625],[146.14666748046875],[143.3766632080078],[147.3333282470703],[147.78334045410156],[149.92666625976562],[150.10333251953125],[151.47999572753906],[148.74667358398438],[143.9166717529297],[140.89999389648438],[147.30667114257812],[140.6133270263672],[137.2100067138672],[141.25332641601562],[138.82666015625],[136.65333557128906],[135.63333129882812],[131.3333282470703],[136.57666015625],[143.5399932861328],[142.76666259765625],[145.36666870117188],[146.5],[140.02999877929688],[138.81666564941406],[138.35000610351562],[136.9499969482422],[136.30999755859375],[153.38999938964844],[149.4499969482422],[164.0],[165.99667358398438],[167.8333282470703],[180.13333129882812],[183.35333251953125],[193.72000122070312],[200.73666381835938],[199.19667053222656],[185.47999572753906],[196.67333984375],[197.00332641601562],[201.63999938964844],[208.50332641601562],[217.89666748046875],[191.4566650390625],[205.00332641601562],[206.3333282470703],[214.42666625976562],[209.41000366210938],[209.39666748046875],[222.96665954589844],[222.0800018310547],[216.0],[210.73333740234375],[214.3300018310547],[224.836669921875],[220.3333282470703],[224.0],[233.3300018310547],[239.82000732421875],[241.22000122070312],[252.8300018310547],[259.2099914550781],[285.3333435058594],[283.1333312988281],[277.0],[284.2533264160156],[281.1300048828125],[284.0],[279.26666259765625],[286.2466735839844],[285.0],[278.10333251953125],[285.0],[297.1266784667969],[290.1166687011719],[273.3333435058594],[276.6666564941406],[271.42999267578125],[281.55999755859375],[292.3399963378906],[285.0],[281.6666564941406],[289.8900146484375],[285.0400085449219],[281.21331787109375],[270.8133239746094],[267.086669921875],[272.6666564941406],[259.6966552734375],[260.29998779296875],[265.0],[254.2133331298828],[220.7100067138672],[237.28334045410156],[242.0500030517578],[233.3333282470703],[230.0366668701172],[239.42666625976562],[229.3300018310547],[218.60000610351562],[208.68666076660156],[200.18333435058594],[202.72666931152344],[233.43333435058594],[233.13333129882812],[223.3333282470703],[231.3633270263672],[234.4499969482422],[218.9566650390625],[228.09666442871094],[215.53334045410156],[228.19667053222656],[225.2566680908203],[222.6366729736328],[204.3333282470703],[213.9566650390625],[205.2133331298828],[200.5833282470703],[215.5399932861328],[229.4566650390625],[235.90333557128906],[230.10000610351562],[229.0],[225.7933349609375],[225.92333984375],[228.56666564941406],[237.56666564941406],[256.8999938964844],[247.6999969482422],[242.88333129882812],[239.86666870117188],[239.13999938964844],[234.92333984375],[247.1666717529297],[239.93333435058594],[247.0],[239.32000732421875],[232.1366729736328],[233.1699981689453],[222.52999877929688],[234.60000610351562],[226.31333923339844],[227.02000427246094],[226.9199981689453],[221.93333435058594],[221.63333129882812],[199.74667358398438],[200.8300018310547],[200.51333618164062],[194.47000122070312],[191.85000610351562],[189.3333282470703],[184.18333435058594],[191.6666717529297],[198.70333862304688],[193.86666870117188],[202.43666076660156],[202.52000427246094],[206.74667358398438],[209.5],[209.26666259765625],[206.7100067138672],[200.60000610351562],[193.23666381835938],[197.27667236328125],[207.6699981689453],[200.72332763671875],[201.2933349609375],[203.41000366210938],[204.07666015625],[205.56333923339844],[199.17999267578125],[200.6300048828125],[204.4566650390625],[208.16000366210938],[206.0833282470703],[210.6666717529297],[224.99667358398438],[229.86000061035156],[223.8800048828125],[228.21665954589844]],\"type\":\"candlestick\"}],                        {\"template\":{\"data\":{\"histogram2dcontour\":[{\"type\":\"histogram2dcontour\",\"colorbar\":{\"outlinewidth\":0,\"ticks\":\"\"},\"colorscale\":[[0.0,\"#0d0887\"],[0.1111111111111111,\"#46039f\"],[0.2222222222222222,\"#7201a8\"],[0.3333333333333333,\"#9c179e\"],[0.4444444444444444,\"#bd3786\"],[0.5555555555555556,\"#d8576b\"],[0.6666666666666666,\"#ed7953\"],[0.7777777777777778,\"#fb9f3a\"],[0.8888888888888888,\"#fdca26\"],[1.0,\"#f0f921\"]]}],\"choropleth\":[{\"type\":\"choropleth\",\"colorbar\":{\"outlinewidth\":0,\"ticks\":\"\"}}],\"histogram2d\":[{\"type\":\"histogram2d\",\"colorbar\":{\"outlinewidth\":0,\"ticks\":\"\"},\"colorscale\":[[0.0,\"#0d0887\"],[0.1111111111111111,\"#46039f\"],[0.2222222222222222,\"#7201a8\"],[0.3333333333333333,\"#9c179e\"],[0.4444444444444444,\"#bd3786\"],[0.5555555555555556,\"#d8576b\"],[0.6666666666666666,\"#ed7953\"],[0.7777777777777778,\"#fb9f3a\"],[0.8888888888888888,\"#fdca26\"],[1.0,\"#f0f921\"]]}],\"heatmap\":[{\"type\":\"heatmap\",\"colorbar\":{\"outlinewidth\":0,\"ticks\":\"\"},\"colorscale\":[[0.0,\"#0d0887\"],[0.1111111111111111,\"#46039f\"],[0.2222222222222222,\"#7201a8\"],[0.3333333333333333,\"#9c179e\"],[0.4444444444444444,\"#bd3786\"],[0.5555555555555556,\"#d8576b\"],[0.6666666666666666,\"#ed7953\"],[0.7777777777777778,\"#fb9f3a\"],[0.8888888888888888,\"#fdca26\"],[1.0,\"#f0f921\"]]}],\"heatmapgl\":[{\"type\":\"heatmapgl\",\"colorbar\":{\"outlinewidth\":0,\"ticks\":\"\"},\"colorscale\":[[0.0,\"#0d0887\"],[0.1111111111111111,\"#46039f\"],[0.2222222222222222,\"#7201a8\"],[0.3333333333333333,\"#9c179e\"],[0.4444444444444444,\"#bd3786\"],[0.5555555555555556,\"#d8576b\"],[0.6666666666666666,\"#ed7953\"],[0.7777777777777778,\"#fb9f3a\"],[0.8888888888888888,\"#fdca26\"],[1.0,\"#f0f921\"]]}],\"contourcarpet\":[{\"type\":\"contourcarpet\",\"colorbar\":{\"outlinewidth\":0,\"ticks\":\"\"}}],\"contour\":[{\"type\":\"contour\",\"colorbar\":{\"outlinewidth\":0,\"ticks\":\"\"},\"colorscale\":[[0.0,\"#0d0887\"],[0.1111111111111111,\"#46039f\"],[0.2222222222222222,\"#7201a8\"],[0.3333333333333333,\"#9c179e\"],[0.4444444444444444,\"#bd3786\"],[0.5555555555555556,\"#d8576b\"],[0.6666666666666666,\"#ed7953\"],[0.7777777777777778,\"#fb9f3a\"],[0.8888888888888888,\"#fdca26\"],[1.0,\"#f0f921\"]]}],\"surface\":[{\"type\":\"surface\",\"colorbar\":{\"outlinewidth\":0,\"ticks\":\"\"},\"colorscale\":[[0.0,\"#0d0887\"],[0.1111111111111111,\"#46039f\"],[0.2222222222222222,\"#7201a8\"],[0.3333333333333333,\"#9c179e\"],[0.4444444444444444,\"#bd3786\"],[0.5555555555555556,\"#d8576b\"],[0.6666666666666666,\"#ed7953\"],[0.7777777777777778,\"#fb9f3a\"],[0.8888888888888888,\"#fdca26\"],[1.0,\"#f0f921\"]]}],\"mesh3d\":[{\"type\":\"mesh3d\",\"colorbar\":{\"outlinewidth\":0,\"ticks\":\"\"}}],\"scatter\":[{\"fillpattern\":{\"fillmode\":\"overlay\",\"size\":10,\"solidity\":0.2},\"type\":\"scatter\"}],\"parcoords\":[{\"type\":\"parcoords\",\"line\":{\"colorbar\":{\"outlinewidth\":0,\"ticks\":\"\"}}}],\"scatterpolargl\":[{\"type\":\"scatterpolargl\",\"marker\":{\"colorbar\":{\"outlinewidth\":0,\"ticks\":\"\"}}}],\"bar\":[{\"error_x\":{\"color\":\"#2a3f5f\"},\"error_y\":{\"color\":\"#2a3f5f\"},\"marker\":{\"line\":{\"color\":\"#E5ECF6\",\"width\":0.5},\"pattern\":{\"fillmode\":\"overlay\",\"size\":10,\"solidity\":0.2}},\"type\":\"bar\"}],\"scattergeo\":[{\"type\":\"scattergeo\",\"marker\":{\"colorbar\":{\"outlinewidth\":0,\"ticks\":\"\"}}}],\"scatterpolar\":[{\"type\":\"scatterpolar\",\"marker\":{\"colorbar\":{\"outlinewidth\":0,\"ticks\":\"\"}}}],\"histogram\":[{\"marker\":{\"pattern\":{\"fillmode\":\"overlay\",\"size\":10,\"solidity\":0.2}},\"type\":\"histogram\"}],\"scattergl\":[{\"type\":\"scattergl\",\"marker\":{\"colorbar\":{\"outlinewidth\":0,\"ticks\":\"\"}}}],\"scatter3d\":[{\"type\":\"scatter3d\",\"line\":{\"colorbar\":{\"outlinewidth\":0,\"ticks\":\"\"}},\"marker\":{\"colorbar\":{\"outlinewidth\":0,\"ticks\":\"\"}}}],\"scattermapbox\":[{\"type\":\"scattermapbox\",\"marker\":{\"colorbar\":{\"outlinewidth\":0,\"ticks\":\"\"}}}],\"scatterternary\":[{\"type\":\"scatterternary\",\"marker\":{\"colorbar\":{\"outlinewidth\":0,\"ticks\":\"\"}}}],\"scattercarpet\":[{\"type\":\"scattercarpet\",\"marker\":{\"colorbar\":{\"outlinewidth\":0,\"ticks\":\"\"}}}],\"carpet\":[{\"aaxis\":{\"endlinecolor\":\"#2a3f5f\",\"gridcolor\":\"white\",\"linecolor\":\"white\",\"minorgridcolor\":\"white\",\"startlinecolor\":\"#2a3f5f\"},\"baxis\":{\"endlinecolor\":\"#2a3f5f\",\"gridcolor\":\"white\",\"linecolor\":\"white\",\"minorgridcolor\":\"white\",\"startlinecolor\":\"#2a3f5f\"},\"type\":\"carpet\"}],\"table\":[{\"cells\":{\"fill\":{\"color\":\"#EBF0F8\"},\"line\":{\"color\":\"white\"}},\"header\":{\"fill\":{\"color\":\"#C8D4E3\"},\"line\":{\"color\":\"white\"}},\"type\":\"table\"}],\"barpolar\":[{\"marker\":{\"line\":{\"color\":\"#E5ECF6\",\"width\":0.5},\"pattern\":{\"fillmode\":\"overlay\",\"size\":10,\"solidity\":0.2}},\"type\":\"barpolar\"}],\"pie\":[{\"automargin\":true,\"type\":\"pie\"}]},\"layout\":{\"autotypenumbers\":\"strict\",\"colorway\":[\"#636efa\",\"#EF553B\",\"#00cc96\",\"#ab63fa\",\"#FFA15A\",\"#19d3f3\",\"#FF6692\",\"#B6E880\",\"#FF97FF\",\"#FECB52\"],\"font\":{\"color\":\"#2a3f5f\"},\"hovermode\":\"closest\",\"hoverlabel\":{\"align\":\"left\"},\"paper_bgcolor\":\"white\",\"plot_bgcolor\":\"#E5ECF6\",\"polar\":{\"bgcolor\":\"#E5ECF6\",\"angularaxis\":{\"gridcolor\":\"white\",\"linecolor\":\"white\",\"ticks\":\"\"},\"radialaxis\":{\"gridcolor\":\"white\",\"linecolor\":\"white\",\"ticks\":\"\"}},\"ternary\":{\"bgcolor\":\"#E5ECF6\",\"aaxis\":{\"gridcolor\":\"white\",\"linecolor\":\"white\",\"ticks\":\"\"},\"baxis\":{\"gridcolor\":\"white\",\"linecolor\":\"white\",\"ticks\":\"\"},\"caxis\":{\"gridcolor\":\"white\",\"linecolor\":\"white\",\"ticks\":\"\"}},\"coloraxis\":{\"colorbar\":{\"outlinewidth\":0,\"ticks\":\"\"}},\"colorscale\":{\"sequential\":[[0.0,\"#0d0887\"],[0.1111111111111111,\"#46039f\"],[0.2222222222222222,\"#7201a8\"],[0.3333333333333333,\"#9c179e\"],[0.4444444444444444,\"#bd3786\"],[0.5555555555555556,\"#d8576b\"],[0.6666666666666666,\"#ed7953\"],[0.7777777777777778,\"#fb9f3a\"],[0.8888888888888888,\"#fdca26\"],[1.0,\"#f0f921\"]],\"sequentialminus\":[[0.0,\"#0d0887\"],[0.1111111111111111,\"#46039f\"],[0.2222222222222222,\"#7201a8\"],[0.3333333333333333,\"#9c179e\"],[0.4444444444444444,\"#bd3786\"],[0.5555555555555556,\"#d8576b\"],[0.6666666666666666,\"#ed7953\"],[0.7777777777777778,\"#fb9f3a\"],[0.8888888888888888,\"#fdca26\"],[1.0,\"#f0f921\"]],\"diverging\":[[0,\"#8e0152\"],[0.1,\"#c51b7d\"],[0.2,\"#de77ae\"],[0.3,\"#f1b6da\"],[0.4,\"#fde0ef\"],[0.5,\"#f7f7f7\"],[0.6,\"#e6f5d0\"],[0.7,\"#b8e186\"],[0.8,\"#7fbc41\"],[0.9,\"#4d9221\"],[1,\"#276419\"]]},\"xaxis\":{\"gridcolor\":\"white\",\"linecolor\":\"white\",\"ticks\":\"\",\"title\":{\"standoff\":15},\"zerolinecolor\":\"white\",\"automargin\":true,\"zerolinewidth\":2},\"yaxis\":{\"gridcolor\":\"white\",\"linecolor\":\"white\",\"ticks\":\"\",\"title\":{\"standoff\":15},\"zerolinecolor\":\"white\",\"automargin\":true,\"zerolinewidth\":2},\"scene\":{\"xaxis\":{\"backgroundcolor\":\"#E5ECF6\",\"gridcolor\":\"white\",\"linecolor\":\"white\",\"showbackground\":true,\"ticks\":\"\",\"zerolinecolor\":\"white\",\"gridwidth\":2},\"yaxis\":{\"backgroundcolor\":\"#E5ECF6\",\"gridcolor\":\"white\",\"linecolor\":\"white\",\"showbackground\":true,\"ticks\":\"\",\"zerolinecolor\":\"white\",\"gridwidth\":2},\"zaxis\":{\"backgroundcolor\":\"#E5ECF6\",\"gridcolor\":\"white\",\"linecolor\":\"white\",\"showbackground\":true,\"ticks\":\"\",\"zerolinecolor\":\"white\",\"gridwidth\":2}},\"shapedefaults\":{\"line\":{\"color\":\"#2a3f5f\"}},\"annotationdefaults\":{\"arrowcolor\":\"#2a3f5f\",\"arrowhead\":0,\"arrowwidth\":1},\"geo\":{\"bgcolor\":\"white\",\"landcolor\":\"#E5ECF6\",\"subunitcolor\":\"white\",\"showland\":true,\"showlakes\":true,\"lakecolor\":\"white\"},\"title\":{\"x\":0.05},\"mapbox\":{\"style\":\"light\"}}},\"title\":{\"text\":\"Tesla Stock Price\"},\"xaxis\":{\"title\":{\"text\":\"Date\"}},\"yaxis\":{\"title\":{\"text\":\"Price (USD)\"}}},                        {\"responsive\": true}                    ).then(function(){\n",
       "                            \n",
       "var gd = document.getElementById('dbffdda7-b95e-4999-bd56-a95ac0fd05c5');\n",
       "var x = new MutationObserver(function (mutations, observer) {{\n",
       "        var display = window.getComputedStyle(gd).display;\n",
       "        if (!display || display === 'none') {{\n",
       "            console.log([gd, 'removed!']);\n",
       "            Plotly.purge(gd);\n",
       "            observer.disconnect();\n",
       "        }}\n",
       "}});\n",
       "\n",
       "// Listen for the removal of the full notebook cells\n",
       "var notebookContainer = gd.closest('#notebook-container');\n",
       "if (notebookContainer) {{\n",
       "    x.observe(notebookContainer, {childList: true});\n",
       "}}\n",
       "\n",
       "// Listen for the clearing of the current output cell\n",
       "var outputEl = gd.closest('.output');\n",
       "if (outputEl) {{\n",
       "    x.observe(outputEl, {childList: true});\n",
       "}}\n",
       "\n",
       "                        })                };                });            </script>        </div>"
      ]
     },
     "metadata": {},
     "output_type": "display_data"
    }
   ],
   "source": [
    "!pip install yfinance plotly\n",
    "import yfinance as yf\n",
    "import plotly.graph_objects as go\n",
    "import pandas as pd\n",
    "\n",
    "# Define the make_graph function (assuming it's similar to previous examples)\n",
    "def make_graph(stock_data, revenue_data, stock_name):  \n",
    "    \"\"\"Creates and displays a line graph of stock closing prices.\n",
    "\n",
    "    Args:\n",
    "        stock_data (pd.DataFrame): DataFrame containing stock data with a 'Close' column.\n",
    "        revenue_data (pd.DataFrame): DataFrame containing revenue data (may not be used in this case).\n",
    "        stock_name (str): Name of the stock for the graph title.\n",
    "    \"\"\"\n",
    "    fig = go.Figure(data=[go.Candlestick(\n",
    "                open=stock_data['Open'],\n",
    "                high=stock_data['High'],\n",
    "                low=stock_data['Low'],\n",
    "                close=stock_data['Close'])])\n",
    "\n",
    "    fig.update_layout(title_text=f\"{stock_name} Stock Price\",\n",
    "                      xaxis_title=\"Date\",\n",
    "                      yaxis_title=\"Price (USD)\")\n",
    "    fig.show()\n",
    "\n",
    "\n",
    "# Fetch Tesla stock data\n",
    "tesla_data = yf.download(\"TSLA\", start=\"2020-01-01\", end=\"2021-06-30\")  # Data up to June 2021\n",
    "\n",
    "# Create a dummy revenue DataFrame (since it's not used in the make_graph function)\n",
    "tesla_revenue = pd.DataFrame()  \n",
    "\n",
    "# Call the make_graph function as instructed in the hint\n",
    "make_graph(tesla_data, tesla_revenue, \"Tesla\")"
   ]
  },
  {
   "cell_type": "code",
   "execution_count": 35,
   "id": "78d09bff-9ab3-40cd-9e97-ded07c161566",
   "metadata": {},
   "outputs": [
    {
     "name": "stdout",
     "output_type": "stream",
     "text": [
      "Requirement already satisfied: yfinance in /opt/conda/lib/python3.12/site-packages (0.2.54)\n",
      "Requirement already satisfied: plotly in /opt/conda/lib/python3.12/site-packages (5.24.1)\n",
      "Requirement already satisfied: pandas>=1.3.0 in /opt/conda/lib/python3.12/site-packages (from yfinance) (2.2.3)\n",
      "Requirement already satisfied: numpy>=1.16.5 in /opt/conda/lib/python3.12/site-packages (from yfinance) (2.2.3)\n",
      "Requirement already satisfied: requests>=2.31 in /opt/conda/lib/python3.12/site-packages (from yfinance) (2.32.3)\n",
      "Requirement already satisfied: multitasking>=0.0.7 in /opt/conda/lib/python3.12/site-packages (from yfinance) (0.0.11)\n",
      "Requirement already satisfied: platformdirs>=2.0.0 in /opt/conda/lib/python3.12/site-packages (from yfinance) (4.3.6)\n",
      "Requirement already satisfied: pytz>=2022.5 in /opt/conda/lib/python3.12/site-packages (from yfinance) (2024.2)\n",
      "Requirement already satisfied: frozendict>=2.3.4 in /opt/conda/lib/python3.12/site-packages (from yfinance) (2.4.6)\n",
      "Requirement already satisfied: peewee>=3.16.2 in /opt/conda/lib/python3.12/site-packages (from yfinance) (3.17.9)\n",
      "Requirement already satisfied: beautifulsoup4>=4.11.1 in /opt/conda/lib/python3.12/site-packages (from yfinance) (4.12.3)\n",
      "Requirement already satisfied: tenacity>=6.2.0 in /opt/conda/lib/python3.12/site-packages (from plotly) (9.0.0)\n",
      "Requirement already satisfied: packaging in /opt/conda/lib/python3.12/site-packages (from plotly) (24.2)\n",
      "Requirement already satisfied: soupsieve>1.2 in /opt/conda/lib/python3.12/site-packages (from beautifulsoup4>=4.11.1->yfinance) (2.5)\n",
      "Requirement already satisfied: python-dateutil>=2.8.2 in /opt/conda/lib/python3.12/site-packages (from pandas>=1.3.0->yfinance) (2.9.0.post0)\n",
      "Requirement already satisfied: tzdata>=2022.7 in /opt/conda/lib/python3.12/site-packages (from pandas>=1.3.0->yfinance) (2025.1)\n",
      "Requirement already satisfied: charset_normalizer<4,>=2 in /opt/conda/lib/python3.12/site-packages (from requests>=2.31->yfinance) (3.4.1)\n",
      "Requirement already satisfied: idna<4,>=2.5 in /opt/conda/lib/python3.12/site-packages (from requests>=2.31->yfinance) (3.10)\n",
      "Requirement already satisfied: urllib3<3,>=1.21.1 in /opt/conda/lib/python3.12/site-packages (from requests>=2.31->yfinance) (2.3.0)\n",
      "Requirement already satisfied: certifi>=2017.4.17 in /opt/conda/lib/python3.12/site-packages (from requests>=2.31->yfinance) (2024.12.14)\n",
      "Requirement already satisfied: six>=1.5 in /opt/conda/lib/python3.12/site-packages (from python-dateutil>=2.8.2->pandas>=1.3.0->yfinance) (1.17.0)\n"
     ]
    },
    {
     "name": "stderr",
     "output_type": "stream",
     "text": [
      "[*********************100%***********************]  1 of 1 completed\n"
     ]
    },
    {
     "data": {
      "application/vnd.plotly.v1+json": {
       "config": {
        "plotlyServerURL": "https://plot.ly"
       },
       "data": [
        {
         "close": [
          [
           1.5774999856948853
          ],
          [
           1.4700000286102295
          ],
          [
           1.462499976158142
          ],
          [
           1.3799999952316284
          ],
          [
           1.4299999475479126
          ],
          [
           1.3875000476837158
          ],
          [
           1.3574999570846558
          ],
          [
           1.3574999570846558
          ],
          [
           1.1775000095367432
          ],
          [
           1.152500033378601
          ],
          [
           1.1549999713897705
          ],
          [
           1.1875
          ],
          [
           1.1475000381469727
          ],
          [
           1.1399999856948853
          ],
          [
           1.1549999713897705
          ],
          [
           1.0800000429153442
          ],
          [
           1.0700000524520874
          ],
          [
           1.0525000095367432
          ],
          [
           1.0325000286102295
          ],
          [
           0.9825000166893005
          ],
          [
           0.9599999785423279
          ],
          [
           0.987500011920929
          ],
          [
           1.0175000429153442
          ],
          [
           1.0449999570846558
          ],
          [
           1.034999966621399
          ],
          [
           0.9524999856948853
          ],
          [
           0.9850000143051147
          ],
          [
           1.0049999952316284
          ],
          [
           1.0475000143051147
          ],
          [
           1.027500033378601
          ],
          [
           1.0049999952316284
          ],
          [
           1.0149999856948853
          ],
          [
           1.037500023841858
          ],
          [
           1.034999966621399
          ],
          [
           1.0099999904632568
          ],
          [
           0.925000011920929
          ],
          [
           0.8899999856948853
          ],
          [
           0.8475000262260437
          ],
          [
           0.8675000071525574
          ],
          [
           0.8999999761581421
          ],
          [
           0.9574999809265137
          ],
          [
           0.9075000286102295
          ],
          [
           0.9424999952316284
          ],
          [
           0.9900000095367432
          ],
          [
           0.9800000190734863
          ],
          [
           0.925000011920929
          ],
          [
           1.0575000047683716
          ],
          [
           1.034999966621399
          ],
          [
           0.9950000047683716
          ],
          [
           1.1475000381469727
          ],
          [
           1.0924999713897705
          ],
          [
           1.0575000047683716
          ],
          [
           0.9424999952316284
          ],
          [
           1.0475000143051147
          ],
          [
           0.9399999976158142
          ],
          [
           0.9524999856948853
          ],
          [
           1.0399999618530273
          ],
          [
           1.0425000190734863
          ],
          [
           1.1024999618530273
          ],
          [
           1.0549999475479126
          ],
          [
           0.9125000238418579
          ],
          [
           0.875
          ],
          [
           0.8125
          ],
          [
           0.7124999761581421
          ],
          [
           0.699999988079071
          ],
          [
           0.7724999785423279
          ],
          [
           0.8174999952316284
          ],
          [
           0.8525000214576721
          ],
          [
           0.9725000262260437
          ],
          [
           1.184999942779541
          ],
          [
           1.4874999523162842
          ],
          [
           1.3174999952316284
          ],
          [
           1.2575000524520874
          ],
          [
           1.2200000286102295
          ],
          [
           1.402500033378601
          ],
          [
           1.1950000524520874
          ],
          [
           1.222499966621399
          ],
          [
           1.1749999523162842
          ],
          [
           1.1924999952316284
          ],
          [
           1.4550000429153442
          ],
          [
           1.409999966621399
          ],
          [
           1.5099999904632568
          ],
          [
           1.4325000047683716
          ],
          [
           1.5125000476837158
          ],
          [
           1.3700000047683716
          ],
          [
           1.347499966621399
          ],
          [
           1.2324999570846558
          ],
          [
           1.2174999713897705
          ],
          [
           1.2450000047683716
          ],
          [
           1.190000057220459
          ],
          [
           1.1349999904632568
          ],
          [
           1.0525000095367432
          ],
          [
           1.0325000286102295
          ],
          [
           1.0549999475479126
          ],
          [
           1.1449999809265137
          ],
          [
           1.1100000143051147
          ],
          [
           1.1074999570846558
          ],
          [
           1.1100000143051147
          ],
          [
           1.0449999570846558
          ],
          [
           1.1050000190734863
          ],
          [
           1.1725000143051147
          ],
          [
           1.0824999809265137
          ],
          [
           1.0149999856948853
          ],
          [
           1.0325000286102295
          ],
          [
           1.0449999570846558
          ],
          [
           1.1100000143051147
          ],
          [
           1.1174999475479126
          ],
          [
           1.034999966621399
          ],
          [
           1.252500057220459
          ],
          [
           1.2400000095367432
          ],
          [
           1.2675000429153442
          ],
          [
           1.0924999713897705
          ],
          [
           1.1799999475479126
          ],
          [
           1.1725000143051147
          ],
          [
           1.159999966621399
          ],
          [
           1.190000057220459
          ],
          [
           1.2374999523162842
          ],
          [
           1.2200000286102295
          ],
          [
           1.2174999713897705
          ],
          [
           1.2074999809265137
          ],
          [
           1.1024999618530273
          ],
          [
           1.1150000095367432
          ],
          [
           1.087499976158142
          ],
          [
           1.0950000286102295
          ],
          [
           1.0850000381469727
          ],
          [
           1.1100000143051147
          ],
          [
           1.0724999904632568
          ],
          [
           1.059999942779541
          ],
          [
           1.0225000381469727
          ],
          [
           1.065000057220459
          ],
          [
           1.0525000095367432
          ],
          [
           1.0850000381469727
          ],
          [
           1.065000057220459
          ],
          [
           1.0199999809265137
          ],
          [
           1.0475000143051147
          ],
          [
           1.0425000190734863
          ],
          [
           0.9900000095367432
          ],
          [
           0.9624999761581421
          ],
          [
           1.002500057220459
          ],
          [
           1.027500033378601
          ],
          [
           1.027500033378601
          ],
          [
           1.0075000524520874
          ],
          [
           1.002500057220459
          ],
          [
           0.9850000143051147
          ],
          [
           1.0149999856948853
          ],
          [
           1.024999976158142
          ],
          [
           1.002500057220459
          ],
          [
           1.037500023841858
          ],
          [
           1.1074999570846558
          ],
          [
           1.1575000286102295
          ],
          [
           1.1074999570846558
          ],
          [
           1.0399999618530273
          ],
          [
           1.0824999809265137
          ],
          [
           1.087499976158142
          ],
          [
           1.1299999952316284
          ],
          [
           1.159999966621399
          ],
          [
           1.1875
          ],
          [
           1.1575000286102295
          ],
          [
           1.2024999856948853
          ],
          [
           1.1799999475479126
          ],
          [
           1.152500033378601
          ],
          [
           1.2575000524520874
          ],
          [
           1.2174999713897705
          ],
          [
           1.2450000047683716
          ],
          [
           1.277500033378601
          ],
          [
           1.3125
          ],
          [
           1.347499966621399
          ],
          [
           1.6699999570846558
          ],
          [
           1.912500023841858
          ],
          [
           1.9275000095367432
          ],
          [
           1.9550000429153442
          ],
          [
           1.912500023841858
          ],
          [
           1.9249999523162842
          ],
          [
           1.837499976158142
          ],
          [
           1.5575000047683716
          ],
          [
           1.5225000381469727
          ],
          [
           1.7274999618530273
          ],
          [
           1.7725000381469727
          ],
          [
           2.1700000762939453
          ],
          [
           2.299999952316284
          ],
          [
           2.367500066757202
          ],
          [
           2.1875
          ],
          [
           2.640000104904175
          ],
          [
           2.509999990463257
          ],
          [
           2.2850000858306885
          ],
          [
           2.505000114440918
          ],
          [
           2.5225000381469727
          ],
          [
           2.5875000953674316
          ],
          [
           2.549999952316284
          ],
          [
           2.442500114440918
          ],
          [
           2.3475000858306885
          ],
          [
           2.365000009536743
          ],
          [
           2.2825000286102295
          ],
          [
           2.3399999141693115
          ],
          [
           3.372499942779541
          ],
          [
           3.005000114440918
          ],
          [
           2.950000047683716
          ],
          [
           2.9700000286102295
          ],
          [
           3.0625
          ],
          [
           3.4574999809265137
          ],
          [
           3.327500104904175
          ],
          [
           3.4774999618530273
          ],
          [
           3.4649999141693115
          ],
          [
           3.5250000953674316
          ],
          [
           3.7274999618530273
          ],
          [
           3.75
          ],
          [
           3.362499952316284
          ],
          [
           3.172499895095825
          ],
          [
           2.9549999237060547
          ],
          [
           2.932499885559082
          ],
          [
           2.617500066757202
          ],
          [
           2.6875
          ],
          [
           2.8924999237060547
          ],
          [
           2.7274999618530273
          ],
          [
           2.862499952316284
          ],
          [
           2.9649999141693115
          ],
          [
           2.872499942779541
          ],
          [
           2.7750000953674316
          ],
          [
           2.9375
          ],
          [
           2.7825000286102295
          ],
          [
           2.752500057220459
          ],
          [
           3.015000104904175
          ],
          [
           2.9075000286102295
          ],
          [
           2.8924999237060547
          ],
          [
           3.115000009536743
          ],
          [
           3.177500009536743
          ],
          [
           3.4749999046325684
          ],
          [
           3.4175000190734863
          ],
          [
           3.6875
          ],
          [
           4.019999980926514
          ],
          [
           4.139999866485596
          ],
          [
           3.950000047683716
          ],
          [
           4.144999980926514
          ],
          [
           4.03000020980835
          ],
          [
           4.224999904632568
          ],
          [
           4.087500095367432
          ],
          [
           4.235000133514404
          ],
          [
           3.4149999618530273
          ],
          [
           3.5299999713897705
          ],
          [
           3.327500104904175
          ],
          [
           3.180000066757202
          ],
          [
           3.4625000953674316
          ],
          [
           3.4625000953674316
          ],
          [
           3.7074999809265137
          ],
          [
           3.9075000286102295
          ],
          [
           3.882499933242798
          ],
          [
           4.864999771118164
          ],
          [
           5.142499923706055
          ],
          [
           5.037499904632568
          ],
          [
           5.247499942779541
          ],
          [
           4.84499979019165
          ],
          [
           4.815000057220459
          ],
          [
           4.710000038146973
          ],
          [
           4.3125
          ],
          [
           4.34250020980835
          ],
          [
           4.590000152587891
          ],
          [
           4.519999980926514
          ],
          [
           4.422500133514404
          ],
          [
           4.985000133514404
          ],
          [
           4.987500190734863
          ],
          [
           7.849999904632568
          ],
          [
           9.977499961853027
          ],
          [
           8.875
          ],
          [
           9.84000015258789
          ],
          [
           9.779999732971191
          ],
          [
           10.757499694824219
          ],
          [
           16.252500534057617
          ],
          [
           19.197500228881836
          ],
          [
           36.994998931884766
          ],
          [
           86.87750244140625
          ],
          [
           48.400001525878906
          ],
          [
           81.25
          ],
          [
           56.25
          ],
          [
           22.5
          ],
          [
           23.102500915527344
          ],
          [
           13.375
          ],
          [
           15.942500114440918
          ],
          [
           15
          ],
          [
           12.577500343322754
          ],
          [
           12.800000190734863
          ],
          [
           12.774999618530273
          ],
          [
           13.100000381469727
          ],
          [
           12.3774995803833
          ],
          [
           11.484999656677246
          ],
          [
           10.172499656677246
          ],
          [
           10.147500038146973
          ],
          [
           11.5
          ],
          [
           11.242500305175781
          ],
          [
           22.927499771118164
          ],
          [
           27.1825008392334
          ],
          [
           25.434999465942383
          ],
          [
           30.100000381469727
          ],
          [
           29.545000076293945
          ],
          [
           31.045000076293945
          ],
          [
           33.087501525878906
          ],
          [
           34.435001373291016
          ],
          [
           48.625
          ],
          [
           61.724998474121094
          ],
          [
           66.25
          ],
          [
           65
          ],
          [
           66.125
          ],
          [
           55.03499984741211
          ],
          [
           52.04249954223633
          ],
          [
           52.45249938964844
          ],
          [
           50.4375
          ],
          [
           50.067501068115234
          ],
          [
           48.622501373291016
          ],
          [
           45.4375
          ],
          [
           30.084999084472656
          ],
          [
           45.9375
          ],
          [
           45.25
          ],
          [
           45.32500076293945
          ],
          [
           48.6150016784668
          ],
          [
           47.45500183105469
          ],
          [
           47.86249923706055
          ],
          [
           46.73749923706055
          ],
          [
           46.125
          ],
          [
           44.49250030517578
          ],
          [
           42.564998626708984
          ],
          [
           39.59000015258789
          ],
          [
           35.272499084472656
          ],
          [
           35.247501373291016
          ],
          [
           41.63249969482422
          ],
          [
           39.11000061035156
          ],
          [
           38.67250061035156
          ],
          [
           41.092498779296875
          ],
          [
           39.63249969482422
          ],
          [
           39.627498626708984
          ],
          [
           37.79249954223633
          ],
          [
           37.79499816894531
          ],
          [
           42.23249816894531
          ],
          [
           44.442501068115234
          ],
          [
           44.64500045776367
          ],
          [
           44.04750061035156
          ],
          [
           43.397499084472656
          ],
          [
           40.54999923706055
          ],
          [
           40.182498931884766
          ],
          [
           39.869998931884766
          ],
          [
           40.252498626708984
          ],
          [
           40.27750015258789
          ],
          [
           35.80500030517578
          ],
          [
           36.72999954223633
          ],
          [
           36.1974983215332
          ],
          [
           41.125
          ],
          [
           39.97999954223633
          ],
          [
           45.150001525878906
          ],
          [
           45.16749954223633
          ],
          [
           42.20750045776367
          ],
          [
           42.622501373291016
          ],
          [
           44.1974983215332
          ],
          [
           45.002498626708984
          ],
          [
           52.35749816894531
          ],
          [
           60.63999938964844
          ],
          [
           63.532501220703125
          ],
          [
           55.5
          ],
          [
           62.255001068115234
          ],
          [
           70.55999755859375
          ],
          [
           64.54499816894531
          ],
          [
           62.09000015258789
          ],
          [
           70.00250244140625
          ],
          [
           75
          ],
          [
           75.63999938964844
          ],
          [
           55.09749984741211
          ],
          [
           58.334999084472656
          ],
          [
           57.36000061035156
          ],
          [
           55.625
          ],
          [
           55.74250030517578
          ],
          [
           55.897499084472656
          ],
          [
           53.45500183105469
          ],
          [
           50.092498779296875
          ],
          [
           55.099998474121094
          ],
          [
           54.834999084472656
          ],
          [
           53.07749938964844
          ],
          [
           52.377498626708984
          ],
          [
           53.3125
          ],
          [
           52.720001220703125
          ]
         ],
         "high": [
          [
           1.6174999475479126
          ],
          [
           1.5625
          ],
          [
           1.4774999618530273
          ],
          [
           1.4574999809265137
          ],
          [
           1.462499976158142
          ],
          [
           1.4550000429153442
          ],
          [
           1.399999976158142
          ],
          [
           1.402500033378601
          ],
          [
           1.25
          ],
          [
           1.1825000047683716
          ],
          [
           1.1775000095367432
          ],
          [
           1.1875
          ],
          [
           1.1875
          ],
          [
           1.159999966621399
          ],
          [
           1.159999966621399
          ],
          [
           1.159999966621399
          ],
          [
           1.087499976158142
          ],
          [
           1.0750000476837158
          ],
          [
           1.0800000429153442
          ],
          [
           1.0299999713897705
          ],
          [
           0.9850000143051147
          ],
          [
           0.9950000047683716
          ],
          [
           1.0625
          ],
          [
           1.1024999618530273
          ],
          [
           1.0750000476837158
          ],
          [
           1.0325000286102295
          ],
          [
           1.024999976158142
          ],
          [
           1.059999942779541
          ],
          [
           1.127500057220459
          ],
          [
           1.065000057220459
          ],
          [
           1.0475000143051147
          ],
          [
           1.0199999809265137
          ],
          [
           1.0674999952316284
          ],
          [
           1.0750000476837158
          ],
          [
           1.0449999570846558
          ],
          [
           0.9825000166893005
          ],
          [
           0.9474999904632568
          ],
          [
           0.9049999713897705
          ],
          [
           0.9075000286102295
          ],
          [
           0.9300000071525574
          ],
          [
           0.9624999761581421
          ],
          [
           0.9725000262260437
          ],
          [
           0.9574999809265137
          ],
          [
           0.9975000023841858
          ],
          [
           1.0175000429153442
          ],
          [
           0.9925000071525574
          ],
          [
           1.065000057220459
          ],
          [
           1.0625
          ],
          [
           1.0099999904632568
          ],
          [
           1.162500023841858
          ],
          [
           1.1425000429153442
          ],
          [
           1.162500023841858
          ],
          [
           1.0625
          ],
          [
           1.0499999523162842
          ],
          [
           1.0199999809265137
          ],
          [
           0.9649999737739563
          ],
          [
           1.0525000095367432
          ],
          [
           1.122499942779541
          ],
          [
           1.1775000095367432
          ],
          [
           1.2725000381469727
          ],
          [
           1.0674999952316284
          ],
          [
           0.949999988079071
          ],
          [
           0.8725000023841858
          ],
          [
           0.8374999761581421
          ],
          [
           0.7350000143051147
          ],
          [
           0.800000011920929
          ],
          [
           0.8600000143051147
          ],
          [
           0.9175000190734863
          ],
          [
           1.0625
          ],
          [
           1.190000057220459
          ],
          [
           1.6174999475479126
          ],
          [
           1.4175000190734863
          ],
          [
           1.3600000143051147
          ],
          [
           1.3200000524520874
          ],
          [
           1.475000023841858
          ],
          [
           1.3250000476837158
          ],
          [
           1.2925000190734863
          ],
          [
           1.222499966621399
          ],
          [
           1.212499976158142
          ],
          [
           1.497499942779541
          ],
          [
           1.5099999904632568
          ],
          [
           1.5225000381469727
          ],
          [
           1.4950000047683716
          ],
          [
           1.5449999570846558
          ],
          [
           1.4824999570846558
          ],
          [
           1.4075000286102295
          ],
          [
           1.350000023841858
          ],
          [
           1.2324999570846558
          ],
          [
           1.2975000143051147
          ],
          [
           1.2400000095367432
          ],
          [
           1.2300000190734863
          ],
          [
           1.1349999904632568
          ],
          [
           1.0475000143051147
          ],
          [
           1.1124999523162842
          ],
          [
           1.1575000286102295
          ],
          [
           1.1875
          ],
          [
           1.1725000143051147
          ],
          [
           1.162500023841858
          ],
          [
           1.122499942779541
          ],
          [
           1.152500033378601
          ],
          [
           1.1775000095367432
          ],
          [
           1.190000057220459
          ],
          [
           1.1050000190734863
          ],
          [
           1.090000033378601
          ],
          [
           1.0774999856948853
          ],
          [
           1.1299999952316284
          ],
          [
           1.1799999475479126
          ],
          [
           1.1024999618530273
          ],
          [
           1.284999966621399
          ],
          [
           1.25
          ],
          [
           1.3825000524520874
          ],
          [
           1.225000023841858
          ],
          [
           1.1950000524520874
          ],
          [
           1.1924999952316284
          ],
          [
           1.2374999523162842
          ],
          [
           1.2074999809265137
          ],
          [
           1.2374999523162842
          ],
          [
           1.2699999809265137
          ],
          [
           1.2374999523162842
          ],
          [
           1.247499942779541
          ],
          [
           1.2100000381469727
          ],
          [
           1.1349999904632568
          ],
          [
           1.125
          ],
          [
           1.1299999952316284
          ],
          [
           1.127500057220459
          ],
          [
           1.125
          ],
          [
           1.127500057220459
          ],
          [
           1.0850000381469727
          ],
          [
           1.0625
          ],
          [
           1.0724999904632568
          ],
          [
           1.0800000429153442
          ],
          [
           1.0950000286102295
          ],
          [
           1.1375000476837158
          ],
          [
           1.0774999856948853
          ],
          [
           1.0724999904632568
          ],
          [
           1.0499999523162842
          ],
          [
           1.0575000047683716
          ],
          [
           1.0149999856948853
          ],
          [
           1.0225000381469727
          ],
          [
           1.0299999713897705
          ],
          [
           1.0774999856948853
          ],
          [
           1.0575000047683716
          ],
          [
           1.0299999713897705
          ],
          [
           1.0125000476837158
          ],
          [
           1.0449999570846558
          ],
          [
           1.0575000047683716
          ],
          [
           1.0399999618530273
          ],
          [
           1.0625
          ],
          [
           1.184999942779541
          ],
          [
           1.190000057220459
          ],
          [
           1.1649999618530273
          ],
          [
           1.100000023841858
          ],
          [
           1.1425000429153442
          ],
          [
           1.1425000429153442
          ],
          [
           1.1575000286102295
          ],
          [
           1.1775000095367432
          ],
          [
           1.2074999809265137
          ],
          [
           1.1950000524520874
          ],
          [
           1.2174999713897705
          ],
          [
           1.2100000381469727
          ],
          [
           1.1699999570846558
          ],
          [
           1.399999976158142
          ],
          [
           1.2825000286102295
          ],
          [
           1.3125
          ],
          [
           1.3049999475479126
          ],
          [
           1.3450000286102295
          ],
          [
           1.3925000429153442
          ],
          [
           1.787500023841858
          ],
          [
           1.9550000429153442
          ],
          [
           2.012500047683716
          ],
          [
           2.112499952316284
          ],
          [
           1.9800000190734863
          ],
          [
           2.069999933242798
          ],
          [
           1.997499942779541
          ],
          [
           1.7374999523162842
          ],
          [
           1.5824999809265137
          ],
          [
           1.75
          ],
          [
           1.815000057220459
          ],
          [
           2.259999990463257
          ],
          [
           2.442500114440918
          ],
          [
           2.442500114440918
          ],
          [
           2.4000000953674316
          ],
          [
           2.7925000190734863
          ],
          [
           2.7149999141693115
          ],
          [
           2.452500104904175
          ],
          [
           2.5450000762939453
          ],
          [
           2.565000057220459
          ],
          [
           2.6624999046325684
          ],
          [
           2.690000057220459
          ],
          [
           2.5625
          ],
          [
           2.444999933242798
          ],
          [
           2.3975000381469727
          ],
          [
           2.4600000381469727
          ],
          [
           2.390000104904175
          ],
          [
           3.4100000858306885
          ],
          [
           3.700000047683716
          ],
          [
           3.192500114440918
          ],
          [
           3.1050000190734863
          ],
          [
           3.1700000762939453
          ],
          [
           3.7750000953674316
          ],
          [
           3.4749999046325684
          ],
          [
           3.625
          ],
          [
           3.5350000858306885
          ],
          [
           3.6050000190734863
          ],
          [
           3.9674999713897705
          ],
          [
           3.8450000286102295
          ],
          [
           3.862499952316284
          ],
          [
           3.427500009536743
          ],
          [
           3.262500047683716
          ],
          [
           3.0625
          ],
          [
           2.9100000858306885
          ],
          [
           2.7725000381469727
          ],
          [
           2.9649999141693115
          ],
          [
           2.942500114440918
          ],
          [
           2.9600000381469727
          ],
          [
           3.0425000190734863
          ],
          [
           3.2325000762939453
          ],
          [
           2.9149999618530273
          ],
          [
           2.987499952316284
          ],
          [
           2.9674999713897705
          ],
          [
           2.887500047683716
          ],
          [
           3.1649999618530273
          ],
          [
           2.9800000190734863
          ],
          [
           3.009999990463257
          ],
          [
           3.197499990463257
          ],
          [
           3.365000009536743
          ],
          [
           3.5299999713897705
          ],
          [
           3.565000057220459
          ],
          [
           3.8125
          ],
          [
           4.184999942779541
          ],
          [
           4.855000019073486
          ],
          [
           4.349999904632568
          ],
          [
           4.170000076293945
          ],
          [
           4.159999847412109
          ],
          [
           4.322500228881836
          ],
          [
           4.375
          ],
          [
           4.302499771118164
          ],
          [
           3.682499885559082
          ],
          [
           3.6024999618530273
          ],
          [
           3.5
          ],
          [
           3.3575000762939453
          ],
          [
           3.505000114440918
          ],
          [
           3.577500104904175
          ],
          [
           3.744999885559082
          ],
          [
           4.074999809265137
          ],
          [
           4.087500095367432
          ],
          [
           5.010000228881836
          ],
          [
           5.587500095367432
          ],
          [
           5.369999885559082
          ],
          [
           5.492499828338623
          ],
          [
           5.267499923706055
          ],
          [
           5
          ],
          [
           4.949999809265137
          ],
          [
           4.775000095367432
          ],
          [
           4.519999980926514
          ],
          [
           4.744999885559082
          ],
          [
           4.862500190734863
          ],
          [
           4.574999809265137
          ],
          [
           5.162499904632568
          ],
          [
           5.099999904632568
          ],
          [
           9.662500381469727
          ],
          [
           10.765000343322754
          ],
          [
           10.1875
          ],
          [
           11.380000114440918
          ],
          [
           10.297499656677246
          ],
          [
           11.1875
          ],
          [
           19.190000534057617
          ],
          [
           39.79499816894531
          ],
          [
           37.5
          ],
          [
           95
          ],
          [
           120.75
          ],
          [
           103.49500274658203
          ],
          [
           80.5
          ],
          [
           39.5
          ],
          [
           28.350000381469727
          ],
          [
           22.875
          ],
          [
           23.75
          ],
          [
           18.165000915527344
          ],
          [
           14.25
          ],
          [
           15.707500457763672
          ],
          [
           13.829999923706055
          ],
          [
           13.8100004196167
          ],
          [
           13.375
          ],
          [
           12.797499656677246
          ],
          [
           12.217499732971191
          ],
          [
           10.97249984741211
          ],
          [
           12.1274995803833
          ],
          [
           11.557499885559082
          ],
          [
           22.927499771118164
          ],
          [
           46.16999816894531
          ],
          [
           35.724998474121094
          ],
          [
           33.497501373291016
          ],
          [
           33.29999923706055
          ],
          [
           31.9375
          ],
          [
           36.967498779296875
          ],
          [
           37.88249969482422
          ],
          [
           52.717498779296875
          ],
          [
           62.462501525878906
          ],
          [
           87.125
          ],
          [
           70.375
          ],
          [
           73.875
          ],
          [
           70.75
          ],
          [
           55.17499923706055
          ],
          [
           57.86750030517578
          ],
          [
           54.720001220703125
          ],
          [
           56.75
          ],
          [
           52.59000015258789
          ],
          [
           50.4375
          ],
          [
           41.74250030517578
          ],
          [
           46.875
          ],
          [
           54.73249816894531
          ],
          [
           48.47999954223633
          ],
          [
           51.07500076293945
          ],
          [
           49.8650016784668
          ],
          [
           49.24250030517578
          ],
          [
           48.75
          ],
          [
           48
          ],
          [
           46.125
          ],
          [
           46.470001220703125
          ],
          [
           42.89500045776367
          ],
          [
           40.974998474121094
          ],
          [
           36.345001220703125
          ],
          [
           43.522499084472656
          ],
          [
           41.5625
          ],
          [
           40.04999923706055
          ],
          [
           43.79999923706055
          ],
          [
           41.22249984741211
          ],
          [
           40.744998931884766
          ],
          [
           39.775001525878906
          ],
          [
           38.415000915527344
          ],
          [
           43.66999816894531
          ],
          [
           47
          ],
          [
           45.494998931884766
          ],
          [
           45.21500015258789
          ],
          [
           45.95000076293945
          ],
          [
           44.372501373291016
          ],
          [
           40.372501373291016
          ],
          [
           41.375
          ],
          [
           41.18000030517578
          ],
          [
           41.852500915527344
          ],
          [
           40.397499084472656
          ],
          [
           37.625
          ],
          [
           37.625
          ],
          [
           42.48749923706055
          ],
          [
           41.61750030517578
          ],
          [
           45.625
          ],
          [
           47.29999923706055
          ],
          [
           44.744998931884766
          ],
          [
           43.727500915527344
          ],
          [
           44.810001373291016
          ],
          [
           47.1150016784668
          ],
          [
           54.27750015258789
          ],
          [
           62.119998931884766
          ],
          [
           66
          ],
          [
           67.19999694824219
          ],
          [
           63.744998931884766
          ],
          [
           73.5
          ],
          [
           68.60749816894531
          ],
          [
           66.25
          ],
          [
           70.5
          ],
          [
           86.16500091552734
          ],
          [
           82
          ],
          [
           72
          ],
          [
           60.282501220703125
          ],
          [
           59.502498626708984
          ],
          [
           57.3125
          ],
          [
           57.182498931884766
          ],
          [
           58.415000915527344
          ],
          [
           55.872501373291016
          ],
          [
           54.599998474121094
          ],
          [
           56.470001220703125
          ],
          [
           55.64250183105469
          ],
          [
           56.86249923706055
          ],
          [
           53.54999923706055
          ],
          [
           56.11249923706055
          ],
          [
           53.80500030517578
          ]
         ],
         "low": [
          [
           1.5175000429153442
          ],
          [
           1.4600000381469727
          ],
          [
           1.399999976158142
          ],
          [
           1.3600000143051147
          ],
          [
           1.3524999618530273
          ],
          [
           1.3700000047683716
          ],
          [
           1.3450000286102295
          ],
          [
           1.3324999809265137
          ],
          [
           1.1325000524520874
          ],
          [
           1.1375000476837158
          ],
          [
           1.1299999952316284
          ],
          [
           1.127500057220459
          ],
          [
           1.1375000476837158
          ],
          [
           1.1150000095367432
          ],
          [
           1.1150000095367432
          ],
          [
           1.0625
          ],
          [
           1.0399999618530273
          ],
          [
           1.0449999570846558
          ],
          [
           1.0325000286102295
          ],
          [
           0.9700000286102295
          ],
          [
           0.9574999809265137
          ],
          [
           0.9624999761581421
          ],
          [
           0.9925000071525574
          ],
          [
           1.034999966621399
          ],
          [
           1.034999966621399
          ],
          [
           0.9424999952316284
          ],
          [
           0.9350000023841858
          ],
          [
           0.987500011920929
          ],
          [
           1.0175000429153442
          ],
          [
           1.0175000429153442
          ],
          [
           1.0049999952316284
          ],
          [
           0.9900000095367432
          ],
          [
           0.9800000190734863
          ],
          [
           1.027500033378601
          ],
          [
           0.9975000023841858
          ],
          [
           0.925000011920929
          ],
          [
           0.887499988079071
          ],
          [
           0.8399999737739563
          ],
          [
           0.7950000166893005
          ],
          [
           0.8349999785423279
          ],
          [
           0.8475000262260437
          ],
          [
           0.875
          ],
          [
           0.8650000095367432
          ],
          [
           0.8974999785423279
          ],
          [
           0.9399999976158142
          ],
          [
           0.875
          ],
          [
           0.949999988079071
          ],
          [
           1
          ],
          [
           0.8700000047683716
          ],
          [
           0.9624999761581421
          ],
          [
           0.9750000238418579
          ],
          [
           1.027500033378601
          ],
          [
           0.875
          ],
          [
           0.887499988079071
          ],
          [
           0.9125000238418579
          ],
          [
           0.875
          ],
          [
           0.9725000262260437
          ],
          [
           1.0099999904632568
          ],
          [
           1.059999942779541
          ],
          [
           1.037500023841858
          ],
          [
           0.9125000238418579
          ],
          [
           0.875
          ],
          [
           0.7799999713897705
          ],
          [
           0.7124999761581421
          ],
          [
           0.6424999833106995
          ],
          [
           0.7074999809265137
          ],
          [
           0.7749999761581421
          ],
          [
           0.800000011920929
          ],
          [
           0.8725000023841858
          ],
          [
           1.0399999618530273
          ],
          [
           1.284999966621399
          ],
          [
           1.225000023841858
          ],
          [
           1.2200000286102295
          ],
          [
           1.1074999570846558
          ],
          [
           1.1950000524520874
          ],
          [
           1.190000057220459
          ],
          [
           1.2074999809265137
          ],
          [
           1.1449999809265137
          ],
          [
           1.1649999618530273
          ],
          [
           1.2024999856948853
          ],
          [
           1.2649999856948853
          ],
          [
           1.3624999523162842
          ],
          [
           1.409999966621399
          ],
          [
           1.3624999523162842
          ],
          [
           1.350000023841858
          ],
          [
           1.337499976158142
          ],
          [
           1.225000023841858
          ],
          [
           1.162500023841858
          ],
          [
           1.2050000429153442
          ],
          [
           1.1875
          ],
          [
           1.1150000095367432
          ],
          [
           1.0175000429153442
          ],
          [
           0.9900000095367432
          ],
          [
           1.0099999904632568
          ],
          [
           1.090000033378601
          ],
          [
           1.0924999713897705
          ],
          [
           1.0850000381469727
          ],
          [
           1.100000023841858
          ],
          [
           1.0325000286102295
          ],
          [
           1.0824999809265137
          ],
          [
           1.090000033378601
          ],
          [
           1.0750000476837158
          ],
          [
           1.0125000476837158
          ],
          [
           1.0049999952316284
          ],
          [
           1.0149999856948853
          ],
          [
           1.0499999523162842
          ],
          [
           1.0924999713897705
          ],
          [
           1.0225000381469727
          ],
          [
           1.0674999952316284
          ],
          [
           1.1375000476837158
          ],
          [
           1.1699999570846558
          ],
          [
           1.0449999570846558
          ],
          [
           1.097499966621399
          ],
          [
           1.1050000190734863
          ],
          [
           1.127500057220459
          ],
          [
           1.1325000524520874
          ],
          [
           1.162500023841858
          ],
          [
           1.1725000143051147
          ],
          [
           1.1799999475479126
          ],
          [
           1.2000000476837158
          ],
          [
           1.0950000286102295
          ],
          [
           1.0750000476837158
          ],
          [
           1.0674999952316284
          ],
          [
           1.0750000476837158
          ],
          [
           1.0499999523162842
          ],
          [
           1.0774999856948853
          ],
          [
           1.0724999904632568
          ],
          [
           1.0475000143051147
          ],
          [
           1.0149999856948853
          ],
          [
           1.0075000524520874
          ],
          [
           1.0325000286102295
          ],
          [
           1.0449999570846558
          ],
          [
           1.065000057220459
          ],
          [
           1.0175000429153442
          ],
          [
           1.0325000286102295
          ],
          [
           1.0225000381469727
          ],
          [
           0.9850000143051147
          ],
          [
           0.9424999952316284
          ],
          [
           0.9700000286102295
          ],
          [
           0.9800000190734863
          ],
          [
           1.0149999856948853
          ],
          [
           1.002500057220459
          ],
          [
           0.987500011920929
          ],
          [
           0.9800000190734863
          ],
          [
           0.9800000190734863
          ],
          [
           0.9925000071525574
          ],
          [
           0.9975000023841858
          ],
          [
           1
          ],
          [
           1.0325000286102295
          ],
          [
           1.0625
          ],
          [
           1.0950000286102295
          ],
          [
           1.0149999856948853
          ],
          [
           1.0449999570846558
          ],
          [
           1.0850000381469727
          ],
          [
           1.090000033378601
          ],
          [
           1.125
          ],
          [
           1.1375000476837158
          ],
          [
           1.1399999856948853
          ],
          [
           1.1074999570846558
          ],
          [
           1.159999966621399
          ],
          [
           1.127500057220459
          ],
          [
           1.149999976158142
          ],
          [
           1.1399999856948853
          ],
          [
           1.2200000286102295
          ],
          [
           1.2300000190734863
          ],
          [
           1.2549999952316284
          ],
          [
           1.3049999475479126
          ],
          [
           1.4225000143051147
          ],
          [
           1.6924999952316284
          ],
          [
           1.777500033378601
          ],
          [
           1.809999942779541
          ],
          [
           1.7925000190734863
          ],
          [
           1.8700000047683716
          ],
          [
           1.8274999856948853
          ],
          [
           1.5475000143051147
          ],
          [
           1.4674999713897705
          ],
          [
           1.6074999570846558
          ],
          [
           1.6725000143051147
          ],
          [
           1.7575000524520874
          ],
          [
           2.1024999618530273
          ],
          [
           2.2274999618530273
          ],
          [
           2.0950000286102295
          ],
          [
           2.4749999046325684
          ],
          [
           2.4800000190734863
          ],
          [
           2.252500057220459
          ],
          [
           2.2750000953674316
          ],
          [
           2.387500047683716
          ],
          [
           2.4825000762939453
          ],
          [
           2.515000104904175
          ],
          [
           2.422499895095825
          ],
          [
           2.325000047683716
          ],
          [
           2.3125
          ],
          [
           2.2750000953674316
          ],
          [
           2.2925000190734863
          ],
          [
           2.297499895095825
          ],
          [
           2.9749999046325684
          ],
          [
           2.8499999046325684
          ],
          [
           2.9124999046325684
          ],
          [
           3.012500047683716
          ],
          [
           2.997499942779541
          ],
          [
           3.2699999809265137
          ],
          [
           3.3450000286102295
          ],
          [
           3.4175000190734863
          ],
          [
           3.450000047683716
          ],
          [
           3.547499895095825
          ],
          [
           3.637500047683716
          ],
          [
           3.315000057220459
          ],
          [
           3.0899999141693115
          ],
          [
           2.944999933242798
          ],
          [
           2.9200000762939453
          ],
          [
           2.5899999141693115
          ],
          [
           2.625
          ],
          [
           2.6575000286102295
          ],
          [
           2.6524999141693115
          ],
          [
           2.765000104904175
          ],
          [
           2.8299999237060547
          ],
          [
           2.8125
          ],
          [
           2.7074999809265137
          ],
          [
           2.802500009536743
          ],
          [
           2.742500066757202
          ],
          [
           2.75
          ],
          [
           2.680000066757202
          ],
          [
           2.807499885559082
          ],
          [
           2.890000104904175
          ],
          [
           2.862499952316284
          ],
          [
           3.134999990463257
          ],
          [
           3.1675000190734863
          ],
          [
           3.325000047683716
          ],
          [
           3.3550000190734863
          ],
          [
           3.7200000286102295
          ],
          [
           4.139999866485596
          ],
          [
           3.940000057220459
          ],
          [
           3.8450000286102295
          ],
          [
           3.9674999713897705
          ],
          [
           4.065000057220459
          ],
          [
           4.054999828338623
          ],
          [
           3.9825000762939453
          ],
          [
           3.307499885559082
          ],
          [
           3.262500047683716
          ],
          [
           3.255000114440918
          ],
          [
           3.0350000858306885
          ],
          [
           3.119999885559082
          ],
          [
           3.3949999809265137
          ],
          [
           3.3975000381469727
          ],
          [
           3.7950000762939453
          ],
          [
           3.819999933242798
          ],
          [
           4.037499904632568
          ],
          [
           4.78249979019165
          ],
          [
           4.987500190734863
          ],
          [
           5.087500095367432
          ],
          [
           4.639999866485596
          ],
          [
           4.712500095367432
          ],
          [
           4.699999809265137
          ],
          [
           4.287499904632568
          ],
          [
           4.307499885559082
          ],
          [
           4.332499980926514
          ],
          [
           4.505000114440918
          ],
          [
           4.269999980926514
          ],
          [
           4.752500057220459
          ],
          [
           4.829999923706055
          ],
          [
           5.007500171661377
          ],
          [
           8.262499809265137
          ],
          [
           8.5024995803833
          ],
          [
           9.15999984741211
          ],
          [
           9.015000343322754
          ],
          [
           9.25
          ],
          [
           10.579999923706055
          ],
          [
           15.282500267028809
          ],
          [
           20.049999237060547
          ],
          [
           62.25
          ],
          [
           28.0625
          ],
          [
           62.5
          ],
          [
           53
          ],
          [
           18.55500030517578
          ],
          [
           21.3125
          ],
          [
           13.332500457763672
          ],
          [
           12.772500038146973
          ],
          [
           14.505000114440918
          ],
          [
           11.630000114440918
          ],
          [
           11.637499809265137
          ],
          [
           12.055000305175781
          ],
          [
           12.012499809265137
          ],
          [
           12.260000228881836
          ],
          [
           11.140000343322754
          ],
          [
           10.162500381469727
          ],
          [
           9.625
          ],
          [
           10.600000381469727
          ],
          [
           10
          ],
          [
           11.175000190734863
          ],
          [
           25.25
          ],
          [
           21.5
          ],
          [
           24.99250030517578
          ],
          [
           28.049999237060547
          ],
          [
           28.280000686645508
          ],
          [
           28.825000762939453
          ],
          [
           31.875
          ],
          [
           36.525001525878906
          ],
          [
           52.127498626708984
          ],
          [
           43
          ],
          [
           58.150001525878906
          ],
          [
           65.56749725341797
          ],
          [
           51.5
          ],
          [
           43.087501525878906
          ],
          [
           51
          ],
          [
           48.912498474121094
          ],
          [
           45.665000915527344
          ],
          [
           46.54999923706055
          ],
          [
           44.38750076293945
          ],
          [
           29.655000686645508
          ],
          [
           29.225000381469727
          ],
          [
           40.814998626708984
          ],
          [
           43.377498626708984
          ],
          [
           45.5
          ],
          [
           46.77750015258789
          ],
          [
           45.900001525878906
          ],
          [
           41.20249938964844
          ],
          [
           45.88999938964844
          ],
          [
           44.02750015258789
          ],
          [
           41.07500076293945
          ],
          [
           38.25
          ],
          [
           33.752498626708984
          ],
          [
           33
          ],
          [
           35.75
          ],
          [
           38.20000076293945
          ],
          [
           37.8125
          ],
          [
           40.58250045776367
          ],
          [
           38.34000015258789
          ],
          [
           38.97999954223633
          ],
          [
           36.71500015258789
          ],
          [
           36.17499923706055
          ],
          [
           37.189998626708984
          ],
          [
           43.29249954223633
          ],
          [
           41.50749969482422
          ],
          [
           42.6875
          ],
          [
           43.17499923706055
          ],
          [
           39.90250015258789
          ],
          [
           37.95000076293945
          ],
          [
           39.58250045776367
          ],
          [
           38.900001525878906
          ],
          [
           39.375
          ],
          [
           35.75
          ],
          [
           34.125
          ],
          [
           35.557498931884766
          ],
          [
           36.60749816894531
          ],
          [
           39.05500030517578
          ],
          [
           39.75
          ],
          [
           42.067501068115234
          ],
          [
           41.037498474121094
          ],
          [
           41.724998474121094
          ],
          [
           42.58250045776367
          ],
          [
           43.337501525878906
          ],
          [
           45.25
          ],
          [
           56.38750076293945
          ],
          [
           56.75
          ],
          [
           55.35749816894531
          ],
          [
           56.76750183105469
          ],
          [
           61.07500076293945
          ],
          [
           60.529998779296875
          ],
          [
           61.442501068115234
          ],
          [
           63.79999923706055
          ],
          [
           70.25
          ],
          [
           72.87750244140625
          ],
          [
           52.75
          ],
          [
           51.532501220703125
          ],
          [
           54.79999923706055
          ],
          [
           52
          ],
          [
           52.25
          ],
          [
           55.369998931884766
          ],
          [
           53.25
          ],
          [
           49.25
          ],
          [
           52.29249954223633
          ],
          [
           53.529998779296875
          ],
          [
           52.900001525878906
          ],
          [
           49.625
          ],
          [
           52.54999923706055
          ],
          [
           52.002498626708984
          ]
         ],
         "open": [
          [
           1.534999966621399
          ],
          [
           1.5525000095367432
          ],
          [
           1.4500000476837158
          ],
          [
           1.4424999952316284
          ],
          [
           1.372499942779541
          ],
          [
           1.4550000429153442
          ],
          [
           1.3899999856948853
          ],
          [
           1.3574999570846558
          ],
          [
           1.1950000524520874
          ],
          [
           1.1649999618530273
          ],
          [
           1.152500033378601
          ],
          [
           1.1449999809265137
          ],
          [
           1.1875
          ],
          [
           1.1375000476837158
          ],
          [
           1.1375000476837158
          ],
          [
           1.159999966621399
          ],
          [
           1.0499999523162842
          ],
          [
           1.0750000476837158
          ],
          [
           1.0549999475479126
          ],
          [
           1.024999976158142
          ],
          [
           0.9775000214576721
          ],
          [
           0.9700000286102295
          ],
          [
           1.0075000524520874
          ],
          [
           1.037500023841858
          ],
          [
           1.0499999523162842
          ],
          [
           1.027500033378601
          ],
          [
           0.9624999761581421
          ],
          [
           0.9950000047683716
          ],
          [
           1.0325000286102295
          ],
          [
           1.0299999713897705
          ],
          [
           1.027500033378601
          ],
          [
           1.002500057220459
          ],
          [
           1.0149999856948853
          ],
          [
           1.0399999618530273
          ],
          [
           1.0299999713897705
          ],
          [
           0.9750000238418579
          ],
          [
           0.9424999952316284
          ],
          [
           0.8949999809265137
          ],
          [
           0.8075000047683716
          ],
          [
           0.8349999785423279
          ],
          [
           0.8999999761581421
          ],
          [
           0.9700000286102295
          ],
          [
           0.9275000095367432
          ],
          [
           0.925000011920929
          ],
          [
           0.9599999785423279
          ],
          [
           0.8974999785423279
          ],
          [
           0.9850000143051147
          ],
          [
           1.034999966621399
          ],
          [
           0.925000011920929
          ],
          [
           1.0325000286102295
          ],
          [
           0.9825000166893005
          ],
          [
           1.100000023841858
          ],
          [
           1.024999976158142
          ],
          [
           0.9275000095367432
          ],
          [
           1.0199999809265137
          ],
          [
           0.8949999809265137
          ],
          [
           0.987500011920929
          ],
          [
           1.037500023841858
          ],
          [
           1.059999942779541
          ],
          [
           1.2350000143051147
          ],
          [
           1.0549999475479126
          ],
          [
           0.9075000286102295
          ],
          [
           0.862500011920929
          ],
          [
           0.8149999976158142
          ],
          [
           0.7124999761581421
          ],
          [
           0.7149999737739563
          ],
          [
           0.8475000262260437
          ],
          [
           0.8075000047683716
          ],
          [
           0.8999999761581421
          ],
          [
           1.0625
          ],
          [
           1.3025000095367432
          ],
          [
           1.4149999618530273
          ],
          [
           1.2799999713897705
          ],
          [
           1.3049999475479126
          ],
          [
           1.212499976158142
          ],
          [
           1.3075000047683716
          ],
          [
           1.284999966621399
          ],
          [
           1.1875
          ],
          [
           1.1950000524520874
          ],
          [
           1.212499976158142
          ],
          [
           1.4800000190734863
          ],
          [
           1.4574999809265137
          ],
          [
           1.4674999713897705
          ],
          [
           1.412500023841858
          ],
          [
           1.4600000381469727
          ],
          [
           1.3875000476837158
          ],
          [
           1.350000023841858
          ],
          [
           1.2074999809265137
          ],
          [
           1.2200000286102295
          ],
          [
           1.2300000190734863
          ],
          [
           1.1950000524520874
          ],
          [
           1.1349999904632568
          ],
          [
           1.037500023841858
          ],
          [
           1.0125000476837158
          ],
          [
           1.100000023841858
          ],
          [
           1.1449999809265137
          ],
          [
           1.125
          ],
          [
           1.1124999523162842
          ],
          [
           1.1150000095367432
          ],
          [
           1.0850000381469727
          ],
          [
           1.1425000429153442
          ],
          [
           1.1875
          ],
          [
           1.0824999809265137
          ],
          [
           1.0299999713897705
          ],
          [
           1.0674999952316284
          ],
          [
           1.059999942779541
          ],
          [
           1.1100000143051147
          ],
          [
           1.0724999904632568
          ],
          [
           1.0700000524520874
          ],
          [
           1.25
          ],
          [
           1.1950000524520874
          ],
          [
           1.159999966621399
          ],
          [
           1.149999976158142
          ],
          [
           1.125
          ],
          [
           1.2374999523162842
          ],
          [
           1.1349999904632568
          ],
          [
           1.1675000190734863
          ],
          [
           1.2374999523162842
          ],
          [
           1.1974999904632568
          ],
          [
           1.2374999523162842
          ],
          [
           1.2074999809265137
          ],
          [
           1.0824999809265137
          ],
          [
           1.1200000047683716
          ],
          [
           1.087499976158142
          ],
          [
           1.0824999809265137
          ],
          [
           1.0774999856948853
          ],
          [
           1.122499942779541
          ],
          [
           1.0774999856948853
          ],
          [
           1.0499999523162842
          ],
          [
           1.024999976158142
          ],
          [
           1.0674999952316284
          ],
          [
           1.0499999523162842
          ],
          [
           1.087499976158142
          ],
          [
           1.0549999475479126
          ],
          [
           1.0325000286102295
          ],
          [
           1.0475000143051147
          ],
          [
           1.0399999618530273
          ],
          [
           0.987500011920929
          ],
          [
           0.9750000238418579
          ],
          [
           1.0049999952316284
          ],
          [
           1.0225000381469727
          ],
          [
           1.0149999856948853
          ],
          [
           1.0049999952316284
          ],
          [
           0.9900000095367432
          ],
          [
           0.9850000143051147
          ],
          [
           1
          ],
          [
           1.0149999856948853
          ],
          [
           1.0075000524520874
          ],
          [
           1.0325000286102295
          ],
          [
           1.125
          ],
          [
           1.149999976158142
          ],
          [
           1.097499966621399
          ],
          [
           1.0499999523162842
          ],
          [
           1.1074999570846558
          ],
          [
           1.100000023841858
          ],
          [
           1.1299999952316284
          ],
          [
           1.149999976158142
          ],
          [
           1.1950000524520874
          ],
          [
           1.152500033378601
          ],
          [
           1.2000000476837158
          ],
          [
           1.1549999713897705
          ],
          [
           1.149999976158142
          ],
          [
           1.274999976158142
          ],
          [
           1.2200000286102295
          ],
          [
           1.2424999475479126
          ],
          [
           1.277500033378601
          ],
          [
           1.3250000476837158
          ],
          [
           1.4424999952316284
          ],
          [
           1.8250000476837158
          ],
          [
           1.9500000476837158
          ],
          [
           1.9700000286102295
          ],
          [
           1.9450000524520874
          ],
          [
           1.8875000476837158
          ],
          [
           1.9900000095367432
          ],
          [
           1.662500023841858
          ],
          [
           1.565000057220459
          ],
          [
           1.7000000476837158
          ],
          [
           1.715000033378601
          ],
          [
           1.7575000524520874
          ],
          [
           2.1424999237060547
          ],
          [
           2.299999952316284
          ],
          [
           2.3375000953674316
          ],
          [
           2.612499952316284
          ],
          [
           2.6500000953674316
          ],
          [
           2.427500009536743
          ],
          [
           2.297499895095825
          ],
          [
           2.5399999618530273
          ],
          [
           2.5
          ],
          [
           2.5625
          ],
          [
           2.5225000381469727
          ],
          [
           2.3450000286102295
          ],
          [
           2.359999895095825
          ],
          [
           2.390000104904175
          ],
          [
           2.307499885559082
          ],
          [
           2.384999990463257
          ],
          [
           3.2074999809265137
          ],
          [
           2.9149999618530273
          ],
          [
           2.932499885559082
          ],
          [
           3.1675000190734863
          ],
          [
           2.997499942779541
          ],
          [
           3.442500114440918
          ],
          [
           3.359999895095825
          ],
          [
           3.507499933242798
          ],
          [
           3.4749999046325684
          ],
          [
           3.549999952316284
          ],
          [
           3.762500047683716
          ],
          [
           3.7325000762939453
          ],
          [
           3.427500009536743
          ],
          [
           3.067500114440918
          ],
          [
           2.9700000286102295
          ],
          [
           2.9100000858306885
          ],
          [
           2.7049999237060547
          ],
          [
           2.6875
          ],
          [
           2.940000057220459
          ],
          [
           2.817500114440918
          ],
          [
           2.880000114440918
          ],
          [
           3.190000057220459
          ],
          [
           2.875
          ],
          [
           2.875
          ],
          [
           2.934999942779541
          ],
          [
           2.8399999141693115
          ],
          [
           2.7899999618530273
          ],
          [
           2.9124999046325684
          ],
          [
           2.950000047683716
          ],
          [
           2.9000000953674316
          ],
          [
           3.137500047683716
          ],
          [
           3.2249999046325684
          ],
          [
           3.557499885559082
          ],
          [
           3.4000000953674316
          ],
          [
           3.822499990463257
          ],
          [
           4.542500019073486
          ],
          [
           4.277500152587891
          ],
          [
           3.924999952316284
          ],
          [
           4.119999885559082
          ],
          [
           4.074999809265137
          ],
          [
           4.25
          ],
          [
           4.09250020980835
          ],
          [
           3.4800000190734863
          ],
          [
           3.2799999713897705
          ],
          [
           3.4774999618530273
          ],
          [
           3.3350000381469727
          ],
          [
           3.194999933242798
          ],
          [
           3.490000009536743
          ],
          [
           3.490000009536743
          ],
          [
           3.944999933242798
          ],
          [
           3.952500104904175
          ],
          [
           4.054999828338623
          ],
          [
           5.042500019073486
          ],
          [
           5.252500057220459
          ],
          [
           5.327499866485596
          ],
          [
           5.204999923706055
          ],
          [
           4.84499979019165
          ],
          [
           4.8125
          ],
          [
           4.75
          ],
          [
           4.337500095367432
          ],
          [
           4.335000038146973
          ],
          [
           4.617499828338623
          ],
          [
           4.545000076293945
          ],
          [
           4.852499961853027
          ],
          [
           4.989999771118164
          ],
          [
           5.105000019073486
          ],
          [
           9.522500038146973
          ],
          [
           9.6225004196167
          ],
          [
           10.387499809265137
          ],
          [
           9.342499732971191
          ],
          [
           9.807499885559082
          ],
          [
           10.647500038146973
          ],
          [
           24.1825008392334
          ],
          [
           22.139999389648438
          ],
          [
           88.7074966430664
          ],
          [
           66.25
          ],
          [
           94.92749786376953
          ],
          [
           79.13999938964844
          ],
          [
           35.189998626708984
          ],
          [
           28.002500534057617
          ],
          [
           22.797500610351562
          ],
          [
           13.510000228881836
          ],
          [
           18.102500915527344
          ],
          [
           14.15250015258789
          ],
          [
           12.692500114440918
          ],
          [
           12.5024995803833
          ],
          [
           12.6875
          ],
          [
           13.164999961853027
          ],
          [
           12.442500114440918
          ],
          [
           12.1225004196167
          ],
          [
           10.319999694824219
          ],
          [
           11.672499656677246
          ],
          [
           11.242500305175781
          ],
          [
           11.175000190734863
          ],
          [
           42.38999938964844
          ],
          [
           29.364999771118164
          ],
          [
           26.135000228881836
          ],
          [
           29.232500076293945
          ],
          [
           30.627500534057617
          ],
          [
           31.25
          ],
          [
           32.04249954223633
          ],
          [
           38.72249984741211
          ],
          [
           54.4275016784668
          ],
          [
           67.35749816894531
          ],
          [
           60.40999984741211
          ],
          [
           68.75
          ],
          [
           69.37999725341797
          ],
          [
           50.790000915527344
          ],
          [
           54.459999084472656
          ],
          [
           53.5
          ],
          [
           48.932498931884766
          ],
          [
           51.314998626708984
          ],
          [
           49.375
          ],
          [
           39.494998931884766
          ],
          [
           30.872499465942383
          ],
          [
           49.41999816894531
          ],
          [
           45.1875
          ],
          [
           46.875
          ],
          [
           49.375
          ],
          [
           48.34000015258789
          ],
          [
           42.75
          ],
          [
           46.3025016784668
          ],
          [
           45.80500030517578
          ],
          [
           46.470001220703125
          ],
          [
           42.42499923706055
          ],
          [
           39.52750015258789
          ],
          [
           35.470001220703125
          ],
          [
           35.89250183105469
          ],
          [
           40.75
          ],
          [
           39
          ],
          [
           42.95000076293945
          ],
          [
           41.03499984741211
          ],
          [
           39.599998474121094
          ],
          [
           39.775001525878906
          ],
          [
           37.25
          ],
          [
           37.744998931884766
          ],
          [
           45.88750076293945
          ],
          [
           43.025001525878906
          ],
          [
           44.13999938964844
          ],
          [
           43.75
          ],
          [
           44.372501373291016
          ],
          [
           39.75
          ],
          [
           40.45750045776367
          ],
          [
           40.21500015258789
          ],
          [
           40.02750015258789
          ],
          [
           40.32749938964844
          ],
          [
           34.25
          ],
          [
           36.42499923706055
          ],
          [
           36.86000061035156
          ],
          [
           40
          ],
          [
           39.962501525878906
          ],
          [
           43.6349983215332
          ],
          [
           42.997501373291016
          ],
          [
           42.6974983215332
          ],
          [
           42.75
          ],
          [
           43.962501525878906
          ],
          [
           45.25
          ],
          [
           57.25
          ],
          [
           57.45000076293945
          ],
          [
           65.74250030517578
          ],
          [
           58.369998931884766
          ],
          [
           62.220001220703125
          ],
          [
           66.42749786376953
          ],
          [
           64.00499725341797
          ],
          [
           64.5
          ],
          [
           73
          ],
          [
           75.77999877929688
          ],
          [
           70.5
          ],
          [
           55.587501525878906
          ],
          [
           59.125
          ],
          [
           56.59000015258789
          ],
          [
           53.810001373291016
          ],
          [
           56
          ],
          [
           55.04499816894531
          ],
          [
           54.23749923706055
          ],
          [
           54.432498931884766
          ],
          [
           55.36249923706055
          ],
          [
           55.290000915527344
          ],
          [
           53.5
          ],
          [
           52.8125
          ],
          [
           53.397499084472656
          ]
         ],
         "type": "candlestick"
        }
       ],
       "layout": {
        "template": {
         "data": {
          "bar": [
           {
            "error_x": {
             "color": "#2a3f5f"
            },
            "error_y": {
             "color": "#2a3f5f"
            },
            "marker": {
             "line": {
              "color": "#E5ECF6",
              "width": 0.5
             },
             "pattern": {
              "fillmode": "overlay",
              "size": 10,
              "solidity": 0.2
             }
            },
            "type": "bar"
           }
          ],
          "barpolar": [
           {
            "marker": {
             "line": {
              "color": "#E5ECF6",
              "width": 0.5
             },
             "pattern": {
              "fillmode": "overlay",
              "size": 10,
              "solidity": 0.2
             }
            },
            "type": "barpolar"
           }
          ],
          "carpet": [
           {
            "aaxis": {
             "endlinecolor": "#2a3f5f",
             "gridcolor": "white",
             "linecolor": "white",
             "minorgridcolor": "white",
             "startlinecolor": "#2a3f5f"
            },
            "baxis": {
             "endlinecolor": "#2a3f5f",
             "gridcolor": "white",
             "linecolor": "white",
             "minorgridcolor": "white",
             "startlinecolor": "#2a3f5f"
            },
            "type": "carpet"
           }
          ],
          "choropleth": [
           {
            "colorbar": {
             "outlinewidth": 0,
             "ticks": ""
            },
            "type": "choropleth"
           }
          ],
          "contour": [
           {
            "colorbar": {
             "outlinewidth": 0,
             "ticks": ""
            },
            "colorscale": [
             [
              0,
              "#0d0887"
             ],
             [
              0.1111111111111111,
              "#46039f"
             ],
             [
              0.2222222222222222,
              "#7201a8"
             ],
             [
              0.3333333333333333,
              "#9c179e"
             ],
             [
              0.4444444444444444,
              "#bd3786"
             ],
             [
              0.5555555555555556,
              "#d8576b"
             ],
             [
              0.6666666666666666,
              "#ed7953"
             ],
             [
              0.7777777777777778,
              "#fb9f3a"
             ],
             [
              0.8888888888888888,
              "#fdca26"
             ],
             [
              1,
              "#f0f921"
             ]
            ],
            "type": "contour"
           }
          ],
          "contourcarpet": [
           {
            "colorbar": {
             "outlinewidth": 0,
             "ticks": ""
            },
            "type": "contourcarpet"
           }
          ],
          "heatmap": [
           {
            "colorbar": {
             "outlinewidth": 0,
             "ticks": ""
            },
            "colorscale": [
             [
              0,
              "#0d0887"
             ],
             [
              0.1111111111111111,
              "#46039f"
             ],
             [
              0.2222222222222222,
              "#7201a8"
             ],
             [
              0.3333333333333333,
              "#9c179e"
             ],
             [
              0.4444444444444444,
              "#bd3786"
             ],
             [
              0.5555555555555556,
              "#d8576b"
             ],
             [
              0.6666666666666666,
              "#ed7953"
             ],
             [
              0.7777777777777778,
              "#fb9f3a"
             ],
             [
              0.8888888888888888,
              "#fdca26"
             ],
             [
              1,
              "#f0f921"
             ]
            ],
            "type": "heatmap"
           }
          ],
          "heatmapgl": [
           {
            "colorbar": {
             "outlinewidth": 0,
             "ticks": ""
            },
            "colorscale": [
             [
              0,
              "#0d0887"
             ],
             [
              0.1111111111111111,
              "#46039f"
             ],
             [
              0.2222222222222222,
              "#7201a8"
             ],
             [
              0.3333333333333333,
              "#9c179e"
             ],
             [
              0.4444444444444444,
              "#bd3786"
             ],
             [
              0.5555555555555556,
              "#d8576b"
             ],
             [
              0.6666666666666666,
              "#ed7953"
             ],
             [
              0.7777777777777778,
              "#fb9f3a"
             ],
             [
              0.8888888888888888,
              "#fdca26"
             ],
             [
              1,
              "#f0f921"
             ]
            ],
            "type": "heatmapgl"
           }
          ],
          "histogram": [
           {
            "marker": {
             "pattern": {
              "fillmode": "overlay",
              "size": 10,
              "solidity": 0.2
             }
            },
            "type": "histogram"
           }
          ],
          "histogram2d": [
           {
            "colorbar": {
             "outlinewidth": 0,
             "ticks": ""
            },
            "colorscale": [
             [
              0,
              "#0d0887"
             ],
             [
              0.1111111111111111,
              "#46039f"
             ],
             [
              0.2222222222222222,
              "#7201a8"
             ],
             [
              0.3333333333333333,
              "#9c179e"
             ],
             [
              0.4444444444444444,
              "#bd3786"
             ],
             [
              0.5555555555555556,
              "#d8576b"
             ],
             [
              0.6666666666666666,
              "#ed7953"
             ],
             [
              0.7777777777777778,
              "#fb9f3a"
             ],
             [
              0.8888888888888888,
              "#fdca26"
             ],
             [
              1,
              "#f0f921"
             ]
            ],
            "type": "histogram2d"
           }
          ],
          "histogram2dcontour": [
           {
            "colorbar": {
             "outlinewidth": 0,
             "ticks": ""
            },
            "colorscale": [
             [
              0,
              "#0d0887"
             ],
             [
              0.1111111111111111,
              "#46039f"
             ],
             [
              0.2222222222222222,
              "#7201a8"
             ],
             [
              0.3333333333333333,
              "#9c179e"
             ],
             [
              0.4444444444444444,
              "#bd3786"
             ],
             [
              0.5555555555555556,
              "#d8576b"
             ],
             [
              0.6666666666666666,
              "#ed7953"
             ],
             [
              0.7777777777777778,
              "#fb9f3a"
             ],
             [
              0.8888888888888888,
              "#fdca26"
             ],
             [
              1,
              "#f0f921"
             ]
            ],
            "type": "histogram2dcontour"
           }
          ],
          "mesh3d": [
           {
            "colorbar": {
             "outlinewidth": 0,
             "ticks": ""
            },
            "type": "mesh3d"
           }
          ],
          "parcoords": [
           {
            "line": {
             "colorbar": {
              "outlinewidth": 0,
              "ticks": ""
             }
            },
            "type": "parcoords"
           }
          ],
          "pie": [
           {
            "automargin": true,
            "type": "pie"
           }
          ],
          "scatter": [
           {
            "fillpattern": {
             "fillmode": "overlay",
             "size": 10,
             "solidity": 0.2
            },
            "type": "scatter"
           }
          ],
          "scatter3d": [
           {
            "line": {
             "colorbar": {
              "outlinewidth": 0,
              "ticks": ""
             }
            },
            "marker": {
             "colorbar": {
              "outlinewidth": 0,
              "ticks": ""
             }
            },
            "type": "scatter3d"
           }
          ],
          "scattercarpet": [
           {
            "marker": {
             "colorbar": {
              "outlinewidth": 0,
              "ticks": ""
             }
            },
            "type": "scattercarpet"
           }
          ],
          "scattergeo": [
           {
            "marker": {
             "colorbar": {
              "outlinewidth": 0,
              "ticks": ""
             }
            },
            "type": "scattergeo"
           }
          ],
          "scattergl": [
           {
            "marker": {
             "colorbar": {
              "outlinewidth": 0,
              "ticks": ""
             }
            },
            "type": "scattergl"
           }
          ],
          "scattermapbox": [
           {
            "marker": {
             "colorbar": {
              "outlinewidth": 0,
              "ticks": ""
             }
            },
            "type": "scattermapbox"
           }
          ],
          "scatterpolar": [
           {
            "marker": {
             "colorbar": {
              "outlinewidth": 0,
              "ticks": ""
             }
            },
            "type": "scatterpolar"
           }
          ],
          "scatterpolargl": [
           {
            "marker": {
             "colorbar": {
              "outlinewidth": 0,
              "ticks": ""
             }
            },
            "type": "scatterpolargl"
           }
          ],
          "scatterternary": [
           {
            "marker": {
             "colorbar": {
              "outlinewidth": 0,
              "ticks": ""
             }
            },
            "type": "scatterternary"
           }
          ],
          "surface": [
           {
            "colorbar": {
             "outlinewidth": 0,
             "ticks": ""
            },
            "colorscale": [
             [
              0,
              "#0d0887"
             ],
             [
              0.1111111111111111,
              "#46039f"
             ],
             [
              0.2222222222222222,
              "#7201a8"
             ],
             [
              0.3333333333333333,
              "#9c179e"
             ],
             [
              0.4444444444444444,
              "#bd3786"
             ],
             [
              0.5555555555555556,
              "#d8576b"
             ],
             [
              0.6666666666666666,
              "#ed7953"
             ],
             [
              0.7777777777777778,
              "#fb9f3a"
             ],
             [
              0.8888888888888888,
              "#fdca26"
             ],
             [
              1,
              "#f0f921"
             ]
            ],
            "type": "surface"
           }
          ],
          "table": [
           {
            "cells": {
             "fill": {
              "color": "#EBF0F8"
             },
             "line": {
              "color": "white"
             }
            },
            "header": {
             "fill": {
              "color": "#C8D4E3"
             },
             "line": {
              "color": "white"
             }
            },
            "type": "table"
           }
          ]
         },
         "layout": {
          "annotationdefaults": {
           "arrowcolor": "#2a3f5f",
           "arrowhead": 0,
           "arrowwidth": 1
          },
          "autotypenumbers": "strict",
          "coloraxis": {
           "colorbar": {
            "outlinewidth": 0,
            "ticks": ""
           }
          },
          "colorscale": {
           "diverging": [
            [
             0,
             "#8e0152"
            ],
            [
             0.1,
             "#c51b7d"
            ],
            [
             0.2,
             "#de77ae"
            ],
            [
             0.3,
             "#f1b6da"
            ],
            [
             0.4,
             "#fde0ef"
            ],
            [
             0.5,
             "#f7f7f7"
            ],
            [
             0.6,
             "#e6f5d0"
            ],
            [
             0.7,
             "#b8e186"
            ],
            [
             0.8,
             "#7fbc41"
            ],
            [
             0.9,
             "#4d9221"
            ],
            [
             1,
             "#276419"
            ]
           ],
           "sequential": [
            [
             0,
             "#0d0887"
            ],
            [
             0.1111111111111111,
             "#46039f"
            ],
            [
             0.2222222222222222,
             "#7201a8"
            ],
            [
             0.3333333333333333,
             "#9c179e"
            ],
            [
             0.4444444444444444,
             "#bd3786"
            ],
            [
             0.5555555555555556,
             "#d8576b"
            ],
            [
             0.6666666666666666,
             "#ed7953"
            ],
            [
             0.7777777777777778,
             "#fb9f3a"
            ],
            [
             0.8888888888888888,
             "#fdca26"
            ],
            [
             1,
             "#f0f921"
            ]
           ],
           "sequentialminus": [
            [
             0,
             "#0d0887"
            ],
            [
             0.1111111111111111,
             "#46039f"
            ],
            [
             0.2222222222222222,
             "#7201a8"
            ],
            [
             0.3333333333333333,
             "#9c179e"
            ],
            [
             0.4444444444444444,
             "#bd3786"
            ],
            [
             0.5555555555555556,
             "#d8576b"
            ],
            [
             0.6666666666666666,
             "#ed7953"
            ],
            [
             0.7777777777777778,
             "#fb9f3a"
            ],
            [
             0.8888888888888888,
             "#fdca26"
            ],
            [
             1,
             "#f0f921"
            ]
           ]
          },
          "colorway": [
           "#636efa",
           "#EF553B",
           "#00cc96",
           "#ab63fa",
           "#FFA15A",
           "#19d3f3",
           "#FF6692",
           "#B6E880",
           "#FF97FF",
           "#FECB52"
          ],
          "font": {
           "color": "#2a3f5f"
          },
          "geo": {
           "bgcolor": "white",
           "lakecolor": "white",
           "landcolor": "#E5ECF6",
           "showlakes": true,
           "showland": true,
           "subunitcolor": "white"
          },
          "hoverlabel": {
           "align": "left"
          },
          "hovermode": "closest",
          "mapbox": {
           "style": "light"
          },
          "paper_bgcolor": "white",
          "plot_bgcolor": "#E5ECF6",
          "polar": {
           "angularaxis": {
            "gridcolor": "white",
            "linecolor": "white",
            "ticks": ""
           },
           "bgcolor": "#E5ECF6",
           "radialaxis": {
            "gridcolor": "white",
            "linecolor": "white",
            "ticks": ""
           }
          },
          "scene": {
           "xaxis": {
            "backgroundcolor": "#E5ECF6",
            "gridcolor": "white",
            "gridwidth": 2,
            "linecolor": "white",
            "showbackground": true,
            "ticks": "",
            "zerolinecolor": "white"
           },
           "yaxis": {
            "backgroundcolor": "#E5ECF6",
            "gridcolor": "white",
            "gridwidth": 2,
            "linecolor": "white",
            "showbackground": true,
            "ticks": "",
            "zerolinecolor": "white"
           },
           "zaxis": {
            "backgroundcolor": "#E5ECF6",
            "gridcolor": "white",
            "gridwidth": 2,
            "linecolor": "white",
            "showbackground": true,
            "ticks": "",
            "zerolinecolor": "white"
           }
          },
          "shapedefaults": {
           "line": {
            "color": "#2a3f5f"
           }
          },
          "ternary": {
           "aaxis": {
            "gridcolor": "white",
            "linecolor": "white",
            "ticks": ""
           },
           "baxis": {
            "gridcolor": "white",
            "linecolor": "white",
            "ticks": ""
           },
           "bgcolor": "#E5ECF6",
           "caxis": {
            "gridcolor": "white",
            "linecolor": "white",
            "ticks": ""
           }
          },
          "title": {
           "x": 0.05
          },
          "xaxis": {
           "automargin": true,
           "gridcolor": "white",
           "linecolor": "white",
           "ticks": "",
           "title": {
            "standoff": 15
           },
           "zerolinecolor": "white",
           "zerolinewidth": 2
          },
          "yaxis": {
           "automargin": true,
           "gridcolor": "white",
           "linecolor": "white",
           "ticks": "",
           "title": {
            "standoff": 15
           },
           "zerolinecolor": "white",
           "zerolinewidth": 2
          }
         }
        },
        "title": {
         "text": "GameStop Stock Price"
        },
        "xaxis": {
         "title": {
          "text": "Date"
         }
        },
        "yaxis": {
         "title": {
          "text": "Price (USD)"
         }
        }
       }
      },
      "image/png": "[encoded data removed]",
      "text/html": [
       "<div>                            <div id=\"0d492e55-75c0-4d68-8698-1809073c075d\" class=\"plotly-graph-div\" style=\"height:525px; width:100%;\"></div>            <script type=\"text/javascript\">                require([\"plotly\"], function(Plotly) {                    window.PLOTLYENV=window.PLOTLYENV || {};                                    if (document.getElementById(\"0d492e55-75c0-4d68-8698-1809073c075d\")) {                    Plotly.newPlot(                        \"0d492e55-75c0-4d68-8698-1809073c075d\",                        [{\"close\":[[1.5774999856948853],[1.4700000286102295],[1.462499976158142],[1.3799999952316284],[1.4299999475479126],[1.3875000476837158],[1.3574999570846558],[1.3574999570846558],[1.1775000095367432],[1.152500033378601],[1.1549999713897705],[1.1875],[1.1475000381469727],[1.1399999856948853],[1.1549999713897705],[1.0800000429153442],[1.0700000524520874],[1.0525000095367432],[1.0325000286102295],[0.9825000166893005],[0.9599999785423279],[0.987500011920929],[1.0175000429153442],[1.0449999570846558],[1.034999966621399],[0.9524999856948853],[0.9850000143051147],[1.0049999952316284],[1.0475000143051147],[1.027500033378601],[1.0049999952316284],[1.0149999856948853],[1.037500023841858],[1.034999966621399],[1.0099999904632568],[0.925000011920929],[0.8899999856948853],[0.8475000262260437],[0.8675000071525574],[0.8999999761581421],[0.9574999809265137],[0.9075000286102295],[0.9424999952316284],[0.9900000095367432],[0.9800000190734863],[0.925000011920929],[1.0575000047683716],[1.034999966621399],[0.9950000047683716],[1.1475000381469727],[1.0924999713897705],[1.0575000047683716],[0.9424999952316284],[1.0475000143051147],[0.9399999976158142],[0.9524999856948853],[1.0399999618530273],[1.0425000190734863],[1.1024999618530273],[1.0549999475479126],[0.9125000238418579],[0.875],[0.8125],[0.7124999761581421],[0.699999988079071],[0.7724999785423279],[0.8174999952316284],[0.8525000214576721],[0.9725000262260437],[1.184999942779541],[1.4874999523162842],[1.3174999952316284],[1.2575000524520874],[1.2200000286102295],[1.402500033378601],[1.1950000524520874],[1.222499966621399],[1.1749999523162842],[1.1924999952316284],[1.4550000429153442],[1.409999966621399],[1.5099999904632568],[1.4325000047683716],[1.5125000476837158],[1.3700000047683716],[1.347499966621399],[1.2324999570846558],[1.2174999713897705],[1.2450000047683716],[1.190000057220459],[1.1349999904632568],[1.0525000095367432],[1.0325000286102295],[1.0549999475479126],[1.1449999809265137],[1.1100000143051147],[1.1074999570846558],[1.1100000143051147],[1.0449999570846558],[1.1050000190734863],[1.1725000143051147],[1.0824999809265137],[1.0149999856948853],[1.0325000286102295],[1.0449999570846558],[1.1100000143051147],[1.1174999475479126],[1.034999966621399],[1.252500057220459],[1.2400000095367432],[1.2675000429153442],[1.0924999713897705],[1.1799999475479126],[1.1725000143051147],[1.159999966621399],[1.190000057220459],[1.2374999523162842],[1.2200000286102295],[1.2174999713897705],[1.2074999809265137],[1.1024999618530273],[1.1150000095367432],[1.087499976158142],[1.0950000286102295],[1.0850000381469727],[1.1100000143051147],[1.0724999904632568],[1.059999942779541],[1.0225000381469727],[1.065000057220459],[1.0525000095367432],[1.0850000381469727],[1.065000057220459],[1.0199999809265137],[1.0475000143051147],[1.0425000190734863],[0.9900000095367432],[0.9624999761581421],[1.002500057220459],[1.027500033378601],[1.027500033378601],[1.0075000524520874],[1.002500057220459],[0.9850000143051147],[1.0149999856948853],[1.024999976158142],[1.002500057220459],[1.037500023841858],[1.1074999570846558],[1.1575000286102295],[1.1074999570846558],[1.0399999618530273],[1.0824999809265137],[1.087499976158142],[1.1299999952316284],[1.159999966621399],[1.1875],[1.1575000286102295],[1.2024999856948853],[1.1799999475479126],[1.152500033378601],[1.2575000524520874],[1.2174999713897705],[1.2450000047683716],[1.277500033378601],[1.3125],[1.347499966621399],[1.6699999570846558],[1.912500023841858],[1.9275000095367432],[1.9550000429153442],[1.912500023841858],[1.9249999523162842],[1.837499976158142],[1.5575000047683716],[1.5225000381469727],[1.7274999618530273],[1.7725000381469727],[2.1700000762939453],[2.299999952316284],[2.367500066757202],[2.1875],[2.640000104904175],[2.509999990463257],[2.2850000858306885],[2.505000114440918],[2.5225000381469727],[2.5875000953674316],[2.549999952316284],[2.442500114440918],[2.3475000858306885],[2.365000009536743],[2.2825000286102295],[2.3399999141693115],[3.372499942779541],[3.005000114440918],[2.950000047683716],[2.9700000286102295],[3.0625],[3.4574999809265137],[3.327500104904175],[3.4774999618530273],[3.4649999141693115],[3.5250000953674316],[3.7274999618530273],[3.75],[3.362499952316284],[3.172499895095825],[2.9549999237060547],[2.932499885559082],[2.617500066757202],[2.6875],[2.8924999237060547],[2.7274999618530273],[2.862499952316284],[2.9649999141693115],[2.872499942779541],[2.7750000953674316],[2.9375],[2.7825000286102295],[2.752500057220459],[3.015000104904175],[2.9075000286102295],[2.8924999237060547],[3.115000009536743],[3.177500009536743],[3.4749999046325684],[3.4175000190734863],[3.6875],[4.019999980926514],[4.139999866485596],[3.950000047683716],[4.144999980926514],[4.03000020980835],[4.224999904632568],[4.087500095367432],[4.235000133514404],[3.4149999618530273],[3.5299999713897705],[3.327500104904175],[3.180000066757202],[3.4625000953674316],[3.4625000953674316],[3.7074999809265137],[3.9075000286102295],[3.882499933242798],[4.864999771118164],[5.142499923706055],[5.037499904632568],[5.247499942779541],[4.84499979019165],[4.815000057220459],[4.710000038146973],[4.3125],[4.34250020980835],[4.590000152587891],[4.519999980926514],[4.422500133514404],[4.985000133514404],[4.987500190734863],[7.849999904632568],[9.977499961853027],[8.875],[9.84000015258789],[9.779999732971191],[10.757499694824219],[16.252500534057617],[19.197500228881836],[36.994998931884766],[86.87750244140625],[48.400001525878906],[81.25],[56.25],[22.5],[23.102500915527344],[13.375],[15.942500114440918],[15.0],[12.577500343322754],[12.800000190734863],[12.774999618530273],[13.100000381469727],[12.3774995803833],[11.484999656677246],[10.172499656677246],[10.147500038146973],[11.5],[11.242500305175781],[22.927499771118164],[27.1825008392334],[25.434999465942383],[30.100000381469727],[29.545000076293945],[31.045000076293945],[33.087501525878906],[34.435001373291016],[48.625],[61.724998474121094],[66.25],[65.0],[66.125],[55.03499984741211],[52.04249954223633],[52.45249938964844],[50.4375],[50.067501068115234],[48.622501373291016],[45.4375],[30.084999084472656],[45.9375],[45.25],[45.32500076293945],[48.6150016784668],[47.45500183105469],[47.86249923706055],[46.73749923706055],[46.125],[44.49250030517578],[42.564998626708984],[39.59000015258789],[35.272499084472656],[35.247501373291016],[41.63249969482422],[39.11000061035156],[38.67250061035156],[41.092498779296875],[39.63249969482422],[39.627498626708984],[37.79249954223633],[37.79499816894531],[42.23249816894531],[44.442501068115234],[44.64500045776367],[44.04750061035156],[43.397499084472656],[40.54999923706055],[40.182498931884766],[39.869998931884766],[40.252498626708984],[40.27750015258789],[35.80500030517578],[36.72999954223633],[36.1974983215332],[41.125],[39.97999954223633],[45.150001525878906],[45.16749954223633],[42.20750045776367],[42.622501373291016],[44.1974983215332],[45.002498626708984],[52.35749816894531],[60.63999938964844],[63.532501220703125],[55.5],[62.255001068115234],[70.55999755859375],[64.54499816894531],[62.09000015258789],[70.00250244140625],[75.0],[75.63999938964844],[55.09749984741211],[58.334999084472656],[57.36000061035156],[55.625],[55.74250030517578],[55.897499084472656],[53.45500183105469],[50.092498779296875],[55.099998474121094],[54.834999084472656],[53.07749938964844],[52.377498626708984],[53.3125],[52.720001220703125]],\"high\":[[1.6174999475479126],[1.5625],[1.4774999618530273],[1.4574999809265137],[1.462499976158142],[1.4550000429153442],[1.399999976158142],[1.402500033378601],[1.25],[1.1825000047683716],[1.1775000095367432],[1.1875],[1.1875],[1.159999966621399],[1.159999966621399],[1.159999966621399],[1.087499976158142],[1.0750000476837158],[1.0800000429153442],[1.0299999713897705],[0.9850000143051147],[0.9950000047683716],[1.0625],[1.1024999618530273],[1.0750000476837158],[1.0325000286102295],[1.024999976158142],[1.059999942779541],[1.127500057220459],[1.065000057220459],[1.0475000143051147],[1.0199999809265137],[1.0674999952316284],[1.0750000476837158],[1.0449999570846558],[0.9825000166893005],[0.9474999904632568],[0.9049999713897705],[0.9075000286102295],[0.9300000071525574],[0.9624999761581421],[0.9725000262260437],[0.9574999809265137],[0.9975000023841858],[1.0175000429153442],[0.9925000071525574],[1.065000057220459],[1.0625],[1.0099999904632568],[1.162500023841858],[1.1425000429153442],[1.162500023841858],[1.0625],[1.0499999523162842],[1.0199999809265137],[0.9649999737739563],[1.0525000095367432],[1.122499942779541],[1.1775000095367432],[1.2725000381469727],[1.0674999952316284],[0.949999988079071],[0.8725000023841858],[0.8374999761581421],[0.7350000143051147],[0.800000011920929],[0.8600000143051147],[0.9175000190734863],[1.0625],[1.190000057220459],[1.6174999475479126],[1.4175000190734863],[1.3600000143051147],[1.3200000524520874],[1.475000023841858],[1.3250000476837158],[1.2925000190734863],[1.222499966621399],[1.212499976158142],[1.497499942779541],[1.5099999904632568],[1.5225000381469727],[1.4950000047683716],[1.5449999570846558],[1.4824999570846558],[1.4075000286102295],[1.350000023841858],[1.2324999570846558],[1.2975000143051147],[1.2400000095367432],[1.2300000190734863],[1.1349999904632568],[1.0475000143051147],[1.1124999523162842],[1.1575000286102295],[1.1875],[1.1725000143051147],[1.162500023841858],[1.122499942779541],[1.152500033378601],[1.1775000095367432],[1.190000057220459],[1.1050000190734863],[1.090000033378601],[1.0774999856948853],[1.1299999952316284],[1.1799999475479126],[1.1024999618530273],[1.284999966621399],[1.25],[1.3825000524520874],[1.225000023841858],[1.1950000524520874],[1.1924999952316284],[1.2374999523162842],[1.2074999809265137],[1.2374999523162842],[1.2699999809265137],[1.2374999523162842],[1.247499942779541],[1.2100000381469727],[1.1349999904632568],[1.125],[1.1299999952316284],[1.127500057220459],[1.125],[1.127500057220459],[1.0850000381469727],[1.0625],[1.0724999904632568],[1.0800000429153442],[1.0950000286102295],[1.1375000476837158],[1.0774999856948853],[1.0724999904632568],[1.0499999523162842],[1.0575000047683716],[1.0149999856948853],[1.0225000381469727],[1.0299999713897705],[1.0774999856948853],[1.0575000047683716],[1.0299999713897705],[1.0125000476837158],[1.0449999570846558],[1.0575000047683716],[1.0399999618530273],[1.0625],[1.184999942779541],[1.190000057220459],[1.1649999618530273],[1.100000023841858],[1.1425000429153442],[1.1425000429153442],[1.1575000286102295],[1.1775000095367432],[1.2074999809265137],[1.1950000524520874],[1.2174999713897705],[1.2100000381469727],[1.1699999570846558],[1.399999976158142],[1.2825000286102295],[1.3125],[1.3049999475479126],[1.3450000286102295],[1.3925000429153442],[1.787500023841858],[1.9550000429153442],[2.012500047683716],[2.112499952316284],[1.9800000190734863],[2.069999933242798],[1.997499942779541],[1.7374999523162842],[1.5824999809265137],[1.75],[1.815000057220459],[2.259999990463257],[2.442500114440918],[2.442500114440918],[2.4000000953674316],[2.7925000190734863],[2.7149999141693115],[2.452500104904175],[2.5450000762939453],[2.565000057220459],[2.6624999046325684],[2.690000057220459],[2.5625],[2.444999933242798],[2.3975000381469727],[2.4600000381469727],[2.390000104904175],[3.4100000858306885],[3.700000047683716],[3.192500114440918],[3.1050000190734863],[3.1700000762939453],[3.7750000953674316],[3.4749999046325684],[3.625],[3.5350000858306885],[3.6050000190734863],[3.9674999713897705],[3.8450000286102295],[3.862499952316284],[3.427500009536743],[3.262500047683716],[3.0625],[2.9100000858306885],[2.7725000381469727],[2.9649999141693115],[2.942500114440918],[2.9600000381469727],[3.0425000190734863],[3.2325000762939453],[2.9149999618530273],[2.987499952316284],[2.9674999713897705],[2.887500047683716],[3.1649999618530273],[2.9800000190734863],[3.009999990463257],[3.197499990463257],[3.365000009536743],[3.5299999713897705],[3.565000057220459],[3.8125],[4.184999942779541],[4.855000019073486],[4.349999904632568],[4.170000076293945],[4.159999847412109],[4.322500228881836],[4.375],[4.302499771118164],[3.682499885559082],[3.6024999618530273],[3.5],[3.3575000762939453],[3.505000114440918],[3.577500104904175],[3.744999885559082],[4.074999809265137],[4.087500095367432],[5.010000228881836],[5.587500095367432],[5.369999885559082],[5.492499828338623],[5.267499923706055],[5.0],[4.949999809265137],[4.775000095367432],[4.519999980926514],[4.744999885559082],[4.862500190734863],[4.574999809265137],[5.162499904632568],[5.099999904632568],[9.662500381469727],[10.765000343322754],[10.1875],[11.380000114440918],[10.297499656677246],[11.1875],[19.190000534057617],[39.79499816894531],[37.5],[95.0],[120.75],[103.49500274658203],[80.5],[39.5],[28.350000381469727],[22.875],[23.75],[18.165000915527344],[14.25],[15.707500457763672],[13.829999923706055],[13.8100004196167],[13.375],[12.797499656677246],[12.217499732971191],[10.97249984741211],[12.1274995803833],[11.557499885559082],[22.927499771118164],[46.16999816894531],[35.724998474121094],[33.497501373291016],[33.29999923706055],[31.9375],[36.967498779296875],[37.88249969482422],[52.717498779296875],[62.462501525878906],[87.125],[70.375],[73.875],[70.75],[55.17499923706055],[57.86750030517578],[54.720001220703125],[56.75],[52.59000015258789],[50.4375],[41.74250030517578],[46.875],[54.73249816894531],[48.47999954223633],[51.07500076293945],[49.8650016784668],[49.24250030517578],[48.75],[48.0],[46.125],[46.470001220703125],[42.89500045776367],[40.974998474121094],[36.345001220703125],[43.522499084472656],[41.5625],[40.04999923706055],[43.79999923706055],[41.22249984741211],[40.744998931884766],[39.775001525878906],[38.415000915527344],[43.66999816894531],[47.0],[45.494998931884766],[45.21500015258789],[45.95000076293945],[44.372501373291016],[40.372501373291016],[41.375],[41.18000030517578],[41.852500915527344],[40.397499084472656],[37.625],[37.625],[42.48749923706055],[41.61750030517578],[45.625],[47.29999923706055],[44.744998931884766],[43.727500915527344],[44.810001373291016],[47.1150016784668],[54.27750015258789],[62.119998931884766],[66.0],[67.19999694824219],[63.744998931884766],[73.5],[68.60749816894531],[66.25],[70.5],[86.16500091552734],[82.0],[72.0],[60.282501220703125],[59.502498626708984],[57.3125],[57.182498931884766],[58.415000915527344],[55.872501373291016],[54.599998474121094],[56.470001220703125],[55.64250183105469],[56.86249923706055],[53.54999923706055],[56.11249923706055],[53.80500030517578]],\"low\":[[1.5175000429153442],[1.4600000381469727],[1.399999976158142],[1.3600000143051147],[1.3524999618530273],[1.3700000047683716],[1.3450000286102295],[1.3324999809265137],[1.1325000524520874],[1.1375000476837158],[1.1299999952316284],[1.127500057220459],[1.1375000476837158],[1.1150000095367432],[1.1150000095367432],[1.0625],[1.0399999618530273],[1.0449999570846558],[1.0325000286102295],[0.9700000286102295],[0.9574999809265137],[0.9624999761581421],[0.9925000071525574],[1.034999966621399],[1.034999966621399],[0.9424999952316284],[0.9350000023841858],[0.987500011920929],[1.0175000429153442],[1.0175000429153442],[1.0049999952316284],[0.9900000095367432],[0.9800000190734863],[1.027500033378601],[0.9975000023841858],[0.925000011920929],[0.887499988079071],[0.8399999737739563],[0.7950000166893005],[0.8349999785423279],[0.8475000262260437],[0.875],[0.8650000095367432],[0.8974999785423279],[0.9399999976158142],[0.875],[0.949999988079071],[1.0],[0.8700000047683716],[0.9624999761581421],[0.9750000238418579],[1.027500033378601],[0.875],[0.887499988079071],[0.9125000238418579],[0.875],[0.9725000262260437],[1.0099999904632568],[1.059999942779541],[1.037500023841858],[0.9125000238418579],[0.875],[0.7799999713897705],[0.7124999761581421],[0.6424999833106995],[0.7074999809265137],[0.7749999761581421],[0.800000011920929],[0.8725000023841858],[1.0399999618530273],[1.284999966621399],[1.225000023841858],[1.2200000286102295],[1.1074999570846558],[1.1950000524520874],[1.190000057220459],[1.2074999809265137],[1.1449999809265137],[1.1649999618530273],[1.2024999856948853],[1.2649999856948853],[1.3624999523162842],[1.409999966621399],[1.3624999523162842],[1.350000023841858],[1.337499976158142],[1.225000023841858],[1.162500023841858],[1.2050000429153442],[1.1875],[1.1150000095367432],[1.0175000429153442],[0.9900000095367432],[1.0099999904632568],[1.090000033378601],[1.0924999713897705],[1.0850000381469727],[1.100000023841858],[1.0325000286102295],[1.0824999809265137],[1.090000033378601],[1.0750000476837158],[1.0125000476837158],[1.0049999952316284],[1.0149999856948853],[1.0499999523162842],[1.0924999713897705],[1.0225000381469727],[1.0674999952316284],[1.1375000476837158],[1.1699999570846558],[1.0449999570846558],[1.097499966621399],[1.1050000190734863],[1.127500057220459],[1.1325000524520874],[1.162500023841858],[1.1725000143051147],[1.1799999475479126],[1.2000000476837158],[1.0950000286102295],[1.0750000476837158],[1.0674999952316284],[1.0750000476837158],[1.0499999523162842],[1.0774999856948853],[1.0724999904632568],[1.0475000143051147],[1.0149999856948853],[1.0075000524520874],[1.0325000286102295],[1.0449999570846558],[1.065000057220459],[1.0175000429153442],[1.0325000286102295],[1.0225000381469727],[0.9850000143051147],[0.9424999952316284],[0.9700000286102295],[0.9800000190734863],[1.0149999856948853],[1.002500057220459],[0.987500011920929],[0.9800000190734863],[0.9800000190734863],[0.9925000071525574],[0.9975000023841858],[1.0],[1.0325000286102295],[1.0625],[1.0950000286102295],[1.0149999856948853],[1.0449999570846558],[1.0850000381469727],[1.090000033378601],[1.125],[1.1375000476837158],[1.1399999856948853],[1.1074999570846558],[1.159999966621399],[1.127500057220459],[1.149999976158142],[1.1399999856948853],[1.2200000286102295],[1.2300000190734863],[1.2549999952316284],[1.3049999475479126],[1.4225000143051147],[1.6924999952316284],[1.777500033378601],[1.809999942779541],[1.7925000190734863],[1.8700000047683716],[1.8274999856948853],[1.5475000143051147],[1.4674999713897705],[1.6074999570846558],[1.6725000143051147],[1.7575000524520874],[2.1024999618530273],[2.2274999618530273],[2.0950000286102295],[2.4749999046325684],[2.4800000190734863],[2.252500057220459],[2.2750000953674316],[2.387500047683716],[2.4825000762939453],[2.515000104904175],[2.422499895095825],[2.325000047683716],[2.3125],[2.2750000953674316],[2.2925000190734863],[2.297499895095825],[2.9749999046325684],[2.8499999046325684],[2.9124999046325684],[3.012500047683716],[2.997499942779541],[3.2699999809265137],[3.3450000286102295],[3.4175000190734863],[3.450000047683716],[3.547499895095825],[3.637500047683716],[3.315000057220459],[3.0899999141693115],[2.944999933242798],[2.9200000762939453],[2.5899999141693115],[2.625],[2.6575000286102295],[2.6524999141693115],[2.765000104904175],[2.8299999237060547],[2.8125],[2.7074999809265137],[2.802500009536743],[2.742500066757202],[2.75],[2.680000066757202],[2.807499885559082],[2.890000104904175],[2.862499952316284],[3.134999990463257],[3.1675000190734863],[3.325000047683716],[3.3550000190734863],[3.7200000286102295],[4.139999866485596],[3.940000057220459],[3.8450000286102295],[3.9674999713897705],[4.065000057220459],[4.054999828338623],[3.9825000762939453],[3.307499885559082],[3.262500047683716],[3.255000114440918],[3.0350000858306885],[3.119999885559082],[3.3949999809265137],[3.3975000381469727],[3.7950000762939453],[3.819999933242798],[4.037499904632568],[4.78249979019165],[4.987500190734863],[5.087500095367432],[4.639999866485596],[4.712500095367432],[4.699999809265137],[4.287499904632568],[4.307499885559082],[4.332499980926514],[4.505000114440918],[4.269999980926514],[4.752500057220459],[4.829999923706055],[5.007500171661377],[8.262499809265137],[8.5024995803833],[9.15999984741211],[9.015000343322754],[9.25],[10.579999923706055],[15.282500267028809],[20.049999237060547],[62.25],[28.0625],[62.5],[53.0],[18.55500030517578],[21.3125],[13.332500457763672],[12.772500038146973],[14.505000114440918],[11.630000114440918],[11.637499809265137],[12.055000305175781],[12.012499809265137],[12.260000228881836],[11.140000343322754],[10.162500381469727],[9.625],[10.600000381469727],[10.0],[11.175000190734863],[25.25],[21.5],[24.99250030517578],[28.049999237060547],[28.280000686645508],[28.825000762939453],[31.875],[36.525001525878906],[52.127498626708984],[43.0],[58.150001525878906],[65.56749725341797],[51.5],[43.087501525878906],[51.0],[48.912498474121094],[45.665000915527344],[46.54999923706055],[44.38750076293945],[29.655000686645508],[29.225000381469727],[40.814998626708984],[43.377498626708984],[45.5],[46.77750015258789],[45.900001525878906],[41.20249938964844],[45.88999938964844],[44.02750015258789],[41.07500076293945],[38.25],[33.752498626708984],[33.0],[35.75],[38.20000076293945],[37.8125],[40.58250045776367],[38.34000015258789],[38.97999954223633],[36.71500015258789],[36.17499923706055],[37.189998626708984],[43.29249954223633],[41.50749969482422],[42.6875],[43.17499923706055],[39.90250015258789],[37.95000076293945],[39.58250045776367],[38.900001525878906],[39.375],[35.75],[34.125],[35.557498931884766],[36.60749816894531],[39.05500030517578],[39.75],[42.067501068115234],[41.037498474121094],[41.724998474121094],[42.58250045776367],[43.337501525878906],[45.25],[56.38750076293945],[56.75],[55.35749816894531],[56.76750183105469],[61.07500076293945],[60.529998779296875],[61.442501068115234],[63.79999923706055],[70.25],[72.87750244140625],[52.75],[51.532501220703125],[54.79999923706055],[52.0],[52.25],[55.369998931884766],[53.25],[49.25],[52.29249954223633],[53.529998779296875],[52.900001525878906],[49.625],[52.54999923706055],[52.002498626708984]],\"open\":[[1.534999966621399],[1.5525000095367432],[1.4500000476837158],[1.4424999952316284],[1.372499942779541],[1.4550000429153442],[1.3899999856948853],[1.3574999570846558],[1.1950000524520874],[1.1649999618530273],[1.152500033378601],[1.1449999809265137],[1.1875],[1.1375000476837158],[1.1375000476837158],[1.159999966621399],[1.0499999523162842],[1.0750000476837158],[1.0549999475479126],[1.024999976158142],[0.9775000214576721],[0.9700000286102295],[1.0075000524520874],[1.037500023841858],[1.0499999523162842],[1.027500033378601],[0.9624999761581421],[0.9950000047683716],[1.0325000286102295],[1.0299999713897705],[1.027500033378601],[1.002500057220459],[1.0149999856948853],[1.0399999618530273],[1.0299999713897705],[0.9750000238418579],[0.9424999952316284],[0.8949999809265137],[0.8075000047683716],[0.8349999785423279],[0.8999999761581421],[0.9700000286102295],[0.9275000095367432],[0.925000011920929],[0.9599999785423279],[0.8974999785423279],[0.9850000143051147],[1.034999966621399],[0.925000011920929],[1.0325000286102295],[0.9825000166893005],[1.100000023841858],[1.024999976158142],[0.9275000095367432],[1.0199999809265137],[0.8949999809265137],[0.987500011920929],[1.037500023841858],[1.059999942779541],[1.2350000143051147],[1.0549999475479126],[0.9075000286102295],[0.862500011920929],[0.8149999976158142],[0.7124999761581421],[0.7149999737739563],[0.8475000262260437],[0.8075000047683716],[0.8999999761581421],[1.0625],[1.3025000095367432],[1.4149999618530273],[1.2799999713897705],[1.3049999475479126],[1.212499976158142],[1.3075000047683716],[1.284999966621399],[1.1875],[1.1950000524520874],[1.212499976158142],[1.4800000190734863],[1.4574999809265137],[1.4674999713897705],[1.412500023841858],[1.4600000381469727],[1.3875000476837158],[1.350000023841858],[1.2074999809265137],[1.2200000286102295],[1.2300000190734863],[1.1950000524520874],[1.1349999904632568],[1.037500023841858],[1.0125000476837158],[1.100000023841858],[1.1449999809265137],[1.125],[1.1124999523162842],[1.1150000095367432],[1.0850000381469727],[1.1425000429153442],[1.1875],[1.0824999809265137],[1.0299999713897705],[1.0674999952316284],[1.059999942779541],[1.1100000143051147],[1.0724999904632568],[1.0700000524520874],[1.25],[1.1950000524520874],[1.159999966621399],[1.149999976158142],[1.125],[1.2374999523162842],[1.1349999904632568],[1.1675000190734863],[1.2374999523162842],[1.1974999904632568],[1.2374999523162842],[1.2074999809265137],[1.0824999809265137],[1.1200000047683716],[1.087499976158142],[1.0824999809265137],[1.0774999856948853],[1.122499942779541],[1.0774999856948853],[1.0499999523162842],[1.024999976158142],[1.0674999952316284],[1.0499999523162842],[1.087499976158142],[1.0549999475479126],[1.0325000286102295],[1.0475000143051147],[1.0399999618530273],[0.987500011920929],[0.9750000238418579],[1.0049999952316284],[1.0225000381469727],[1.0149999856948853],[1.0049999952316284],[0.9900000095367432],[0.9850000143051147],[1.0],[1.0149999856948853],[1.0075000524520874],[1.0325000286102295],[1.125],[1.149999976158142],[1.097499966621399],[1.0499999523162842],[1.1074999570846558],[1.100000023841858],[1.1299999952316284],[1.149999976158142],[1.1950000524520874],[1.152500033378601],[1.2000000476837158],[1.1549999713897705],[1.149999976158142],[1.274999976158142],[1.2200000286102295],[1.2424999475479126],[1.277500033378601],[1.3250000476837158],[1.4424999952316284],[1.8250000476837158],[1.9500000476837158],[1.9700000286102295],[1.9450000524520874],[1.8875000476837158],[1.9900000095367432],[1.662500023841858],[1.565000057220459],[1.7000000476837158],[1.715000033378601],[1.7575000524520874],[2.1424999237060547],[2.299999952316284],[2.3375000953674316],[2.612499952316284],[2.6500000953674316],[2.427500009536743],[2.297499895095825],[2.5399999618530273],[2.5],[2.5625],[2.5225000381469727],[2.3450000286102295],[2.359999895095825],[2.390000104904175],[2.307499885559082],[2.384999990463257],[3.2074999809265137],[2.9149999618530273],[2.932499885559082],[3.1675000190734863],[2.997499942779541],[3.442500114440918],[3.359999895095825],[3.507499933242798],[3.4749999046325684],[3.549999952316284],[3.762500047683716],[3.7325000762939453],[3.427500009536743],[3.067500114440918],[2.9700000286102295],[2.9100000858306885],[2.7049999237060547],[2.6875],[2.940000057220459],[2.817500114440918],[2.880000114440918],[3.190000057220459],[2.875],[2.875],[2.934999942779541],[2.8399999141693115],[2.7899999618530273],[2.9124999046325684],[2.950000047683716],[2.9000000953674316],[3.137500047683716],[3.2249999046325684],[3.557499885559082],[3.4000000953674316],[3.822499990463257],[4.542500019073486],[4.277500152587891],[3.924999952316284],[4.119999885559082],[4.074999809265137],[4.25],[4.09250020980835],[3.4800000190734863],[3.2799999713897705],[3.4774999618530273],[3.3350000381469727],[3.194999933242798],[3.490000009536743],[3.490000009536743],[3.944999933242798],[3.952500104904175],[4.054999828338623],[5.042500019073486],[5.252500057220459],[5.327499866485596],[5.204999923706055],[4.84499979019165],[4.8125],[4.75],[4.337500095367432],[4.335000038146973],[4.617499828338623],[4.545000076293945],[4.852499961853027],[4.989999771118164],[5.105000019073486],[9.522500038146973],[9.6225004196167],[10.387499809265137],[9.342499732971191],[9.807499885559082],[10.647500038146973],[24.1825008392334],[22.139999389648438],[88.7074966430664],[66.25],[94.92749786376953],[79.13999938964844],[35.189998626708984],[28.002500534057617],[22.797500610351562],[13.510000228881836],[18.102500915527344],[14.15250015258789],[12.692500114440918],[12.5024995803833],[12.6875],[13.164999961853027],[12.442500114440918],[12.1225004196167],[10.319999694824219],[11.672499656677246],[11.242500305175781],[11.175000190734863],[42.38999938964844],[29.364999771118164],[26.135000228881836],[29.232500076293945],[30.627500534057617],[31.25],[32.04249954223633],[38.72249984741211],[54.4275016784668],[67.35749816894531],[60.40999984741211],[68.75],[69.37999725341797],[50.790000915527344],[54.459999084472656],[53.5],[48.932498931884766],[51.314998626708984],[49.375],[39.494998931884766],[30.872499465942383],[49.41999816894531],[45.1875],[46.875],[49.375],[48.34000015258789],[42.75],[46.3025016784668],[45.80500030517578],[46.470001220703125],[42.42499923706055],[39.52750015258789],[35.470001220703125],[35.89250183105469],[40.75],[39.0],[42.95000076293945],[41.03499984741211],[39.599998474121094],[39.775001525878906],[37.25],[37.744998931884766],[45.88750076293945],[43.025001525878906],[44.13999938964844],[43.75],[44.372501373291016],[39.75],[40.45750045776367],[40.21500015258789],[40.02750015258789],[40.32749938964844],[34.25],[36.42499923706055],[36.86000061035156],[40.0],[39.962501525878906],[43.6349983215332],[42.997501373291016],[42.6974983215332],[42.75],[43.962501525878906],[45.25],[57.25],[57.45000076293945],[65.74250030517578],[58.369998931884766],[62.220001220703125],[66.42749786376953],[64.00499725341797],[64.5],[73.0],[75.77999877929688],[70.5],[55.587501525878906],[59.125],[56.59000015258789],[53.810001373291016],[56.0],[55.04499816894531],[54.23749923706055],[54.432498931884766],[55.36249923706055],[55.290000915527344],[53.5],[52.8125],[53.397499084472656]],\"type\":\"candlestick\"}],                        {\"template\":{\"data\":{\"histogram2dcontour\":[{\"type\":\"histogram2dcontour\",\"colorbar\":{\"outlinewidth\":0,\"ticks\":\"\"},\"colorscale\":[[0.0,\"#0d0887\"],[0.1111111111111111,\"#46039f\"],[0.2222222222222222,\"#7201a8\"],[0.3333333333333333,\"#9c179e\"],[0.4444444444444444,\"#bd3786\"],[0.5555555555555556,\"#d8576b\"],[0.6666666666666666,\"#ed7953\"],[0.7777777777777778,\"#fb9f3a\"],[0.8888888888888888,\"#fdca26\"],[1.0,\"#f0f921\"]]}],\"choropleth\":[{\"type\":\"choropleth\",\"colorbar\":{\"outlinewidth\":0,\"ticks\":\"\"}}],\"histogram2d\":[{\"type\":\"histogram2d\",\"colorbar\":{\"outlinewidth\":0,\"ticks\":\"\"},\"colorscale\":[[0.0,\"#0d0887\"],[0.1111111111111111,\"#46039f\"],[0.2222222222222222,\"#7201a8\"],[0.3333333333333333,\"#9c179e\"],[0.4444444444444444,\"#bd3786\"],[0.5555555555555556,\"#d8576b\"],[0.6666666666666666,\"#ed7953\"],[0.7777777777777778,\"#fb9f3a\"],[0.8888888888888888,\"#fdca26\"],[1.0,\"#f0f921\"]]}],\"heatmap\":[{\"type\":\"heatmap\",\"colorbar\":{\"outlinewidth\":0,\"ticks\":\"\"},\"colorscale\":[[0.0,\"#0d0887\"],[0.1111111111111111,\"#46039f\"],[0.2222222222222222,\"#7201a8\"],[0.3333333333333333,\"#9c179e\"],[0.4444444444444444,\"#bd3786\"],[0.5555555555555556,\"#d8576b\"],[0.6666666666666666,\"#ed7953\"],[0.7777777777777778,\"#fb9f3a\"],[0.8888888888888888,\"#fdca26\"],[1.0,\"#f0f921\"]]}],\"heatmapgl\":[{\"type\":\"heatmapgl\",\"colorbar\":{\"outlinewidth\":0,\"ticks\":\"\"},\"colorscale\":[[0.0,\"#0d0887\"],[0.1111111111111111,\"#46039f\"],[0.2222222222222222,\"#7201a8\"],[0.3333333333333333,\"#9c179e\"],[0.4444444444444444,\"#bd3786\"],[0.5555555555555556,\"#d8576b\"],[0.6666666666666666,\"#ed7953\"],[0.7777777777777778,\"#fb9f3a\"],[0.8888888888888888,\"#fdca26\"],[1.0,\"#f0f921\"]]}],\"contourcarpet\":[{\"type\":\"contourcarpet\",\"colorbar\":{\"outlinewidth\":0,\"ticks\":\"\"}}],\"contour\":[{\"type\":\"contour\",\"colorbar\":{\"outlinewidth\":0,\"ticks\":\"\"},\"colorscale\":[[0.0,\"#0d0887\"],[0.1111111111111111,\"#46039f\"],[0.2222222222222222,\"#7201a8\"],[0.3333333333333333,\"#9c179e\"],[0.4444444444444444,\"#bd3786\"],[0.5555555555555556,\"#d8576b\"],[0.6666666666666666,\"#ed7953\"],[0.7777777777777778,\"#fb9f3a\"],[0.8888888888888888,\"#fdca26\"],[1.0,\"#f0f921\"]]}],\"surface\":[{\"type\":\"surface\",\"colorbar\":{\"outlinewidth\":0,\"ticks\":\"\"},\"colorscale\":[[0.0,\"#0d0887\"],[0.1111111111111111,\"#46039f\"],[0.2222222222222222,\"#7201a8\"],[0.3333333333333333,\"#9c179e\"],[0.4444444444444444,\"#bd3786\"],[0.5555555555555556,\"#d8576b\"],[0.6666666666666666,\"#ed7953\"],[0.7777777777777778,\"#fb9f3a\"],[0.8888888888888888,\"#fdca26\"],[1.0,\"#f0f921\"]]}],\"mesh3d\":[{\"type\":\"mesh3d\",\"colorbar\":{\"outlinewidth\":0,\"ticks\":\"\"}}],\"scatter\":[{\"fillpattern\":{\"fillmode\":\"overlay\",\"size\":10,\"solidity\":0.2},\"type\":\"scatter\"}],\"parcoords\":[{\"type\":\"parcoords\",\"line\":{\"colorbar\":{\"outlinewidth\":0,\"ticks\":\"\"}}}],\"scatterpolargl\":[{\"type\":\"scatterpolargl\",\"marker\":{\"colorbar\":{\"outlinewidth\":0,\"ticks\":\"\"}}}],\"bar\":[{\"error_x\":{\"color\":\"#2a3f5f\"},\"error_y\":{\"color\":\"#2a3f5f\"},\"marker\":{\"line\":{\"color\":\"#E5ECF6\",\"width\":0.5},\"pattern\":{\"fillmode\":\"overlay\",\"size\":10,\"solidity\":0.2}},\"type\":\"bar\"}],\"scattergeo\":[{\"type\":\"scattergeo\",\"marker\":{\"colorbar\":{\"outlinewidth\":0,\"ticks\":\"\"}}}],\"scatterpolar\":[{\"type\":\"scatterpolar\",\"marker\":{\"colorbar\":{\"outlinewidth\":0,\"ticks\":\"\"}}}],\"histogram\":[{\"marker\":{\"pattern\":{\"fillmode\":\"overlay\",\"size\":10,\"solidity\":0.2}},\"type\":\"histogram\"}],\"scattergl\":[{\"type\":\"scattergl\",\"marker\":{\"colorbar\":{\"outlinewidth\":0,\"ticks\":\"\"}}}],\"scatter3d\":[{\"type\":\"scatter3d\",\"line\":{\"colorbar\":{\"outlinewidth\":0,\"ticks\":\"\"}},\"marker\":{\"colorbar\":{\"outlinewidth\":0,\"ticks\":\"\"}}}],\"scattermapbox\":[{\"type\":\"scattermapbox\",\"marker\":{\"colorbar\":{\"outlinewidth\":0,\"ticks\":\"\"}}}],\"scatterternary\":[{\"type\":\"scatterternary\",\"marker\":{\"colorbar\":{\"outlinewidth\":0,\"ticks\":\"\"}}}],\"scattercarpet\":[{\"type\":\"scattercarpet\",\"marker\":{\"colorbar\":{\"outlinewidth\":0,\"ticks\":\"\"}}}],\"carpet\":[{\"aaxis\":{\"endlinecolor\":\"#2a3f5f\",\"gridcolor\":\"white\",\"linecolor\":\"white\",\"minorgridcolor\":\"white\",\"startlinecolor\":\"#2a3f5f\"},\"baxis\":{\"endlinecolor\":\"#2a3f5f\",\"gridcolor\":\"white\",\"linecolor\":\"white\",\"minorgridcolor\":\"white\",\"startlinecolor\":\"#2a3f5f\"},\"type\":\"carpet\"}],\"table\":[{\"cells\":{\"fill\":{\"color\":\"#EBF0F8\"},\"line\":{\"color\":\"white\"}},\"header\":{\"fill\":{\"color\":\"#C8D4E3\"},\"line\":{\"color\":\"white\"}},\"type\":\"table\"}],\"barpolar\":[{\"marker\":{\"line\":{\"color\":\"#E5ECF6\",\"width\":0.5},\"pattern\":{\"fillmode\":\"overlay\",\"size\":10,\"solidity\":0.2}},\"type\":\"barpolar\"}],\"pie\":[{\"automargin\":true,\"type\":\"pie\"}]},\"layout\":{\"autotypenumbers\":\"strict\",\"colorway\":[\"#636efa\",\"#EF553B\",\"#00cc96\",\"#ab63fa\",\"#FFA15A\",\"#19d3f3\",\"#FF6692\",\"#B6E880\",\"#FF97FF\",\"#FECB52\"],\"font\":{\"color\":\"#2a3f5f\"},\"hovermode\":\"closest\",\"hoverlabel\":{\"align\":\"left\"},\"paper_bgcolor\":\"white\",\"plot_bgcolor\":\"#E5ECF6\",\"polar\":{\"bgcolor\":\"#E5ECF6\",\"angularaxis\":{\"gridcolor\":\"white\",\"linecolor\":\"white\",\"ticks\":\"\"},\"radialaxis\":{\"gridcolor\":\"white\",\"linecolor\":\"white\",\"ticks\":\"\"}},\"ternary\":{\"bgcolor\":\"#E5ECF6\",\"aaxis\":{\"gridcolor\":\"white\",\"linecolor\":\"white\",\"ticks\":\"\"},\"baxis\":{\"gridcolor\":\"white\",\"linecolor\":\"white\",\"ticks\":\"\"},\"caxis\":{\"gridcolor\":\"white\",\"linecolor\":\"white\",\"ticks\":\"\"}},\"coloraxis\":{\"colorbar\":{\"outlinewidth\":0,\"ticks\":\"\"}},\"colorscale\":{\"sequential\":[[0.0,\"#0d0887\"],[0.1111111111111111,\"#46039f\"],[0.2222222222222222,\"#7201a8\"],[0.3333333333333333,\"#9c179e\"],[0.4444444444444444,\"#bd3786\"],[0.5555555555555556,\"#d8576b\"],[0.6666666666666666,\"#ed7953\"],[0.7777777777777778,\"#fb9f3a\"],[0.8888888888888888,\"#fdca26\"],[1.0,\"#f0f921\"]],\"sequentialminus\":[[0.0,\"#0d0887\"],[0.1111111111111111,\"#46039f\"],[0.2222222222222222,\"#7201a8\"],[0.3333333333333333,\"#9c179e\"],[0.4444444444444444,\"#bd3786\"],[0.5555555555555556,\"#d8576b\"],[0.6666666666666666,\"#ed7953\"],[0.7777777777777778,\"#fb9f3a\"],[0.8888888888888888,\"#fdca26\"],[1.0,\"#f0f921\"]],\"diverging\":[[0,\"#8e0152\"],[0.1,\"#c51b7d\"],[0.2,\"#de77ae\"],[0.3,\"#f1b6da\"],[0.4,\"#fde0ef\"],[0.5,\"#f7f7f7\"],[0.6,\"#e6f5d0\"],[0.7,\"#b8e186\"],[0.8,\"#7fbc41\"],[0.9,\"#4d9221\"],[1,\"#276419\"]]},\"xaxis\":{\"gridcolor\":\"white\",\"linecolor\":\"white\",\"ticks\":\"\",\"title\":{\"standoff\":15},\"zerolinecolor\":\"white\",\"automargin\":true,\"zerolinewidth\":2},\"yaxis\":{\"gridcolor\":\"white\",\"linecolor\":\"white\",\"ticks\":\"\",\"title\":{\"standoff\":15},\"zerolinecolor\":\"white\",\"automargin\":true,\"zerolinewidth\":2},\"scene\":{\"xaxis\":{\"backgroundcolor\":\"#E5ECF6\",\"gridcolor\":\"white\",\"linecolor\":\"white\",\"showbackground\":true,\"ticks\":\"\",\"zerolinecolor\":\"white\",\"gridwidth\":2},\"yaxis\":{\"backgroundcolor\":\"#E5ECF6\",\"gridcolor\":\"white\",\"linecolor\":\"white\",\"showbackground\":true,\"ticks\":\"\",\"zerolinecolor\":\"white\",\"gridwidth\":2},\"zaxis\":{\"backgroundcolor\":\"#E5ECF6\",\"gridcolor\":\"white\",\"linecolor\":\"white\",\"showbackground\":true,\"ticks\":\"\",\"zerolinecolor\":\"white\",\"gridwidth\":2}},\"shapedefaults\":{\"line\":{\"color\":\"#2a3f5f\"}},\"annotationdefaults\":{\"arrowcolor\":\"#2a3f5f\",\"arrowhead\":0,\"arrowwidth\":1},\"geo\":{\"bgcolor\":\"white\",\"landcolor\":\"#E5ECF6\",\"subunitcolor\":\"white\",\"showland\":true,\"showlakes\":true,\"lakecolor\":\"white\"},\"title\":{\"x\":0.05},\"mapbox\":{\"style\":\"light\"}}},\"title\":{\"text\":\"GameStop Stock Price\"},\"xaxis\":{\"title\":{\"text\":\"Date\"}},\"yaxis\":{\"title\":{\"text\":\"Price (USD)\"}}},                        {\"responsive\": true}                    ).then(function(){\n",
       "                            \n",
       "var gd = document.getElementById('0d492e55-75c0-4d68-8698-1809073c075d');\n",
       "var x = new MutationObserver(function (mutations, observer) {{\n",
       "        var display = window.getComputedStyle(gd).display;\n",
       "        if (!display || display === 'none') {{\n",
       "            console.log([gd, 'removed!']);\n",
       "            Plotly.purge(gd);\n",
       "            observer.disconnect();\n",
       "        }}\n",
       "}});\n",
       "\n",
       "// Listen for the removal of the full notebook cells\n",
       "var notebookContainer = gd.closest('#notebook-container');\n",
       "if (notebookContainer) {{\n",
       "    x.observe(notebookContainer, {childList: true});\n",
       "}}\n",
       "\n",
       "// Listen for the clearing of the current output cell\n",
       "var outputEl = gd.closest('.output');\n",
       "if (outputEl) {{\n",
       "    x.observe(outputEl, {childList: true});\n",
       "}}\n",
       "\n",
       "                        })                };                });            </script>        </div>"
      ]
     },
     "metadata": {},
     "output_type": "display_data"
    }
   ],
   "source": [
    "!pip install yfinance plotly\n",
    "import yfinance as yf\n",
    "import plotly.graph_objects as go\n",
    "import pandas as pd\n",
    "\n",
    "# Define the make_graph function (assuming it's similar to previous examples)\n",
    "def make_graph(stock_data, revenue_data, stock_name):\n",
    "    \"\"\"Creates and displays a line graph of stock closing prices.\n",
    "\n",
    "    Args:\n",
    "        stock_data (pd.DataFrame): DataFrame containing stock data with a 'Close' column.\n",
    "        revenue_data (pd.DataFrame): DataFrame containing revenue data (may not be used in this case).\n",
    "        stock_name (str): Name of the stock for the graph title.\n",
    "    \"\"\"\n",
    "    fig = go.Figure(data=[go.Candlestick(\n",
    "                open=stock_data['Open'],\n",
    "                high=stock_data['High'],\n",
    "                low=stock_data['Low'],\n",
    "                close=stock_data['Close'])])\n",
    "\n",
    "    fig.update_layout(title_text=f\"{stock_name} Stock Price\",\n",
    "                      xaxis_title=\"Date\",\n",
    "                      yaxis_title=\"Price (USD)\")\n",
    "\n",
    "    fig.show()\n",
    "\n",
    "\n",
    "# Fetch GameStop stock data\n",
    "gme_data = yf.download(\"GME\", start=\"2020-01-01\", end=\"2021-06-30\")  # Data up to June 2021\n",
    "\n",
    "# Create a dummy revenue DataFrame (since it's not used in make_graph)\n",
    "gme_revenue = pd.DataFrame()  \n",
    "\n",
    "# Call the make_graph function as instructed in the hint\n",
    "make_graph(gme_data, gme_revenue, 'GameStop')"
   ]
  },
  {
   "cell_type": "code",
   "execution_count": null,
   "id": "4511b00b-2158-4efa-af94-20757f78d820",
   "metadata": {},
   "outputs": [],
   "source": []
  }
 ],
 "metadata": {
  "kernelspec": {
   "display_name": "Python 3 (ipykernel)",
   "language": "python",
   "name": "python3"
  },
  "language_info": {
   "codemirror_mode": {
    "name": "ipython",
    "version": 3
   },
   "file_extension": ".py",
   "mimetype": "text/x-python",
   "name": "python",
   "nbconvert_exporter": "python",
   "pygments_lexer": "ipython3",
   "version": "3.12.8"
  }
 },
 "nbformat": 4,
 "nbformat_minor": 5
}
